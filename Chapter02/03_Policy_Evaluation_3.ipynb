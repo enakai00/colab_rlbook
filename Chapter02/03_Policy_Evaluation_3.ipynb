{
  "nbformat": 4,
  "nbformat_minor": 0,
  "metadata": {
    "colab": {
      "name": "03 Policy Evaluation-3.ipynb",
      "provenance": [],
      "include_colab_link": true
    },
    "kernelspec": {
      "name": "python3",
      "display_name": "Python 3"
    }
  },
  "cells": [
    {
      "cell_type": "markdown",
      "metadata": {
        "id": "view-in-github",
        "colab_type": "text"
      },
      "source": [
        "<a href=\"https://colab.research.google.com/github/enakai00/colab_rlbook/blob/master/Chapter02/03_Policy_Evaluation_3.ipynb\" target=\"_parent\"><img src=\"https://colab.research.google.com/assets/colab-badge.svg\" alt=\"Open In Colab\"/></a>"
      ]
    },
    {
      "cell_type": "markdown",
      "metadata": {
        "id": "2d8PoTK1_zB6",
        "colab_type": "text"
      },
      "source": [
        "**[PE3-01]**\n",
        "\n",
        "Import modules."
      ]
    },
    {
      "cell_type": "code",
      "metadata": {
        "id": "OqtU91VDEBVN",
        "colab_type": "code",
        "colab": {}
      },
      "source": [
        "import numpy as np\n",
        "import matplotlib.pyplot as plt\n",
        "import seaborn as sns\n",
        "import matplotlib\n",
        "matplotlib.rcParams['font.size'] = 12"
      ],
      "execution_count": 0,
      "outputs": []
    },
    {
      "cell_type": "markdown",
      "metadata": {
        "id": "ffCEqNII_75A",
        "colab_type": "text"
      },
      "source": [
        "**[PE3-02]**\n",
        "\n",
        "Define the Gridworld class."
      ]
    },
    {
      "cell_type": "code",
      "metadata": {
        "id": "cx9f689KD8zV",
        "colab_type": "code",
        "colab": {}
      },
      "source": [
        "class Gridworld:\n",
        "  def __init__(self, size=6, traps=[], alpha=0):\n",
        "    self.size = size\n",
        "    self.traps = traps\n",
        "    self.alpha = alpha\n",
        "    self.start = (0, 0)\n",
        "    self.goal = (size-1, size-1)\n",
        "\n",
        "    self.states = [(x, y) for x in range(size) for y in range(size)]\n",
        "    self.actions = [(-1, 0), (0, -1), (1, 0), (0, 1)]\n",
        "    \n",
        "    self.policy = {}\n",
        "    for s in self.states:\n",
        "      self.policy[(s, (-1, 0))] = 0\n",
        "      self.policy[(s, (0, -1))] = 0\n",
        "      self.policy[(s, (1, 0))] = 1/2\n",
        "      self.policy[(s, (0, 1))] = 1/2\n",
        "\n",
        "    self.value = {}\n",
        "    for s in self.states:\n",
        "      self.value[s] = 0\n",
        "   \n",
        "  def move(self, s, a):\n",
        "    if s == self.goal:\n",
        "      return [(1, 0, s)]  # Probability, Reward, Next state\n",
        "\n",
        "    s_new = (s[0] + a[0], s[1] + a[1])\n",
        "\n",
        "    if s_new not in self.states:\n",
        "      return [(1, 0, s)]  # Probability, Reward, Next state\n",
        "\n",
        "    if s_new in self.traps:\n",
        "      # Probability, Reward, Next state\n",
        "      return [(self.alpha, -1, self.start), (1-self.alpha, -1, self.goal)]\n",
        "\n",
        "    return [(1, -1, s_new)]   # Probability, Reward, Next state"
      ],
      "execution_count": 0,
      "outputs": []
    },
    {
      "cell_type": "markdown",
      "metadata": {
        "id": "D1Yo5MK-KrXN",
        "colab_type": "text"
      },
      "source": [
        "**[PE3-03]**\n",
        "\n",
        "Define a function to show state values."
      ]
    },
    {
      "cell_type": "code",
      "metadata": {
        "id": "GgXeij8O7Vds",
        "colab_type": "code",
        "colab": {}
      },
      "source": [
        "  def show_values(world, subplot=None, title='Values'):\n",
        "    if not subplot:\n",
        "      fig = plt.figure(figsize=(world.size*0.8, world.size*0.8))\n",
        "      subplot = fig.add_subplot(1, 1, 1)\n",
        "\n",
        "    result = np.zeros([world.size, world.size])\n",
        "    for (x, y) in world.states:\n",
        "      if (x, y) in world.traps:\n",
        "        result[y][x] = None\n",
        "      else:\n",
        "        result[y][x]  = world.value[(x, y)]\n",
        "    sns.heatmap(result, square=True, cbar=False,\n",
        "                annot=True, fmt='3.1f', cmap='coolwarm',\n",
        "                ax=subplot).set_title(title)"
      ],
      "execution_count": 0,
      "outputs": []
    },
    {
      "cell_type": "markdown",
      "metadata": {
        "id": "tW5bhVPEKyDj",
        "colab_type": "text"
      },
      "source": [
        "**[PE3-04]**\n",
        "\n",
        "Define a function to apply the policy evaluation algorithm until conversion."
      ]
    },
    {
      "cell_type": "code",
      "metadata": {
        "id": "vqcj4VEEyBbX",
        "colab_type": "code",
        "colab": {}
      },
      "source": [
        "def policy_eval(world, gamma=1, delta=0.01):\n",
        "  while True:\n",
        "    delta_max = 0\n",
        "    for s in world.states:\n",
        "      v_new = 0\n",
        "      for a in world.actions:\n",
        "        results = world.move(s, a)\n",
        "        for p, r, s_new in results:\n",
        "          v_new += world.policy[(s, a)] * p * (r + gamma * world.value[s_new])\n",
        "      delta_max = max(delta_max, abs(world.value[s] - v_new))\n",
        "      world.value[s] = v_new\n",
        "\n",
        "    if delta_max < delta:\n",
        "      break"
      ],
      "execution_count": 0,
      "outputs": []
    },
    {
      "cell_type": "markdown",
      "metadata": {
        "id": "wnuDc0J4N3dX",
        "colab_type": "text"
      },
      "source": [
        "**[PE3-05]**\n",
        "\n",
        "Create a Gridworld instance with a trap wall (α=0.8), and apply the policy evaluation algorithm."
      ]
    },
    {
      "cell_type": "code",
      "metadata": {
        "id": "YwvrVFK1q9XF",
        "colab_type": "code",
        "outputId": "ee6fc85d-5f2e-444c-8478-8c06b28dc5bf",
        "colab": {
          "base_uri": "https://localhost:8080/",
          "height": 329
        }
      },
      "source": [
        "world = Gridworld(size=6, traps=[(4, y) for y in range(4)], alpha=0.8)\n",
        "policy_eval(world)\n",
        "show_values(world, title='Final values')"
      ],
      "execution_count": 0,
      "outputs": [
        {
          "output_type": "display_data",
          "data": {
            "image/png": "[encoded data removed]",
            "text/plain": [
              "<Figure size 345.6x345.6 with 1 Axes>"
            ]
          },
          "metadata": {
            "tags": []
          }
        }
      ]
    },
    {
      "cell_type": "markdown",
      "metadata": {
        "id": "AhGmWD5pzI5l",
        "colab_type": "text"
      },
      "source": [
        "**[PE3-06]**\n",
        "\n",
        "Create a Gridworld instance with a trap wall (α=0.2), and apply the policy evaluation algorithm."
      ]
    },
    {
      "cell_type": "code",
      "metadata": {
        "id": "aja6vowFaiIc",
        "colab_type": "code",
        "outputId": "89daf831-4e73-45fb-a647-66fd7bdced8d",
        "colab": {
          "base_uri": "https://localhost:8080/",
          "height": 329
        }
      },
      "source": [
        "world = Gridworld(size=6, traps=[(4, y) for y in range(4)], alpha=0.2)\n",
        "policy_eval(world)\n",
        "show_values(world, title='Final values')"
      ],
      "execution_count": 0,
      "outputs": [
        {
          "output_type": "display_data",
          "data": {
            "image/png": "[encoded data removed]",
            "text/plain": [
              "<Figure size 345.6x345.6 with 1 Axes>"
            ]
          },
          "metadata": {
            "tags": []
          }
        }
      ]
    }
  ]
}
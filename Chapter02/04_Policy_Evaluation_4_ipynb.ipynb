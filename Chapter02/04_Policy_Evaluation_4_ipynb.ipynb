{
  "nbformat": 4,
  "nbformat_minor": 0,
  "metadata": {
    "colab": {
      "name": "04 Policy Evaluation-4.ipynb のコピー",
      "provenance": [],
      "include_colab_link": true
    },
    "kernelspec": {
      "name": "python3",
      "display_name": "Python 3"
    }
  },
  "cells": [
    {
      "cell_type": "markdown",
      "metadata": {
        "id": "view-in-github",
        "colab_type": "text"
      },
      "source": [
        "<a href=\"https://colab.research.google.com/github/enakai00/colab_rlbook/blob/master/Chapter02/04_Policy_Evaluation_4_ipynb.ipynb\" target=\"_parent\"><img src=\"https://colab.research.google.com/assets/colab-badge.svg\" alt=\"Open In Colab\"/></a>"
      ]
    },
    {
      "cell_type": "markdown",
      "metadata": {
        "id": "2d8PoTK1_zB6",
        "colab_type": "text"
      },
      "source": [
        "**[PE4-01]**\n",
        "\n",
        "Import modules."
      ]
    },
    {
      "cell_type": "code",
      "metadata": {
        "id": "OqtU91VDEBVN",
        "colab_type": "code",
        "colab": {}
      },
      "source": [
        "import numpy as np\n",
        "import matplotlib.pyplot as plt\n",
        "import seaborn as sns\n",
        "import matplotlib\n",
        "matplotlib.rcParams['font.size'] = 12"
      ],
      "execution_count": 0,
      "outputs": []
    },
    {
      "cell_type": "markdown",
      "metadata": {
        "id": "ffCEqNII_75A",
        "colab_type": "text"
      },
      "source": [
        "**[PE4-02]**\n",
        "\n",
        "Define the Gridworld class."
      ]
    },
    {
      "cell_type": "code",
      "metadata": {
        "id": "cx9f689KD8zV",
        "colab_type": "code",
        "colab": {}
      },
      "source": [
        "class Gridworld:\n",
        "  def __init__(self, size=8, goals=[7], penalty=0):\n",
        "    self.size = size\n",
        "    self.goals = goals\n",
        "    self.penalty = penalty\n",
        "\n",
        "    self.states = range(size)\n",
        "    self.actions = [-1, 1]\n",
        "    self.policy = {}\n",
        "    self.value = {}\n",
        "    for s in self.states:\n",
        "      self.value[s] = 0\n",
        "   \n",
        "  def move(self, s, a):\n",
        "    if s in self.goals:\n",
        "      return 0, s   # Reward, Next state\n",
        "    \n",
        "    s_new = s + a\n",
        "\n",
        "    if s_new not in self.states:\n",
        "      return self.penalty, s  # Reward, Next state\n",
        "    \n",
        "    if s_new in self.goals:\n",
        "      return 1, s_new   # Reward, Next state\n",
        "    \n",
        "    return self.penalty, s_new  # Reward, Next state"
      ],
      "execution_count": 0,
      "outputs": []
    },
    {
      "cell_type": "markdown",
      "metadata": {
        "id": "D1Yo5MK-KrXN",
        "colab_type": "text"
      },
      "source": [
        "**[PE4-03]**\n",
        "\n",
        "Define a function to show state values."
      ]
    },
    {
      "cell_type": "code",
      "metadata": {
        "id": "GgXeij8O7Vds",
        "colab_type": "code",
        "colab": {}
      },
      "source": [
        "  def show_values(world, subplot=None, title=None):\n",
        "    if not subplot:\n",
        "      fig = plt.figure(figsize=(world.size*0.8, 1.7))\n",
        "      subplot = fig.add_subplot(1, 1, 1)\n",
        "\n",
        "    result = np.zeros([1, world.size])\n",
        "    for s in world.states:\n",
        "      result[0][s]  = world.value[s]\n",
        "    sns.heatmap(result, square=True, cbar=False, yticklabels=[],\n",
        "                annot=True, fmt='3.1f', cmap='coolwarm',\n",
        "                ax=subplot).set_title(title)"
      ],
      "execution_count": 0,
      "outputs": []
    },
    {
      "cell_type": "markdown",
      "metadata": {
        "id": "tW5bhVPEKyDj",
        "colab_type": "text"
      },
      "source": [
        "**[PE1-04]**\n",
        "\n",
        "Define a function to apply the policy evaluation algorithm."
      ]
    },
    {
      "cell_type": "code",
      "metadata": {
        "id": "vqcj4VEEyBbX",
        "colab_type": "code",
        "colab": {}
      },
      "source": [
        "def policy_eval(world, gamma=1.0, trace=False):\n",
        "  if trace:\n",
        "    fig = plt.figure(figsize=(world.size*0.8, len(world.states)*1.7))\n",
        "\n",
        "  for s in world.states:\n",
        "    v_new = 0\n",
        "    for a in world.actions:\n",
        "      r, s_new = world.move(s, a)\n",
        "      v_new += world.policy[(s, a)] * (r + gamma * world.value[s_new])\n",
        "    world.value[s] = v_new\n",
        "\n",
        "    if trace:\n",
        "      subplot = fig.add_subplot(world.size, 1, s+1)\n",
        "      show_values(world, subplot, title='Update on s={}'.format(s))"
      ],
      "execution_count": 0,
      "outputs": []
    },
    {
      "cell_type": "markdown",
      "metadata": {
        "id": "wnuDc0J4N3dX",
        "colab_type": "text"
      },
      "source": [
        "**[PE4-05]**\n",
        "\n",
        "Create a gridworld instance and define a policy to keep moving left."
      ]
    },
    {
      "cell_type": "code",
      "metadata": {
        "id": "hyTX_m-dEgT9",
        "colab_type": "code",
        "outputId": "c04c783a-8448-4d33-eadc-ab26f8b70a01",
        "colab": {
          "base_uri": "https://localhost:8080/",
          "height": 113
        }
      },
      "source": [
        "world = Gridworld(size=8, goals=[0])\n",
        "for s in world.states:\n",
        "  world.policy[(s, 1)] = 0\n",
        "  world.policy[(s, -1)] = 1\n",
        "\n",
        "show_values(world, title='Initial values')"
      ],
      "execution_count": 5,
      "outputs": [
        {
          "output_type": "display_data",
          "data": {
            "image/png": "[encoded data removed]",
            "text/plain": [
              "<Figure size 460.8x122.4 with 1 Axes>"
            ]
          },
          "metadata": {
            "tags": []
          }
        }
      ]
    },
    {
      "cell_type": "markdown",
      "metadata": {
        "id": "lSCXUaLLOMd_",
        "colab_type": "text"
      },
      "source": [
        "**[PE4-06]**\n",
        "\n",
        "Apply the policy evaluation algorithm for a single iteration."
      ]
    },
    {
      "cell_type": "code",
      "metadata": {
        "id": "emO4LyMjxE2W",
        "colab_type": "code",
        "outputId": "4927bbf3-7829-48ce-b567-bbf25013cfa0",
        "colab": {
          "base_uri": "https://localhost:8080/",
          "height": 773
        }
      },
      "source": [
        "policy_eval(world, trace=True)"
      ],
      "execution_count": 6,
      "outputs": [
        {
          "output_type": "display_data",
          "data": {
            "image/png": "[encoded data removed]",
            "text/plain": [
              "<Figure size 460.8x979.2 with 8 Axes>"
            ]
          },
          "metadata": {
            "tags": []
          }
        }
      ]
    },
    {
      "cell_type": "markdown",
      "metadata": {
        "id": "Vw0Y2R17OafO",
        "colab_type": "text"
      },
      "source": [
        "**[PE4-07]**\n",
        "\n",
        "Create a gridworld instance with final states at both ends, and define a policy to move randomly."
      ]
    },
    {
      "cell_type": "code",
      "metadata": {
        "id": "AYWECckDHH0x",
        "colab_type": "code",
        "colab": {
          "base_uri": "https://localhost:8080/",
          "height": 113
        },
        "outputId": "9e419d8f-fca5-48fa-f3c4-efd29860ffbd"
      },
      "source": [
        "world = Gridworld(size=8, goals=[0, 7])\n",
        "for s in world.states:\n",
        "  world.policy[(s, 1)] = 1/2\n",
        "  world.policy[(s, -1)] = 1/2\n",
        "\n",
        "show_values(world, title='Initial values')"
      ],
      "execution_count": 7,
      "outputs": [
        {
          "output_type": "display_data",
          "data": {
            "image/png": "[encoded data removed]",
            "text/plain": [
              "<Figure size 460.8x122.4 with 1 Axes>"
            ]
          },
          "metadata": {
            "tags": []
          }
        }
      ]
    },
    {
      "cell_type": "markdown",
      "metadata": {
        "id": "ycsIrwQSe3yL",
        "colab_type": "text"
      },
      "source": [
        "**[PE4-08]**\n",
        "\n",
        "Apply the policy evaluation algorithm for three iterations."
      ]
    },
    {
      "cell_type": "code",
      "metadata": {
        "id": "FwdSWmVVHp8h",
        "colab_type": "code",
        "colab": {
          "base_uri": "https://localhost:8080/",
          "height": 305
        },
        "outputId": "220957b1-ceb9-466a-f5be-ce97cefb3951"
      },
      "source": [
        "policy_eval(world)\n",
        "show_values(world, title='First iteration')\n",
        "\n",
        "policy_eval(world)\n",
        "show_values(world, title='Second iteration')\n",
        "\n",
        "policy_eval(world)\n",
        "show_values(world, title='Third iteration')"
      ],
      "execution_count": 8,
      "outputs": [
        {
          "output_type": "display_data",
          "data": {
            "image/png": "[encoded data removed]",
            "text/plain": [
              "<Figure size 460.8x122.4 with 1 Axes>"
            ]
          },
          "metadata": {
            "tags": []
          }
        },
        {
          "output_type": "display_data",
          "data": {
            "image/png": "[encoded data removed]",
            "text/plain": [
              "<Figure size 460.8x122.4 with 1 Axes>"
            ]
          },
          "metadata": {
            "tags": []
          }
        },
        {
          "output_type": "display_data",
          "data": {
            "image/png": "[encoded data removed]",
            "text/plain": [
              "<Figure size 460.8x122.4 with 1 Axes>"
            ]
          },
          "metadata": {
            "tags": []
          }
        }
      ]
    },
    {
      "cell_type": "markdown",
      "metadata": {
        "id": "HNUdUC0G169a",
        "colab_type": "text"
      },
      "source": [
        "**[PE4-09]**\n",
        "\n",
        "Apply the policy evaluation algorithm until the conversion."
      ]
    },
    {
      "cell_type": "code",
      "metadata": {
        "id": "ISlXjFlq6jC4",
        "colab_type": "code",
        "outputId": "278d04ee-4672-42ca-f5d3-825064023fe2",
        "colab": {
          "base_uri": "https://localhost:8080/",
          "height": 113
        }
      },
      "source": [
        "for _ in range(100):\n",
        "  policy_eval(world)\n",
        "\n",
        "show_values(world, title='Final values')"
      ],
      "execution_count": 9,
      "outputs": [
        {
          "output_type": "display_data",
          "data": {
            "image/png": "[encoded data removed]",
            "text/plain": [
              "<Figure size 460.8x122.4 with 1 Axes>"
            ]
          },
          "metadata": {
            "tags": []
          }
        }
      ]
    }
  ]
}
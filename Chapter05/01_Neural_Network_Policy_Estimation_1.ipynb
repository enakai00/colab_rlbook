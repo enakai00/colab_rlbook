{
  "nbformat": 4,
  "nbformat_minor": 0,
  "metadata": {
    "colab": {
      "name": "01 Neural Network Policy Estimation-1.ipynb",
      "provenance": [],
      "include_colab_link": true
    },
    "kernelspec": {
      "name": "python3",
      "display_name": "Python 3"
    }
  },
  "cells": [
    {
      "cell_type": "markdown",
      "metadata": {
        "id": "view-in-github",
        "colab_type": "text"
      },
      "source": [
        "<a href=\"https://colab.research.google.com/github/enakai00/colab_rlbook/blob/master/Chapter05/01_Neural_Network_Policy_Estimation_1.ipynb\" target=\"_parent\"><img src=\"https://colab.research.google.com/assets/colab-badge.svg\" alt=\"Open In Colab\"/></a>"
      ]
    },
    {
      "cell_type": "code",
      "metadata": {
        "id": "bzsWr-VHKQ_x",
        "colab_type": "code",
        "colab": {
          "base_uri": "https://localhost:8080/",
          "height": 34
        },
        "outputId": "dbffbc66-2e0b-47f1-fbc8-f33fc76b7792"
      },
      "source": [
        "%tensorflow_version 2.x "
      ],
      "execution_count": 1,
      "outputs": [
        {
          "output_type": "stream",
          "text": [
            "TensorFlow 2.x selected.\n"
          ],
          "name": "stdout"
        }
      ]
    },
    {
      "cell_type": "code",
      "metadata": {
        "id": "uxl0MUcjZS37",
        "colab_type": "code",
        "colab": {}
      },
      "source": [
        "import numpy as np\n",
        "import tensorflow as tf\n",
        "from tensorflow.keras import layers, models, initializers"
      ],
      "execution_count": 0,
      "outputs": []
    },
    {
      "cell_type": "code",
      "metadata": {
        "id": "dsMHAlFTgGCs",
        "colab_type": "code",
        "colab": {}
      },
      "source": [
        "class Gridworld:\n",
        "  def __init__(self, size=8, goals=[7]):\n",
        "    self.size = size\n",
        "    self.goals = goals\n",
        "    self.states = range(size)\n",
        "\n",
        "  def move(self, s, a):\n",
        "    if s in self.goals:\n",
        "      return 0, s       # Reward, Next state\n",
        "\n",
        "    s_new = s + a\n",
        "\n",
        "    if s_new in self.goals:\n",
        "      return 1, s_new   # Reward, Next state\n",
        "\n",
        "    if s_new not in self.states:\n",
        "      return -1, s      # Reward, Next state\n",
        "\n",
        "    return -1, s_new    # Reward, Next state"
      ],
      "execution_count": 0,
      "outputs": []
    },
    {
      "cell_type": "code",
      "metadata": {
        "id": "3TWxe5DjPAQU",
        "colab_type": "code",
        "colab": {}
      },
      "source": [
        "class StateValue:\n",
        "  def __init__(self):\n",
        "    self.model = self.build_model()\n",
        "\n",
        "  def build_model(self):\n",
        "    state = layers.Input(shape=(1,), name='state_input')\n",
        "    value = layers.Dense(1, kernel_initializer=initializers.TruncatedNormal(),\n",
        "                         name='linear_function')(state)\n",
        "    model = models.Model(inputs=state, outputs=value)\n",
        "    model.compile(optimizer='adam', loss='mse')\n",
        "    return model\n",
        "\n",
        "  def get_value(self, world, s):\n",
        "    if s in world.goals:\n",
        "      return 0\n",
        "    input_states = [np.array([s])]\n",
        "    output_values = self.model.predict([input_states])\n",
        "    value = output_values[0][0]\n",
        "    return value"
      ],
      "execution_count": 0,
      "outputs": []
    },
    {
      "cell_type": "code",
      "metadata": {
        "id": "ltSHgYpCg_Jc",
        "colab_type": "code",
        "colab": {}
      },
      "source": [
        "def show_values(world, state_value):\n",
        "  print('[ ', end='')\n",
        "  for s in world.states:\n",
        "    print('{:5.2f}'.format(state_value.get_value(world, s)), end=' ')\n",
        "  print(']')"
      ],
      "execution_count": 0,
      "outputs": []
    },
    {
      "cell_type": "code",
      "metadata": {
        "id": "q5B__WAxPCgC",
        "colab_type": "code",
        "colab": {
          "base_uri": "https://localhost:8080/",
          "height": 221
        },
        "outputId": "da748085-5731-401e-c343-bfde7b7b7819"
      },
      "source": [
        "state_value = StateValue()\n",
        "state_value.model.summary()"
      ],
      "execution_count": 6,
      "outputs": [
        {
          "output_type": "stream",
          "text": [
            "Model: \"model\"\n",
            "_________________________________________________________________\n",
            "Layer (type)                 Output Shape              Param #   \n",
            "=================================================================\n",
            "state_input (InputLayer)     [(None, 1)]               0         \n",
            "_________________________________________________________________\n",
            "linear_function (Dense)      (None, 1)                 2         \n",
            "=================================================================\n",
            "Total params: 2\n",
            "Trainable params: 2\n",
            "Non-trainable params: 0\n",
            "_________________________________________________________________\n"
          ],
          "name": "stdout"
        }
      ]
    },
    {
      "cell_type": "code",
      "metadata": {
        "id": "jLvGh76GPZ-c",
        "colab_type": "code",
        "colab": {}
      },
      "source": [
        "def get_episode(world):\n",
        "  episode = []\n",
        "  s = np.random.randint(world.size-1)\n",
        "  a = 1 # Always move to right\n",
        "  while True:\n",
        "    r, s_new = world.move(s, a)\n",
        "    episode.append((s, r, s_new))\n",
        "    if s_new in world.goals:\n",
        "      break\n",
        "    s = s_new\n",
        "\n",
        "  return episode"
      ],
      "execution_count": 0,
      "outputs": []
    },
    {
      "cell_type": "code",
      "metadata": {
        "id": "p23cs6rYQoou",
        "colab_type": "code",
        "colab": {}
      },
      "source": [
        "def train(world, state_value, num):\n",
        "  for c in range(num):\n",
        "    print('Iteration {} : '.format(c+1), end='')\n",
        "    examples = []\n",
        "    for _ in range(200):\n",
        "      episode = get_episode(world)\n",
        "      examples += get_episode(world)\n",
        "    np.random.shuffle(examples)\n",
        "\n",
        "    states, labels = [], []\n",
        "    for s, r, s_new in examples:\n",
        "      states.append(np.array([s]))\n",
        "      v_new = state_value.get_value(world, s_new)\n",
        "      labels.append(np.array(r + v_new))\n",
        "\n",
        "    state_value.model.fit(np.array(states), np.array(labels),\n",
        "                          batch_size=50, epochs=100, verbose=0)\n",
        "    show_values(world, state_value)"
      ],
      "execution_count": 0,
      "outputs": []
    },
    {
      "cell_type": "code",
      "metadata": {
        "id": "mi_cc26iQkIF",
        "colab_type": "code",
        "colab": {}
      },
      "source": [
        "world = Gridworld()\n",
        "state_value = StateValue()"
      ],
      "execution_count": 0,
      "outputs": []
    },
    {
      "cell_type": "code",
      "metadata": {
        "id": "5cYQKYu-VfA_",
        "colab_type": "code",
        "colab": {
          "base_uri": "https://localhost:8080/",
          "height": 357
        },
        "outputId": "a3eaee8b-edf6-47b2-9330-e70ebea8ccb8"
      },
      "source": [
        "train(world, state_value, num=20)"
      ],
      "execution_count": 11,
      "outputs": [
        {
          "output_type": "stream",
          "text": [
            "Iteration 1 : [ -1.11 -0.92 -0.74 -0.56 -0.38 -0.20 -0.01  0.00 ]\n",
            "Iteration 2 : [ -2.25 -1.85 -1.46 -1.07 -0.68 -0.29  0.10  0.00 ]\n",
            "Iteration 3 : [ -3.22 -2.63 -2.05 -1.46 -0.88 -0.29  0.30  0.00 ]\n",
            "Iteration 4 : [ -4.01 -3.26 -2.51 -1.76 -1.00 -0.25  0.50  0.00 ]\n",
            "Iteration 5 : [ -4.55 -3.68 -2.81 -1.94 -1.07 -0.20  0.67  0.00 ]\n",
            "Iteration 6 : [ -4.87 -3.92 -2.98 -2.03 -1.08 -0.13  0.82  0.00 ]\n",
            "Iteration 7 : [ -5.03 -4.04 -3.05 -2.06 -1.07 -0.08  0.91  0.00 ]\n",
            "Iteration 8 : [ -5.08 -4.07 -3.07 -2.06 -1.05 -0.05  0.96  0.00 ]\n",
            "Iteration 9 : [ -5.09 -4.07 -3.06 -2.05 -1.04 -0.02  0.99  0.00 ]\n",
            "Iteration 10 : [ -5.07 -4.06 -3.05 -2.04 -1.02 -0.01  1.00  0.00 ]\n",
            "Iteration 11 : [ -5.06 -4.05 -3.04 -2.03 -1.02 -0.01  1.00  0.00 ]\n",
            "Iteration 12 : [ -5.04 -4.03 -3.02 -2.02 -1.01 -0.00  1.01  0.00 ]\n",
            "Iteration 13 : [ -5.03 -4.02 -3.01 -2.01 -1.00  0.00  1.01  0.00 ]\n",
            "Iteration 14 : [ -5.01 -4.01 -3.01 -2.00 -1.00  0.00  1.01  0.00 ]\n",
            "Iteration 15 : [ -5.01 -4.00 -3.00 -2.00 -1.00  0.00  1.00  0.00 ]\n",
            "Iteration 16 : [ -5.00 -4.00 -3.00 -2.00 -1.00  0.00  1.00  0.00 ]\n",
            "Iteration 17 : [ -5.00 -4.00 -3.00 -2.00 -1.00  0.00  1.00  0.00 ]\n",
            "Iteration 18 : [ -5.00 -4.00 -3.00 -2.00 -1.00  0.00  1.00  0.00 ]\n",
            "Iteration 19 : [ -5.00 -4.00 -3.00 -2.00 -1.00  0.00  1.00  0.00 ]\n",
            "Iteration 20 : [ -5.00 -4.00 -3.00 -2.00 -1.00 -0.00  1.00  0.00 ]\n"
          ],
          "name": "stdout"
        }
      ]
    }
  ]
}
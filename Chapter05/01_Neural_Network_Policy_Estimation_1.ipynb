{
  "nbformat": 4,
  "nbformat_minor": 0,
  "metadata": {
    "colab": {
      "provenance": []
    },
    "kernelspec": {
      "name": "python3",
      "display_name": "Python 3"
    }
  },
  "cells": [
    {
      "cell_type": "markdown",
      "metadata": {
        "id": "-8hrCcdU7oG5"
      },
      "source": [
        "\b**[NP1-01]**\n",
        "\n",
        "Specify the TensorFlow version."
      ]
    },
    {
      "cell_type": "code",
      "metadata": {
        "id": "bzsWr-VHKQ_x",
        "colab": {
          "base_uri": "https://localhost:8080/"
        },
        "outputId": "839ca4b0-467b-4fad-98d5-1038ad7212e1"
      },
      "source": [
        "%tensorflow_version 2.x"
      ],
      "execution_count": 1,
      "outputs": [
        {
          "output_type": "stream",
          "name": "stdout",
          "text": [
            "Colab only includes TensorFlow 2.x; %tensorflow_version has no effect.\n"
          ]
        }
      ]
    },
    {
      "cell_type": "markdown",
      "metadata": {
        "id": "wjT0_io77wST"
      },
      "source": [
        "\b**[NP1-02]**\n",
        "\n",
        "Import modules."
      ]
    },
    {
      "cell_type": "code",
      "metadata": {
        "id": "uxl0MUcjZS37"
      },
      "source": [
        "import os\n",
        "os.environ['TF_USE_LEGACY_KERAS'] = '1'\n",
        "\n",
        "import numpy as np\n",
        "from tensorflow.keras import layers, models"
      ],
      "execution_count": 2,
      "outputs": []
    },
    {
      "cell_type": "markdown",
      "metadata": {
        "id": "-4wWqH2f7_L3"
      },
      "source": [
        "**[NP1-03]**\n",
        "\n",
        "Define the Gridworld class."
      ]
    },
    {
      "cell_type": "code",
      "metadata": {
        "id": "dsMHAlFTgGCs"
      },
      "source": [
        "class Gridworld:\n",
        "  def __init__(self, size=8, goals=[7]):\n",
        "    self.size = size\n",
        "    self.goals = goals\n",
        "    self.states = range(size)\n",
        "\n",
        "  def move(self, s, a):\n",
        "    if s in self.goals:\n",
        "      return 0, s       # Reward, Next state\n",
        "\n",
        "    s_new = s + a\n",
        "\n",
        "    if s_new in self.goals:\n",
        "      return 1, s_new   # Reward, Next state\n",
        "\n",
        "    if s_new not in self.states:\n",
        "      return -1, s      # Reward, Next state\n",
        "\n",
        "    return -1, s_new    # Reward, Next state"
      ],
      "execution_count": 3,
      "outputs": []
    },
    {
      "cell_type": "markdown",
      "metadata": {
        "id": "AWiaHYyz8CZS"
      },
      "source": [
        "**[NP1-04]**\n",
        "\n",
        "Define the StateValue class."
      ]
    },
    {
      "cell_type": "code",
      "metadata": {
        "id": "3TWxe5DjPAQU"
      },
      "source": [
        "class StateValue:\n",
        "  def __init__(self, goals):\n",
        "    self.goals = goals\n",
        "    self.model = self.build_model()\n",
        "\n",
        "  def build_model(self):\n",
        "    state = layers.Input(shape=(1,))\n",
        "    value = layers.Dense(1)(state)\n",
        "    model = models.Model(inputs=[state], outputs=[value])\n",
        "    model.compile(loss='mse')\n",
        "    return model\n",
        "\n",
        "  def get_value(self, s):\n",
        "    if s in self.goals:\n",
        "      return 0\n",
        "    input_states = [np.array([s])]\n",
        "    output_values = self.model.predict([np.array(input_states)], verbose=0)\n",
        "    value = output_values[0][0]\n",
        "    return value"
      ],
      "execution_count": 4,
      "outputs": []
    },
    {
      "cell_type": "markdown",
      "metadata": {
        "id": "9rueu7hb8O-l"
      },
      "source": [
        "**[NP1-05]**\n",
        "\n",
        "Define a function to show state values."
      ]
    },
    {
      "cell_type": "code",
      "metadata": {
        "id": "ltSHgYpCg_Jc"
      },
      "source": [
        "def show_values(world, state_value):\n",
        "  print('[', end='')\n",
        "  for s in world.states:\n",
        "    print('{:5.1f}'.format(state_value.get_value(s)), end=' ')\n",
        "  print(']')"
      ],
      "execution_count": 5,
      "outputs": []
    },
    {
      "cell_type": "markdown",
      "metadata": {
        "id": "D4u8uiTR8T1M"
      },
      "source": [
        "**[NP1-06]**\n",
        "\n",
        "Define a function to get a single episode."
      ]
    },
    {
      "cell_type": "code",
      "metadata": {
        "id": "jLvGh76GPZ-c"
      },
      "source": [
        "def get_episode(world):\n",
        "  episode = []\n",
        "  s = np.random.randint(world.size-1)\n",
        "  a = 1   # move to right\n",
        "  while True:\n",
        "    r, s_new = world.move(s, a)\n",
        "    episode.append((s, r, s_new))\n",
        "    if s_new in world.goals:\n",
        "      break\n",
        "    s = s_new\n",
        "\n",
        "  return episode"
      ],
      "execution_count": 6,
      "outputs": []
    },
    {
      "cell_type": "markdown",
      "metadata": {
        "id": "DUo5quOC8gEq"
      },
      "source": [
        "**[NP1-07]**\n",
        "\n",
        "Define a function to train the model."
      ]
    },
    {
      "cell_type": "code",
      "metadata": {
        "id": "p23cs6rYQoou"
      },
      "source": [
        "def train(world, state_value, num):\n",
        "  for c in range(num):\n",
        "    print('Iteration {:2d}: '.format(c+1), end='')\n",
        "\n",
        "    examples = []\n",
        "    for _ in range(100):\n",
        "      episode = get_episode(world)\n",
        "      examples += episode\n",
        "    np.random.shuffle(examples)\n",
        "\n",
        "    states = []\n",
        "    labels = []\n",
        "    for s, r, s_new in examples:\n",
        "      states.append(np.array([s]))\n",
        "      v_new = state_value.get_value(s_new)\n",
        "      labels.append(np.array(r + v_new))\n",
        "\n",
        "    state_value.model.fit([np.array(states)], np.array(labels),\n",
        "                          batch_size=50, epochs=100, verbose=0)\n",
        "    show_values(world, state_value)"
      ],
      "execution_count": 7,
      "outputs": []
    },
    {
      "cell_type": "markdown",
      "metadata": {
        "id": "a9_qPmUx8mCq"
      },
      "source": [
        "**[NP1-08]**\n",
        "\n",
        "Create a Gridworld instance and a StateValue instance."
      ]
    },
    {
      "cell_type": "code",
      "metadata": {
        "id": "mi_cc26iQkIF",
        "outputId": "964b4a9b-5b02-41a2-b249-d211995b61a6",
        "colab": {
          "base_uri": "https://localhost:8080/"
        }
      },
      "source": [
        "world = Gridworld()\n",
        "state_value = StateValue(goals=world.goals)\n",
        "state_value.model.summary()"
      ],
      "execution_count": 8,
      "outputs": [
        {
          "output_type": "stream",
          "name": "stdout",
          "text": [
            "Model: \"model\"\n",
            "_________________________________________________________________\n",
            " Layer (type)                Output Shape              Param #   \n",
            "=================================================================\n",
            " input_1 (InputLayer)        [(None, 1)]               0         \n",
            "                                                                 \n",
            " dense (Dense)               (None, 1)                 2         \n",
            "                                                                 \n",
            "=================================================================\n",
            "Total params: 2 (8.00 Byte)\n",
            "Trainable params: 2 (8.00 Byte)\n",
            "Non-trainable params: 0 (0.00 Byte)\n",
            "_________________________________________________________________\n"
          ]
        }
      ]
    },
    {
      "cell_type": "markdown",
      "metadata": {
        "id": "HDGBlCME8xJL"
      },
      "source": [
        "**[NP1-09]**\n",
        "\n",
        "Train the model."
      ]
    },
    {
      "cell_type": "code",
      "metadata": {
        "id": "5cYQKYu-VfA_",
        "outputId": "899dcc0f-1f3f-45b7-cc70-9fdb647efc5c",
        "colab": {
          "base_uri": "https://localhost:8080/"
        }
      },
      "source": [
        "train(world, state_value, num=20)"
      ],
      "execution_count": 9,
      "outputs": [
        {
          "output_type": "stream",
          "name": "stdout",
          "text": [
            "Iteration  1: [ -0.7  -0.6  -0.5  -0.4  -0.2  -0.1   0.0   0.0 ]\n",
            "Iteration  2: [ -1.4  -1.2  -0.9  -0.7  -0.5  -0.3  -0.1   0.0 ]\n",
            "Iteration  3: [ -1.9  -1.6  -1.3  -1.0  -0.7  -0.4  -0.1   0.0 ]\n",
            "Iteration  4: [ -2.5  -2.1  -1.7  -1.3  -0.8  -0.4  -0.0   0.0 ]\n",
            "Iteration  5: [ -3.2  -2.6  -2.1  -1.5  -0.9  -0.4   0.2   0.0 ]\n",
            "Iteration  6: [ -3.8  -3.1  -2.4  -1.7  -1.0  -0.3   0.4   0.0 ]\n",
            "Iteration  7: [ -4.3  -3.5  -2.7  -1.9  -1.1  -0.3   0.6   0.0 ]\n",
            "Iteration  8: [ -4.7  -3.8  -2.9  -2.0  -1.1  -0.2   0.7   0.0 ]\n",
            "Iteration  9: [ -5.0  -4.0  -3.0  -2.1  -1.1  -0.1   0.8   0.0 ]\n",
            "Iteration 10: [ -5.1  -4.1  -3.1  -2.1  -1.1  -0.1   0.9   0.0 ]\n",
            "Iteration 11: [ -5.1  -4.1  -3.1  -2.1  -1.1  -0.0   1.0   0.0 ]\n",
            "Iteration 12: [ -5.1  -4.1  -3.1  -2.1  -1.0  -0.0   1.0   0.0 ]\n",
            "Iteration 13: [ -5.1  -4.1  -3.0  -2.0  -1.0   0.0   1.0   0.0 ]\n",
            "Iteration 14: [ -5.0  -4.0  -3.0  -2.0  -1.0  -0.0   1.0   0.0 ]\n",
            "Iteration 15: [ -5.0  -4.0  -3.0  -2.0  -1.0   0.0   1.0   0.0 ]\n",
            "Iteration 16: [ -5.0  -4.0  -3.0  -2.0  -1.0   0.0   1.0   0.0 ]\n",
            "Iteration 17: [ -5.0  -4.0  -3.0  -2.0  -1.0   0.0   1.0   0.0 ]\n",
            "Iteration 18: [ -5.0  -4.0  -3.0  -2.0  -1.0   0.0   1.0   0.0 ]\n",
            "Iteration 19: [ -5.0  -4.0  -3.0  -2.0  -1.0   0.0   1.0   0.0 ]\n",
            "Iteration 20: [ -5.0  -4.0  -3.0  -2.0  -1.0   0.0   1.0   0.0 ]\n"
          ]
        }
      ]
    }
  ]
}
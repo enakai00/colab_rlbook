{
  "nbformat": 4,
  "nbformat_minor": 0,
  "metadata": {
    "colab": {
      "name": "01 Neural Network Policy Estimation-1.ipynb",
      "provenance": [],
      "include_colab_link": true
    },
    "kernelspec": {
      "name": "python3",
      "display_name": "Python 3"
    }
  },
  "cells": [
    {
      "cell_type": "markdown",
      "metadata": {
        "id": "view-in-github",
        "colab_type": "text"
      },
      "source": [
        "<a href=\"https://colab.research.google.com/github/enakai00/colab_rlbook/blob/master/Chapter05/01_Neural_Network_Policy_Estimation_1.ipynb\" target=\"_parent\"><img src=\"https://colab.research.google.com/assets/colab-badge.svg\" alt=\"Open In Colab\"/></a>"
      ]
    },
    {
      "cell_type": "markdown",
      "metadata": {
        "id": "-8hrCcdU7oG5",
        "colab_type": "text"
      },
      "source": [
        "\b**[NP1-01]**\n",
        "\n",
        "Specify the TensorFlow version."
      ]
    },
    {
      "cell_type": "code",
      "metadata": {
        "id": "bzsWr-VHKQ_x",
        "colab_type": "code",
        "colab": {}
      },
      "source": [
        "%tensorflow_version 2.x "
      ],
      "execution_count": 0,
      "outputs": []
    },
    {
      "cell_type": "markdown",
      "metadata": {
        "id": "wjT0_io77wST",
        "colab_type": "text"
      },
      "source": [
        "\b**[NP1-02]**\n",
        "\n",
        "Import modules."
      ]
    },
    {
      "cell_type": "code",
      "metadata": {
        "id": "uxl0MUcjZS37",
        "colab_type": "code",
        "colab": {}
      },
      "source": [
        "import numpy as np\n",
        "from tensorflow.keras import layers, models"
      ],
      "execution_count": 0,
      "outputs": []
    },
    {
      "cell_type": "markdown",
      "metadata": {
        "id": "-4wWqH2f7_L3",
        "colab_type": "text"
      },
      "source": [
        "**[NP1-03]**\n",
        "\n",
        "Define the Gridworld class."
      ]
    },
    {
      "cell_type": "code",
      "metadata": {
        "id": "dsMHAlFTgGCs",
        "colab_type": "code",
        "colab": {}
      },
      "source": [
        "class Gridworld:\n",
        "  def __init__(self, size=8, goals=[7]):\n",
        "    self.size = size\n",
        "    self.goals = goals\n",
        "    self.states = range(size)\n",
        "\n",
        "  def move(self, s, a):\n",
        "    if s in self.goals:\n",
        "      return 0, s       # Reward, Next state\n",
        "\n",
        "    s_new = s + a\n",
        "\n",
        "    if s_new in self.goals:\n",
        "      return 1, s_new   # Reward, Next state\n",
        "\n",
        "    if s_new not in self.states:\n",
        "      return -1, s      # Reward, Next state\n",
        "\n",
        "    return -1, s_new    # Reward, Next state"
      ],
      "execution_count": 0,
      "outputs": []
    },
    {
      "cell_type": "markdown",
      "metadata": {
        "id": "AWiaHYyz8CZS",
        "colab_type": "text"
      },
      "source": [
        "**[NP1-04]**\n",
        "\n",
        "Define the StateValue class."
      ]
    },
    {
      "cell_type": "code",
      "metadata": {
        "id": "3TWxe5DjPAQU",
        "colab_type": "code",
        "colab": {}
      },
      "source": [
        "class StateValue:\n",
        "  def __init__(self, goals):\n",
        "    self.goals = goals\n",
        "    self.model = self.build_model()\n",
        "\n",
        "  def build_model(self):\n",
        "    state = layers.Input(shape=(1,))\n",
        "    value = layers.Dense(1)(state)\n",
        "    model = models.Model(inputs=[state], outputs=[value])\n",
        "    model.compile(loss='mse')\n",
        "    return model\n",
        "\n",
        "  def get_value(self, s):\n",
        "    if s in self.goals:\n",
        "      return 0\n",
        "    input_states = [np.array([s])]\n",
        "    output_values = self.model.predict([np.array(input_states)])\n",
        "    value = output_values[0][0]\n",
        "    return value"
      ],
      "execution_count": 0,
      "outputs": []
    },
    {
      "cell_type": "markdown",
      "metadata": {
        "id": "9rueu7hb8O-l",
        "colab_type": "text"
      },
      "source": [
        "**[NP1-05]**\n",
        "\n",
        "Define a function to show state values."
      ]
    },
    {
      "cell_type": "code",
      "metadata": {
        "id": "ltSHgYpCg_Jc",
        "colab_type": "code",
        "colab": {}
      },
      "source": [
        "def show_values(world, state_value):\n",
        "  print('[', end='')\n",
        "  for s in world.states:\n",
        "    print('{:5.1f}'.format(state_value.get_value(s)), end=' ')\n",
        "  print(']')"
      ],
      "execution_count": 0,
      "outputs": []
    },
    {
      "cell_type": "markdown",
      "metadata": {
        "id": "D4u8uiTR8T1M",
        "colab_type": "text"
      },
      "source": [
        "**[NP1-06]**\n",
        "\n",
        "Define a function to get a single episode."
      ]
    },
    {
      "cell_type": "code",
      "metadata": {
        "id": "jLvGh76GPZ-c",
        "colab_type": "code",
        "colab": {}
      },
      "source": [
        "def get_episode(world):\n",
        "  episode = []\n",
        "  s = np.random.randint(world.size-1)\n",
        "  a = 1   # move to right\n",
        "  while True:\n",
        "    r, s_new = world.move(s, a)\n",
        "    episode.append((s, r, s_new))\n",
        "    if s_new in world.goals:\n",
        "      break\n",
        "    s = s_new\n",
        "\n",
        "  return episode"
      ],
      "execution_count": 0,
      "outputs": []
    },
    {
      "cell_type": "markdown",
      "metadata": {
        "id": "DUo5quOC8gEq",
        "colab_type": "text"
      },
      "source": [
        "**[NP1-07]**\n",
        "\n",
        "Define a function to train the model."
      ]
    },
    {
      "cell_type": "code",
      "metadata": {
        "id": "p23cs6rYQoou",
        "colab_type": "code",
        "colab": {}
      },
      "source": [
        "def train(world, state_value, num):\n",
        "  for c in range(num):\n",
        "    print('Iteration {:2d}: '.format(c+1), end='')\n",
        "\n",
        "    examples = []\n",
        "    for _ in range(100):\n",
        "      episode = get_episode(world)\n",
        "      examples += episode\n",
        "    np.random.shuffle(examples)\n",
        "\n",
        "    states = []\n",
        "    labels = []\n",
        "    for s, r, s_new in examples:\n",
        "      states.append(np.array([s]))\n",
        "      v_new = state_value.get_value(s_new)\n",
        "      labels.append(np.array(r + v_new))\n",
        "\n",
        "    state_value.model.fit([np.array(states)], np.array(labels),\n",
        "                          batch_size=50, epochs=100, verbose=0)\n",
        "    show_values(world, state_value)"
      ],
      "execution_count": 0,
      "outputs": []
    },
    {
      "cell_type": "markdown",
      "metadata": {
        "id": "a9_qPmUx8mCq",
        "colab_type": "text"
      },
      "source": [
        "**[NP1-08]**\n",
        "\n",
        "Create a Gridworld instance and a StateValue instance."
      ]
    },
    {
      "cell_type": "code",
      "metadata": {
        "id": "mi_cc26iQkIF",
        "colab_type": "code",
        "outputId": "0960f06f-7fb7-42e9-a639-7e128c1eb46f",
        "colab": {
          "base_uri": "https://localhost:8080/",
          "height": 221
        }
      },
      "source": [
        "world = Gridworld()\n",
        "state_value = StateValue(goals=world.goals)\n",
        "state_value.model.summary()"
      ],
      "execution_count": 8,
      "outputs": [
        {
          "output_type": "stream",
          "text": [
            "Model: \"model\"\n",
            "_________________________________________________________________\n",
            "Layer (type)                 Output Shape              Param #   \n",
            "=================================================================\n",
            "input_1 (InputLayer)         [(None, 1)]               0         \n",
            "_________________________________________________________________\n",
            "dense (Dense)                (None, 1)                 2         \n",
            "=================================================================\n",
            "Total params: 2\n",
            "Trainable params: 2\n",
            "Non-trainable params: 0\n",
            "_________________________________________________________________\n"
          ],
          "name": "stdout"
        }
      ]
    },
    {
      "cell_type": "markdown",
      "metadata": {
        "id": "HDGBlCME8xJL",
        "colab_type": "text"
      },
      "source": [
        "**[NP1-09]**\n",
        "\n",
        "Train the model."
      ]
    },
    {
      "cell_type": "code",
      "metadata": {
        "id": "5cYQKYu-VfA_",
        "colab_type": "code",
        "outputId": "bf0e6879-e33c-4c4a-fb2b-fea7642b21f1",
        "colab": {
          "base_uri": "https://localhost:8080/",
          "height": 357
        }
      },
      "source": [
        "train(world, state_value, num=20)"
      ],
      "execution_count": 9,
      "outputs": [
        {
          "output_type": "stream",
          "text": [
            "Iteration  1: [  0.1   0.7   1.4   2.1   2.8   3.5   4.2   0.0 ]\n",
            "Iteration  2: [  0.2   0.6   1.0   1.3   1.7   2.1   2.4   0.0 ]\n",
            "Iteration  3: [ -0.1   0.2   0.4   0.6   0.9   1.1   1.4   0.0 ]\n",
            "Iteration  4: [ -0.8  -0.6  -0.3  -0.0   0.2   0.5   0.8   0.0 ]\n",
            "Iteration  5: [ -1.5  -1.2  -0.8  -0.5  -0.2   0.1   0.5   0.0 ]\n",
            "Iteration  6: [ -2.2  -1.8  -1.3  -0.9  -0.5  -0.1   0.4   0.0 ]\n",
            "Iteration  7: [ -2.8  -2.3  -1.8  -1.2  -0.7  -0.2   0.3   0.0 ]\n",
            "Iteration  8: [ -3.5  -2.8  -2.2  -1.5  -0.9  -0.2   0.4   0.0 ]\n",
            "Iteration  9: [ -4.1  -3.3  -2.5  -1.7  -1.0  -0.2   0.6   0.0 ]\n",
            "Iteration 10: [ -4.5  -3.7  -2.8  -1.9  -1.0  -0.2   0.7   0.0 ]\n",
            "Iteration 11: [ -4.8  -3.9  -2.9  -2.0  -1.1  -0.1   0.8   0.0 ]\n",
            "Iteration 12: [ -5.0  -4.0  -3.0  -2.0  -1.1  -0.1   0.9   0.0 ]\n",
            "Iteration 13: [ -5.1  -4.1  -3.1  -2.1  -1.1  -0.1   0.9   0.0 ]\n",
            "Iteration 14: [ -5.1  -4.1  -3.1  -2.1  -1.0  -0.0   1.0   0.0 ]\n",
            "Iteration 15: [ -5.1  -4.1  -3.0  -2.0  -1.0  -0.0   1.0   0.0 ]\n",
            "Iteration 16: [ -5.1  -4.0  -3.0  -2.0  -1.0  -0.0   1.0   0.0 ]\n",
            "Iteration 17: [ -5.0  -4.0  -3.0  -2.0  -1.0   0.0   1.0   0.0 ]\n",
            "Iteration 18: [ -5.0  -4.0  -3.0  -2.0  -1.0   0.0   1.0   0.0 ]\n",
            "Iteration 19: [ -5.0  -4.0  -3.0  -2.0  -1.0   0.0   1.0   0.0 ]\n",
            "Iteration 20: [ -5.0  -4.0  -3.0  -2.0  -1.0   0.0   1.0   0.0 ]\n"
          ],
          "name": "stdout"
        }
      ]
    }
  ]
}
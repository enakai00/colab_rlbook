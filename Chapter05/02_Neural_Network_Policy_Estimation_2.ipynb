{
  "nbformat": 4,
  "nbformat_minor": 0,
  "metadata": {
    "colab": {
      "name": "02 Neural Network Policy Estimation-2.ipynb",
      "provenance": [],
      "include_colab_link": true
    },
    "kernelspec": {
      "name": "python3",
      "display_name": "Python 3"
    },
    "accelerator": "GPU"
  },
  "cells": [
    {
      "cell_type": "markdown",
      "metadata": {
        "id": "view-in-github",
        "colab_type": "text"
      },
      "source": [
        "<a href=\"https://colab.research.google.com/github/enakai00/colab_rlbook/blob/master/Chapter05/02_Neural_Network_Policy_Estimation_2.ipynb\" target=\"_parent\"><img src=\"https://colab.research.google.com/assets/colab-badge.svg\" alt=\"Open In Colab\"/></a>"
      ]
    },
    {
      "cell_type": "markdown",
      "metadata": {
        "id": "rEYAsjzD91lp",
        "colab_type": "text"
      },
      "source": [
        "**[NP2-01]**\n",
        "\n",
        "Specify the TensorFlow version."
      ]
    },
    {
      "cell_type": "code",
      "metadata": {
        "id": "bzsWr-VHKQ_x",
        "colab_type": "code",
        "outputId": "8e3f32e4-b5f0-439c-c3eb-931208146b6a",
        "colab": {
          "base_uri": "https://localhost:8080/",
          "height": 34
        }
      },
      "source": [
        "%tensorflow_version 2.x "
      ],
      "execution_count": 0,
      "outputs": [
        {
          "output_type": "stream",
          "text": [
            "TensorFlow 2.x selected.\n"
          ],
          "name": "stdout"
        }
      ]
    },
    {
      "cell_type": "markdown",
      "metadata": {
        "id": "BTPlHdAV-W1c",
        "colab_type": "text"
      },
      "source": [
        "**[NP2-02]**\n",
        "\n",
        "Import modules."
      ]
    },
    {
      "cell_type": "code",
      "metadata": {
        "id": "uxl0MUcjZS37",
        "colab_type": "code",
        "colab": {}
      },
      "source": [
        "import numpy as np\n",
        "from tensorflow.keras import layers, models"
      ],
      "execution_count": 0,
      "outputs": []
    },
    {
      "cell_type": "markdown",
      "metadata": {
        "id": "xPH6K2BP-aZ5",
        "colab_type": "text"
      },
      "source": [
        "**[NP2-03]**\n",
        "\n",
        "Define the Gridworld class."
      ]
    },
    {
      "cell_type": "code",
      "metadata": {
        "id": "dsMHAlFTgGCs",
        "colab_type": "code",
        "colab": {}
      },
      "source": [
        "class Gridworld:\n",
        "  def __init__(self, size=6, traps=[(4, y) for y in range(4)]):\n",
        "    self.size = size    \n",
        "    self.traps = traps\n",
        "    self.start = (0, 0)\n",
        "    self.goals = [(size-1, size-1)]\n",
        "    self.states = [(x, y) for x in range(size) for y in range(size)]\n",
        "\n",
        "  def move(self, s, a):\n",
        "    if s in self.goals:\n",
        "      return 0, s             # Reward, Next state\n",
        "\n",
        "    s_new = (s[0] + a[0], s[1] + a[1])\n",
        "\n",
        "    if s_new not in self.states:\n",
        "      return 0, s             # Reward, Next state\n",
        "\n",
        "    if s_new in self.traps:\n",
        "      return -1, self.start   # Reward, Next state\n",
        "\n",
        "    return -1, s_new          # Reward, Next state"
      ],
      "execution_count": 0,
      "outputs": []
    },
    {
      "cell_type": "markdown",
      "metadata": {
        "id": "Ay8MPTdQ_e0s",
        "colab_type": "text"
      },
      "source": [
        "**[NP2-04]**\n",
        "\n",
        "Define the StateValue class."
      ]
    },
    {
      "cell_type": "code",
      "metadata": {
        "id": "3TWxe5DjPAQU",
        "colab_type": "code",
        "colab": {}
      },
      "source": [
        "class StateValue:\n",
        "  def __init__(self, goals):\n",
        "    self.goals = goals\n",
        "    self.model = self.build_model()\n",
        "\n",
        "  def build_model(self):\n",
        "    state = layers.Input(shape=(2,))\n",
        "    hidden1 = layers.Dense(16, activation='relu')(state)\n",
        "    hidden2 = layers.Dense(8, activation='relu')(hidden1)\n",
        "    value = layers.Dense(1)(hidden2)\n",
        "    model = models.Model(inputs=[state], outputs=[value])\n",
        "    model.compile(loss='mse')\n",
        "    return model\n",
        "\n",
        "  def get_value(self, s):\n",
        "    if s in self.goals:\n",
        "      return 0\n",
        "    input_states = [np.array(s)]\n",
        "    output_values = self.model.predict([input_states])\n",
        "    value = output_values[0][0]\n",
        "    return value"
      ],
      "execution_count": 0,
      "outputs": []
    },
    {
      "cell_type": "markdown",
      "metadata": {
        "id": "GYHVf1y5_iC9",
        "colab_type": "text"
      },
      "source": [
        "**[NP2-05]**\n",
        "\n",
        "Define a function to show state values."
      ]
    },
    {
      "cell_type": "code",
      "metadata": {
        "id": "ltSHgYpCg_Jc",
        "colab_type": "code",
        "colab": {}
      },
      "source": [
        "def show_values(world, state_value):\n",
        "  for y in range(world.size):\n",
        "    print('[ ', end='')\n",
        "    for x in range(world.size):\n",
        "      if (x, y) in world.traps:\n",
        "        print('     ', end=' ')\n",
        "      else:\n",
        "        print('{:5.1f}'.format(state_value.get_value((x, y))), end=' ')\n",
        "    print(']')\n",
        "  print()"
      ],
      "execution_count": 0,
      "outputs": []
    },
    {
      "cell_type": "markdown",
      "metadata": {
        "id": "7CoQVX3-_oRG",
        "colab_type": "text"
      },
      "source": [
        "**[NP2-06]**\n",
        "\n",
        "Define a function to get a single episode."
      ]
    },
    {
      "cell_type": "code",
      "metadata": {
        "id": "jLvGh76GPZ-c",
        "colab_type": "code",
        "colab": {}
      },
      "source": [
        "def get_episode(world):\n",
        "  episode = []\n",
        "  while True:\n",
        "    s = (np.random.randint(world.size), np.random.randint(world.size))\n",
        "    if s not in world.traps + world.goals:\n",
        "      break\n",
        "\n",
        "  while True:\n",
        "    if np.random.random() < 0.5:\n",
        "      a = (1, 0)\n",
        "    else:\n",
        "      a = (0, 1)\n",
        "    r, s_new = world.move(s, a)\n",
        "    episode.append((s, r, s_new))\n",
        "    if s_new in world.goals:\n",
        "      break\n",
        "    s = s_new\n",
        "\n",
        "  return episode"
      ],
      "execution_count": 0,
      "outputs": []
    },
    {
      "cell_type": "markdown",
      "metadata": {
        "id": "NilFkGai_vdY",
        "colab_type": "text"
      },
      "source": [
        "**[NP2-07]**\n",
        "\n",
        "Define a function to train the model."
      ]
    },
    {
      "cell_type": "code",
      "metadata": {
        "id": "p23cs6rYQoou",
        "colab_type": "code",
        "colab": {}
      },
      "source": [
        "def train(world, state_value, num):\n",
        "  for c in range(num):\n",
        "    print('Iteration {:2d}: '.format(c+1))\n",
        "\n",
        "    examples = []\n",
        "    for _ in range(100):\n",
        "      episode = get_episode(world)\n",
        "      examples += episode\n",
        "    np.random.shuffle(examples)\n",
        "\n",
        "    states = []\n",
        "    labels = []\n",
        "    for s, r, s_new in examples:\n",
        "      states.append(np.array(s))\n",
        "      v_new = state_value.get_value(s_new)\n",
        "      labels.append(np.array(r + v_new))\n",
        "\n",
        "    state_value.model.fit([np.array(states)], np.array(labels),\n",
        "                          batch_size=50, epochs=100, verbose=0)\n",
        "    show_values(world, state_value)"
      ],
      "execution_count": 0,
      "outputs": []
    },
    {
      "cell_type": "markdown",
      "metadata": {
        "id": "jQVL7fq6_8H-",
        "colab_type": "text"
      },
      "source": [
        "**[NP2-08]**\n",
        "\n",
        "Create a Gridworld instance and a StateValue instance."
      ]
    },
    {
      "cell_type": "code",
      "metadata": {
        "id": "koY7dyBFrzPr",
        "colab_type": "code",
        "outputId": "ce5d3952-a695-4efd-c27e-b637b5adcf1a",
        "colab": {
          "base_uri": "https://localhost:8080/",
          "height": 289
        }
      },
      "source": [
        "world = Gridworld()\n",
        "state_value = StateValue(world.goals)\n",
        "state_value.model.summary()"
      ],
      "execution_count": 0,
      "outputs": [
        {
          "output_type": "stream",
          "text": [
            "Model: \"model\"\n",
            "_________________________________________________________________\n",
            "Layer (type)                 Output Shape              Param #   \n",
            "=================================================================\n",
            "input_1 (InputLayer)         [(None, 2)]               0         \n",
            "_________________________________________________________________\n",
            "dense (Dense)                (None, 16)                48        \n",
            "_________________________________________________________________\n",
            "dense_1 (Dense)              (None, 8)                 136       \n",
            "_________________________________________________________________\n",
            "dense_2 (Dense)              (None, 1)                 9         \n",
            "=================================================================\n",
            "Total params: 193\n",
            "Trainable params: 193\n",
            "Non-trainable params: 0\n",
            "_________________________________________________________________\n"
          ],
          "name": "stdout"
        }
      ]
    },
    {
      "cell_type": "markdown",
      "metadata": {
        "id": "wtaFPYX_ACZ_",
        "colab_type": "text"
      },
      "source": [
        "**[NP2-09]**\n",
        "\n",
        "Train the model."
      ]
    },
    {
      "cell_type": "code",
      "metadata": {
        "id": "evsdScWmr6N4",
        "colab_type": "code",
        "outputId": "aa6b25a6-2f0d-43cb-d728-64d10efff460",
        "colab": {
          "base_uri": "https://localhost:8080/",
          "height": 1000
        }
      },
      "source": [
        "train(world, state_value, num=50)"
      ],
      "execution_count": 0,
      "outputs": [
        {
          "output_type": "stream",
          "text": [
            "Iteration  1: \n",
            "[  -1.1  -1.1  -1.1  -1.0        -0.8 ]\n",
            "[  -1.5  -1.4  -1.2  -1.1        -0.9 ]\n",
            "[  -1.6  -1.5  -1.4  -1.2        -1.0 ]\n",
            "[  -1.7  -1.6  -1.4  -1.3        -1.1 ]\n",
            "[  -1.8  -1.6  -1.4  -1.2  -1.1  -0.9 ]\n",
            "[  -1.7  -1.6  -1.4  -1.2  -1.0   0.0 ]\n",
            "\n",
            "Iteration  2: \n",
            "[  -2.3  -2.2  -2.1  -1.9        -1.4 ]\n",
            "[  -2.6  -2.4  -2.2  -2.0        -1.6 ]\n",
            "[  -2.6  -2.5  -2.3  -2.1        -1.7 ]\n",
            "[  -2.5  -2.4  -2.3  -2.2        -1.5 ]\n",
            "[  -2.4  -2.3  -2.1  -1.8  -1.5  -1.0 ]\n",
            "[  -2.3  -2.0  -1.7  -1.4  -1.1   0.0 ]\n",
            "\n",
            "Iteration  3: \n",
            "[  -3.3  -3.2  -3.1  -3.0        -1.7 ]\n",
            "[  -3.5  -3.4  -3.2  -3.1        -1.9 ]\n",
            "[  -3.4  -3.3  -3.2  -3.0        -1.9 ]\n",
            "[  -3.2  -3.2  -3.1  -2.9        -1.6 ]\n",
            "[  -2.9  -2.8  -2.6  -2.2  -1.7  -0.9 ]\n",
            "[  -2.5  -2.4  -1.9  -1.4  -0.9   0.0 ]\n",
            "\n",
            "Iteration  4: \n",
            "[  -4.3  -4.3  -4.2  -4.1        -2.4 ]\n",
            "[  -4.4  -4.3  -4.3  -4.2        -2.5 ]\n",
            "[  -4.3  -4.2  -4.1  -4.0        -2.3 ]\n",
            "[  -4.0  -3.9  -3.9  -3.6        -1.8 ]\n",
            "[  -3.6  -3.5  -3.2  -2.6  -2.0  -1.1 ]\n",
            "[  -3.2  -2.8  -2.2  -1.7  -1.1   0.0 ]\n",
            "\n",
            "Iteration  5: \n",
            "[  -5.3  -5.3  -5.2  -5.2        -3.0 ]\n",
            "[  -5.4  -5.3  -5.2  -5.1        -3.0 ]\n",
            "[  -5.2  -5.0  -4.9  -4.8        -2.6 ]\n",
            "[  -4.8  -4.6  -4.5  -4.2        -1.9 ]\n",
            "[  -4.2  -4.0  -3.7  -3.0  -2.3  -1.0 ]\n",
            "[  -3.6  -3.2  -2.5  -1.8  -1.1   0.0 ]\n",
            "\n",
            "Iteration  6: \n",
            "[  -6.3  -6.3  -6.2  -6.2        -3.4 ]\n",
            "[  -6.2  -6.2  -6.2  -6.1        -3.2 ]\n",
            "[  -5.9  -5.7  -5.8  -5.8        -2.8 ]\n",
            "[  -5.5  -5.2  -5.0  -5.0        -2.1 ]\n",
            "[  -4.7  -4.5  -4.1  -3.3  -2.8  -1.1 ]\n",
            "[  -3.9  -3.4  -2.6  -1.9  -1.1   0.0 ]\n",
            "\n",
            "Iteration  7: \n",
            "[  -7.2  -7.3  -7.2  -7.1        -4.1 ]\n",
            "[  -6.9  -7.0  -7.1  -6.8        -3.6 ]\n",
            "[  -6.6  -6.2  -6.4  -6.6        -2.9 ]\n",
            "[  -6.0  -5.7  -5.4  -5.6        -1.9 ]\n",
            "[  -5.1  -4.8  -4.2  -3.5  -2.5  -0.7 ]\n",
            "[  -4.1  -3.3  -2.6  -1.8  -0.8   0.0 ]\n",
            "\n",
            "Iteration  8: \n",
            "[  -8.1  -8.1  -8.1  -8.0        -4.4 ]\n",
            "[  -7.6  -7.7  -7.9  -7.6        -3.8 ]\n",
            "[  -7.3  -6.8  -7.0  -7.2        -2.9 ]\n",
            "[  -6.4  -6.1  -5.7  -5.6        -1.8 ]\n",
            "[  -5.5  -4.9  -4.1  -3.3  -2.5  -0.6 ]\n",
            "[  -4.1  -3.3  -2.5  -1.7  -0.7   0.0 ]\n",
            "\n",
            "Iteration  9: \n",
            "[  -8.8  -8.9  -8.8  -8.7        -4.5 ]\n",
            "[  -8.4  -8.3  -8.5  -8.1        -3.7 ]\n",
            "[  -7.7  -7.4  -7.5  -7.7        -2.6 ]\n",
            "[  -6.6  -6.3  -5.8  -5.9        -1.5 ]\n",
            "[  -5.5  -4.8  -4.0  -3.2  -2.3  -0.3 ]\n",
            "[  -4.0  -3.2  -2.4  -1.6  -0.5   0.0 ]\n",
            "\n",
            "Iteration 10: \n",
            "[  -9.6  -9.7  -9.7  -9.4        -4.9 ]\n",
            "[  -9.0  -8.9  -9.1  -8.8        -3.7 ]\n",
            "[  -8.1  -7.7  -7.9  -8.2        -2.6 ]\n",
            "[  -6.7  -6.4  -6.1  -6.8        -1.4 ]\n",
            "[  -5.5  -4.9  -4.1  -3.5  -2.7  -0.4 ]\n",
            "[  -4.1  -3.2  -2.4  -1.6  -0.7   0.0 ]\n",
            "\n",
            "Iteration 11: \n",
            "[ -10.3 -10.3 -10.3  -9.9        -4.8 ]\n",
            "[  -9.5  -9.3  -9.8  -9.6        -3.6 ]\n",
            "[  -8.2  -7.9  -8.4  -8.9        -2.4 ]\n",
            "[  -6.8  -6.5  -5.9  -6.4        -1.5 ]\n",
            "[  -5.5  -4.7  -3.9  -3.2  -2.4  -0.2 ]\n",
            "[  -4.1  -3.2  -2.4  -1.6  -0.6   0.0 ]\n",
            "\n",
            "Iteration 12: \n",
            "[ -10.7 -10.9 -11.0 -10.7        -5.2 ]\n",
            "[  -9.8  -9.6 -10.3 -10.3        -3.6 ]\n",
            "[  -8.5  -8.2  -8.6  -9.5        -2.3 ]\n",
            "[  -6.8  -6.4  -6.5  -7.5        -1.4 ]\n",
            "[  -5.6  -4.8  -4.0  -3.4  -2.8  -0.2 ]\n",
            "[  -4.0  -3.0  -2.3  -1.6  -0.6   0.0 ]\n",
            "\n",
            "Iteration 13: \n",
            "[ -11.3 -11.6 -11.8 -11.3        -5.5 ]\n",
            "[ -10.4 -10.1 -10.9 -11.1        -3.8 ]\n",
            "[  -8.9  -8.8  -8.9  -9.9        -2.7 ]\n",
            "[  -7.0  -6.9  -7.0  -7.2        -1.7 ]\n",
            "[  -5.6  -4.9  -4.2  -3.5  -2.7  -0.5 ]\n",
            "[  -4.0  -3.2  -2.4  -1.6  -0.9   0.0 ]\n",
            "\n",
            "Iteration 14: \n",
            "[ -12.0 -12.3 -12.5 -12.0        -5.9 ]\n",
            "[ -10.9 -11.1 -11.5 -11.4        -4.1 ]\n",
            "[  -9.3  -9.2  -9.5 -10.3        -3.0 ]\n",
            "[  -7.3  -7.1  -7.0  -8.4        -2.1 ]\n",
            "[  -5.8  -5.1  -4.4  -4.0  -3.3  -0.9 ]\n",
            "[  -4.2  -3.5  -2.8  -2.2  -1.3   0.0 ]\n",
            "\n",
            "Iteration 15: \n",
            "[ -12.4 -12.7 -12.9 -12.4        -6.1 ]\n",
            "[ -11.0 -11.4 -11.9 -11.7        -4.3 ]\n",
            "[  -9.4  -9.5 -10.0 -10.7        -3.1 ]\n",
            "[  -7.5  -7.4  -7.5  -8.5        -2.0 ]\n",
            "[  -5.7  -5.1  -4.4  -4.0  -3.0  -0.8 ]\n",
            "[  -4.2  -3.5  -2.9  -2.2  -1.1   0.0 ]\n",
            "\n",
            "Iteration 16: \n",
            "[ -12.7 -13.0 -13.3 -12.9        -6.4 ]\n",
            "[ -11.5 -11.8 -12.2 -12.3        -4.5 ]\n",
            "[  -9.6  -9.7 -10.3 -11.2        -3.5 ]\n",
            "[  -7.6  -7.5  -7.8  -8.6        -2.3 ]\n",
            "[  -6.1  -5.4  -4.8  -4.1  -3.3  -1.0 ]\n",
            "[  -4.6  -4.0  -3.3  -2.6  -1.5   0.0 ]\n",
            "\n",
            "Iteration 17: \n",
            "[ -13.2 -13.5 -13.8 -13.6        -6.9 ]\n",
            "[ -11.5 -12.2 -12.6 -12.8        -4.9 ]\n",
            "[  -9.9  -9.9 -10.8 -11.6        -3.7 ]\n",
            "[  -8.2  -8.1  -7.9  -9.1        -2.5 ]\n",
            "[  -6.3  -5.6  -5.0  -4.2  -3.5  -1.2 ]\n",
            "[  -4.8  -4.2  -3.6  -2.8  -1.5   0.0 ]\n",
            "\n",
            "Iteration 18: \n",
            "[ -13.6 -14.0 -14.2 -14.0        -6.8 ]\n",
            "[ -11.7 -12.4 -12.9 -13.1        -4.8 ]\n",
            "[  -9.7  -9.8 -10.9 -12.0        -3.6 ]\n",
            "[  -7.7  -7.6  -7.7  -9.4        -2.3 ]\n",
            "[  -6.2  -5.5  -4.8  -4.0  -3.1  -0.7 ]\n",
            "[  -4.7  -4.0  -3.3  -2.5  -0.9   0.0 ]\n",
            "\n",
            "Iteration 19: \n",
            "[ -13.9 -14.4 -14.6 -14.5        -7.0 ]\n",
            "[ -12.0 -12.7 -13.3 -13.6        -5.0 ]\n",
            "[ -10.0 -10.1 -11.4 -12.4        -3.6 ]\n",
            "[  -7.8  -7.8  -8.1  -9.9        -2.2 ]\n",
            "[  -6.4  -5.7  -4.9  -4.2  -3.1  -0.8 ]\n",
            "[  -4.9  -4.2  -3.3  -2.4  -0.9   0.0 ]\n",
            "\n",
            "Iteration 20: \n",
            "[ -14.2 -14.7 -14.9 -14.8        -6.8 ]\n",
            "[ -12.4 -12.9 -13.5 -13.7        -4.8 ]\n",
            "[ -10.4 -10.7 -11.3 -12.2        -3.4 ]\n",
            "[  -8.1  -8.1  -8.6  -9.5        -2.0 ]\n",
            "[  -6.5  -5.8  -5.0  -3.9  -2.8  -0.5 ]\n",
            "[  -4.9  -4.2  -3.3  -2.2  -1.0   0.0 ]\n",
            "\n",
            "Iteration 21: \n",
            "[ -14.3 -14.9 -15.2 -15.1        -7.3 ]\n",
            "[ -12.4 -12.9 -13.6 -13.8        -5.2 ]\n",
            "[ -10.5 -10.5 -11.2 -12.3        -3.7 ]\n",
            "[  -8.7  -8.4  -8.4  -9.4        -2.3 ]\n",
            "[  -6.7  -5.9  -5.0  -4.0  -3.0  -0.8 ]\n",
            "[  -5.3  -4.5  -3.5  -2.4  -1.4   0.0 ]\n",
            "\n",
            "Iteration 22: \n",
            "[ -14.6 -15.2 -15.5 -15.2        -7.2 ]\n",
            "[ -12.5 -13.0 -13.7 -14.1        -5.4 ]\n",
            "[ -10.5 -10.4 -11.2 -12.7        -4.0 ]\n",
            "[  -8.5  -8.1  -8.1  -9.3        -2.6 ]\n",
            "[  -6.7  -5.9  -5.0  -3.9  -3.3  -1.2 ]\n",
            "[  -5.3  -4.5  -3.6  -2.5  -1.4   0.0 ]\n",
            "\n",
            "Iteration 23: \n",
            "[ -14.6 -15.2 -15.2 -15.3        -6.7 ]\n",
            "[ -12.6 -13.1 -13.7 -14.1        -4.9 ]\n",
            "[ -10.4 -10.4 -11.6 -12.7        -3.4 ]\n",
            "[  -8.2  -7.6  -7.9 -10.4        -2.0 ]\n",
            "[  -6.6  -5.7  -4.7  -3.8  -2.8  -0.4 ]\n",
            "[  -5.1  -4.2  -3.2  -2.1  -0.8   0.0 ]\n",
            "\n",
            "Iteration 24: \n",
            "[ -14.8 -15.2 -15.1 -15.3        -6.2 ]\n",
            "[ -12.6 -12.9 -13.5 -14.1        -4.2 ]\n",
            "[ -10.1 -10.4 -11.4 -12.8        -2.7 ]\n",
            "[  -7.8  -7.3  -8.2  -9.5        -1.3 ]\n",
            "[  -6.3  -5.2  -4.1  -3.1  -2.0   0.3 ]\n",
            "[  -4.8  -3.8  -2.6  -1.5  -0.4   0.0 ]\n",
            "\n",
            "Iteration 25: \n",
            "[ -14.7 -15.1 -15.1 -15.2        -5.1 ]\n",
            "[ -12.2 -12.9 -13.5 -14.0        -3.3 ]\n",
            "[  -9.9  -9.7 -11.1 -12.5        -1.9 ]\n",
            "[  -7.9  -7.1  -6.5  -9.1        -0.5 ]\n",
            "[  -5.8  -4.6  -3.4  -2.5  -1.4   1.2 ]\n",
            "[  -4.4  -3.2  -2.0  -0.9  -0.0   0.0 ]\n",
            "\n",
            "Iteration 26: \n",
            "[ -14.5 -15.2 -15.3 -15.3        -5.2 ]\n",
            "[ -12.6 -13.2 -14.0 -14.2        -3.5 ]\n",
            "[  -9.7 -10.3 -11.7 -12.5        -2.3 ]\n",
            "[  -7.5  -6.9  -7.1  -8.7        -1.0 ]\n",
            "[  -5.4  -4.3  -3.2  -2.5  -1.5   0.3 ]\n",
            "[  -4.3  -3.2  -2.0  -1.0  -0.4   0.0 ]\n",
            "\n",
            "Iteration 27: \n",
            "[ -14.9 -15.3 -15.2 -15.3        -4.7 ]\n",
            "[ -12.4 -13.0 -13.6 -14.1        -3.0 ]\n",
            "[  -9.4  -9.6 -11.1 -12.4        -1.8 ]\n",
            "[  -7.3  -6.8  -6.4  -9.3        -0.7 ]\n",
            "[  -5.2  -4.1  -3.0  -2.2  -1.2   0.4 ]\n",
            "[  -3.9  -2.8  -1.7  -0.9  -0.4   0.0 ]\n",
            "\n",
            "Iteration 28: \n"
          ],
          "name": "stdout"
        }
      ]
    }
  ]
}
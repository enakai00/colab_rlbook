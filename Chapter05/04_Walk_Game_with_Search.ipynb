{
  "nbformat": 4,
  "nbformat_minor": 0,
  "metadata": {
    "colab": {
      "name": "04_Walk_Game_with_Search.ipynb",
      "provenance": [],
      "include_colab_link": true
    },
    "kernelspec": {
      "name": "python3",
      "display_name": "Python 3"
    },
    "accelerator": "GPU"
  },
  "cells": [
    {
      "cell_type": "markdown",
      "metadata": {
        "id": "view-in-github",
        "colab_type": "text"
      },
      "source": [
        "<a href=\"https://colab.research.google.com/github/enakai00/colab_rlbook/blob/master/Chapter05/04_Walk_Game_with_Search.ipynb\" target=\"_parent\"><img src=\"https://colab.research.google.com/assets/colab-badge.svg\" alt=\"Open In Colab\"/></a>"
      ]
    },
    {
      "cell_type": "code",
      "metadata": {
        "id": "bzsWr-VHKQ_x",
        "colab_type": "code",
        "outputId": "53d74602-b10f-4105-b3f0-ad71058921c3",
        "colab": {
          "base_uri": "https://localhost:8080/",
          "height": 34
        }
      },
      "source": [
        "%tensorflow_version 2.x "
      ],
      "execution_count": 0,
      "outputs": [
        {
          "output_type": "stream",
          "text": [
            "TensorFlow 2.x selected.\n"
          ],
          "name": "stdout"
        }
      ]
    },
    {
      "cell_type": "code",
      "metadata": {
        "id": "uxl0MUcjZS37",
        "colab_type": "code",
        "colab": {}
      },
      "source": [
        "import numpy as np\n",
        "import copy, random, time\n",
        "from tensorflow.keras import layers, models\n",
        "from IPython.display import clear_output"
      ],
      "execution_count": 0,
      "outputs": []
    },
    {
      "cell_type": "code",
      "metadata": {
        "id": "OnfMnWb941ES",
        "colab_type": "code",
        "colab": {}
      },
      "source": [
        "def get_field():\n",
        "  field_img = '''\n",
        "##############\n",
        "#            #\n",
        "#            #\n",
        "#            #\n",
        "#            #\n",
        "#            #\n",
        "#            #\n",
        "#            #\n",
        "#            #\n",
        "#            #\n",
        "#            #\n",
        "#            #\n",
        "#            #\n",
        "##############\n",
        "'''\n",
        "  field = []\n",
        "  for line in field_img.split('\\n'):\n",
        "    if line == '':\n",
        "      continue \n",
        "    field.append(list(line))\n",
        "\n",
        "  return field"
      ],
      "execution_count": 0,
      "outputs": []
    },
    {
      "cell_type": "code",
      "metadata": {
        "id": "dsMHAlFTgGCs",
        "colab_type": "code",
        "colab": {}
      },
      "source": [
        "class Environ:\n",
        "  def __init__(self):\n",
        "    self.action_map = [(0, 1), (1, 0), (0, -1), (-1, 0)]\n",
        "    self.restart()\n",
        "\n",
        "  def restart(self):\n",
        "    self.field = get_field()\n",
        "    for _ in range(10):\n",
        "      y = np.random.randint(1, 13)\n",
        "      x = np.random.randint(1, 13)\n",
        "      self.field[y][x] = 'x'\n",
        "\n",
        "  def move(self, s, a):\n",
        "    x, y = s\n",
        "    dx, dy = self.action_map[a]\n",
        "    self.field[y][x] = '+'\n",
        "    x += dx\n",
        "    y += dy\n",
        "    s_new = (x, y)\n",
        "    if self.field[y][x] != ' ':\n",
        "      return 0, s_new, True   # Reward, Next state, Game over\n",
        "    return 1, s_new, False    # Reward, Next state, Game over\n",
        "\n",
        "  def get_state(self, s):\n",
        "    x, y = s\n",
        "    walls = [[0.0 if c == ' ' else 1.0 for c in line] for line in self.field]\n",
        "    walker = np.zeros((14, 14))\n",
        "    walker[y][x] = 1.0\n",
        "    state = np.zeros((14, 14, 2))\n",
        "    state[:, :, 0] = walls\n",
        "    state[:, :, 1] = walker\n",
        "    return state.tolist()"
      ],
      "execution_count": 0,
      "outputs": []
    },
    {
      "cell_type": "code",
      "metadata": {
        "id": "3TWxe5DjPAQU",
        "colab_type": "code",
        "colab": {}
      },
      "source": [
        "class QValue:\n",
        "  def __init__(self):\n",
        "    self.model = None\n",
        "\n",
        "  def get_action(self, state):\n",
        "    states = []\n",
        "    actions = []\n",
        "    for a in range(4):\n",
        "      states.append(np.array(state))\n",
        "      action_onehot = np.zeros(4)\n",
        "      action_onehot[a] = 1\n",
        "      actions.append(action_onehot)\n",
        "  \n",
        "    q_values = self.model.predict([states, actions])\n",
        "    optimal_action = np.argmax(q_values)\n",
        "    return optimal_action, q_values[optimal_action][0]"
      ],
      "execution_count": 0,
      "outputs": []
    },
    {
      "cell_type": "code",
      "metadata": {
        "id": "E9yTVuekOIxe",
        "colab_type": "code",
        "colab": {}
      },
      "source": [
        "def get_action_with_search(environ, q_value, s):\n",
        "  update_q_values = []\n",
        "  for a in range(4):\n",
        "    field_backup = copy.deepcopy(environ.field)\n",
        "    r, s_new, game_over = environ.move(s, a)\n",
        "    if game_over:\n",
        "      update_q_values.append(r + 0)\n",
        "    else:\n",
        "      state_new = environ.get_state(s_new)\n",
        "      _, q_new = q_value.get_action(state_new)\n",
        "      update_q_values.append(r + q_new)\n",
        "    environ.field = field_backup\n",
        "\n",
        "  optimal_action = np.argmax(update_q_values)\n",
        "  return optimal_action"
      ],
      "execution_count": 0,
      "outputs": []
    },
    {
      "cell_type": "code",
      "metadata": {
        "id": "jLvGh76GPZ-c",
        "colab_type": "code",
        "colab": {}
      },
      "source": [
        "def get_episode(environ, q_value):\n",
        "  trace = []\n",
        "  environ.restart()\n",
        "  s = (np.random.randint(1, 13), np.random.randint(1, 13))\n",
        "\n",
        "  while True:\n",
        "    trace.append(s)\n",
        "    a = get_action_with_search(environ, q_value, s)\n",
        "    _, s_new, game_over = environ.move(s, a)\n",
        "    if game_over:\n",
        "      break\n",
        "    s = s_new\n",
        "\n",
        "  return trace"
      ],
      "execution_count": 0,
      "outputs": []
    },
    {
      "cell_type": "code",
      "metadata": {
        "id": "ltSHgYpCg_Jc",
        "colab_type": "code",
        "colab": {}
      },
      "source": [
        "  def show_sample(environ, q_value):\n",
        "    trace = get_episode(environ, q_value)\n",
        "    display = copy.deepcopy(environ.field)\n",
        "    display = [[' ' if c == '+' else c for c in line] for line in display]\n",
        "    for s in trace:\n",
        "      x, y = s\n",
        "      display[y][x] = '*'\n",
        "      time.sleep(0.5)\n",
        "      clear_output(wait=True)\n",
        "      for line in display:\n",
        "        print(''.join(line))\n",
        "      display[y][x] = '+'\n",
        "\n",
        "    print('Length: {}'.format(len(trace)))"
      ],
      "execution_count": 0,
      "outputs": []
    },
    {
      "cell_type": "code",
      "metadata": {
        "id": "koY7dyBFrzPr",
        "colab_type": "code",
        "colab": {}
      },
      "source": [
        "environ = Environ()\n",
        "q_value = QValue()"
      ],
      "execution_count": 0,
      "outputs": []
    },
    {
      "cell_type": "code",
      "metadata": {
        "id": "-eBfdZ4vSIi1",
        "colab_type": "code",
        "outputId": "b01cbb21-883e-4c6b-e884-0fec1d0cee81",
        "colab": {
          "base_uri": "https://localhost:8080/",
          "height": 34
        }
      },
      "source": [
        "from google.colab import drive\n",
        "drive.mount('/content/gdrive')"
      ],
      "execution_count": 0,
      "outputs": [
        {
          "output_type": "stream",
          "text": [
            "Drive already mounted at /content/gdrive; to attempt to forcibly remount, call drive.mount(\"/content/gdrive\", force_remount=True).\n"
          ],
          "name": "stdout"
        }
      ]
    },
    {
      "cell_type": "code",
      "metadata": {
        "id": "A0H8OihW30Ex",
        "colab_type": "code",
        "outputId": "7d89e2d7-79cd-452c-e597-4aa1eec1eb23",
        "colab": {
          "base_uri": "https://localhost:8080/",
          "height": 34
        }
      },
      "source": [
        "!ls -l '/content/gdrive/My Drive/walk_game_model.hd5'"
      ],
      "execution_count": 0,
      "outputs": [
        {
          "output_type": "stream",
          "text": [
            "-rw------- 1 root root 42608640 Mar  3 00:46 '/content/gdrive/My Drive/walk_game_model.hd5'\n"
          ],
          "name": "stdout"
        }
      ]
    },
    {
      "cell_type": "code",
      "metadata": {
        "id": "IX5sVV1STbc3",
        "colab_type": "code",
        "colab": {}
      },
      "source": [
        "q_value.model = models.load_model('/content/gdrive/My Drive/walk_game_model.hd5')\n",
        "q_value.model.summary()"
      ],
      "execution_count": 0,
      "outputs": []
    },
    {
      "cell_type": "code",
      "metadata": {
        "id": "jsZBDhGUTxI6",
        "colab_type": "code",
        "outputId": "f4cfa696-3f82-4eb8-ff46-09ea6619ebe5",
        "colab": {
          "base_uri": "https://localhost:8080/",
          "height": 272
        }
      },
      "source": [
        "show_sample(environ, q_value)"
      ],
      "execution_count": 0,
      "outputs": [
        {
          "output_type": "stream",
          "text": [
            "##############\n",
            "#       +++*+#\n",
            "#x  x   + +++#\n",
            "#     +++ ++ #\n",
            "#     +      #\n",
            "#    x+++++++#\n",
            "#+ x      +++#\n",
            "#+ x    +++++#\n",
            "#+++    +++++#\n",
            "#  ++++ +++++#\n",
            "#     +++++  #\n",
            "# xx x++ ++  #\n",
            "#x       ++x #\n",
            "##############\n",
            "Length: 60\n"
          ],
          "name": "stdout"
        }
      ]
    }
  ]
}
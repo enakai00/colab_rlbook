{
  "nbformat": 4,
  "nbformat_minor": 0,
  "metadata": {
    "colab": {
      "name": "04. Tic-Tac-Toe.ipynb",
      "provenance": [],
      "authorship_tag": "ABX9TyMdFIGFOlExniPbvHSUENYv"
    },
    "kernelspec": {
      "name": "python3",
      "display_name": "Python 3"
    }
  },
  "cells": [
    {
      "cell_type": "markdown",
      "metadata": {
        "id": "So4Jx9vtRyuL",
        "colab_type": "text"
      },
      "source": [
        "**[TTT-01]**\n",
        "\n",
        "Import modules."
      ]
    },
    {
      "cell_type": "code",
      "metadata": {
        "id": "lN3Hw7CvFYz5",
        "colab_type": "code",
        "colab": {}
      },
      "source": [
        "from enum import Enum\n",
        "from copy import deepcopy\n",
        "import random"
      ],
      "execution_count": 0,
      "outputs": []
    },
    {
      "cell_type": "markdown",
      "metadata": {
        "id": "xjzLI6fmR8SI",
        "colab_type": "text"
      },
      "source": [
        "**[TTT-02]**\n",
        "\n",
        "Define the constants to express state imformation."
      ]
    },
    {
      "cell_type": "code",
      "metadata": {
        "id": "qT4NrCePeEAt",
        "colab_type": "code",
        "colab": {}
      },
      "source": [
        "class StateInfo(Enum):\n",
        "  PLAYER1 = 1\n",
        "  PLAYER2 = 2\n",
        "  WIN1 = 3\n",
        "  WIN2 = 4\n",
        "  TIE = 5"
      ],
      "execution_count": 0,
      "outputs": []
    },
    {
      "cell_type": "markdown",
      "metadata": {
        "id": "_BbXaaH2Ixc7",
        "colab_type": "text"
      },
      "source": [
        "**[TTT-03]**\n",
        "\n",
        "Define the flatten function."
      ]
    },
    {
      "cell_type": "code",
      "metadata": {
        "id": "DOkfxXP0EsA3",
        "colab_type": "code",
        "colab": {}
      },
      "source": [
        "def flatten(lst):\n",
        "  return sum(lst, [])"
      ],
      "execution_count": 0,
      "outputs": []
    },
    {
      "cell_type": "markdown",
      "metadata": {
        "id": "XMwV8RHTJBYf",
        "colab_type": "text"
      },
      "source": [
        "**[TTT-04]**\n",
        "\n",
        "Define the State class."
      ]
    },
    {
      "cell_type": "code",
      "metadata": {
        "id": "7voJzw3nRrSh",
        "colab_type": "code",
        "colab": {}
      },
      "source": [
        "class State:\n",
        "  def __init__(self, board):\n",
        "    self.board = board\n",
        "    self.info = self.get_state_info(board)\n",
        "\n",
        "  def __hash__(self):\n",
        "    return hash(tuple(flatten(self.board)))\n",
        "\n",
        "  def __eq__(self, other):\n",
        "    return self.board == other.board\n",
        "\n",
        "  def __repr__(self):\n",
        "    chars = {0: u'・', 1: u'○', 2: u'×'}\n",
        "    result = ''\n",
        "    for row in self.board:\n",
        "      result += ''.join([chars[x] for x in row]) + '\\n'\n",
        "    return result\n",
        "\n",
        "  def get_state_info(self, board):\n",
        "    num1 = sum(map(lambda x: x == 1, flatten(board)))\n",
        "    num2 = sum(map(lambda x: x == 2, flatten(board)))\n",
        "    if num1 != num2 and num1 != num2 + 1:\n",
        "      return None\n",
        "\n",
        "    lines = [[(x, y) for x in range(3)] for y in range(3)]\n",
        "    lines += [[(x, y) for y in range(3)] for x in range(3)]\n",
        "    lines += [[(x, x) for x in range(3)], [(x, 2-x) for x in range(3)]]\n",
        "    win1, win2 = False, False\n",
        "    for line in lines:\n",
        "      if all(map(lambda pos: board[pos[1]][pos[0]] == 1, line)):\n",
        "        win1 = True\n",
        "      if all(map(lambda pos: board[pos[1]][pos[0]] == 2, line)):\n",
        "        win2 = True\n",
        "\n",
        "    if win1 and win2:\n",
        "      return None\n",
        "    if win1:\n",
        "      return StateInfo.WIN1\n",
        "    if win2:\n",
        "      return StateInfo.WIN2\n",
        "\n",
        "    if sum(map(lambda x: x == 0, flatten(board))) == 0:\n",
        "      return StateInfo.TIE\n",
        "\n",
        "    if num1 == num2:\n",
        "      return StateInfo.PLAYER1\n",
        "    else:\n",
        "      return StateInfo.PLAYER2"
      ],
      "execution_count": 0,
      "outputs": []
    },
    {
      "cell_type": "markdown",
      "metadata": {
        "id": "5JgAfm_SJHm5",
        "colab_type": "text"
      },
      "source": [
        "**[TTT-05]**\n",
        "\n",
        "Define the Agent class."
      ]
    },
    {
      "cell_type": "code",
      "metadata": {
        "id": "n-HrT2ZgFbHb",
        "colab_type": "code",
        "colab": {}
      },
      "source": [
        "class Agent:\n",
        "  def __init__(self, player):\n",
        "    self.player = player\n",
        "\n",
        "    self.states = []\n",
        "    rows = [[a, b, c] for a in range(3) for b in range(3) for c in range(3)]\n",
        "    boards = [[a.copy(), b.copy(), c.copy()] for a in rows for b in rows for c in rows]\n",
        "    for board in boards:\n",
        "      state = State(board)\n",
        "      if self.player == 1 and state.info not in (None, StateInfo.PLAYER2):\n",
        "          self.states.append(state)\n",
        "      if self.player == 2 and state.info not in (None, StateInfo.PLAYER1):\n",
        "          self.states.append(state)\n",
        "\n",
        "    self.value = {}\n",
        "    for state in self.states:\n",
        "      self.value[state] = 0\n",
        "\n",
        "    self.policy = {}\n",
        "    for state in self.states:\n",
        "      if self.is_myturn(state):\n",
        "        self.policy[state] = random.choice(self.get_actions(state))\n",
        "      else:\n",
        "        self.policy[state] = None\n",
        "\n",
        "  def is_myturn(self, state):\n",
        "    if self.player == 1 and state.info == StateInfo.PLAYER1:\n",
        "      return True\n",
        "    if self.player == 2 and state.info == StateInfo.PLAYER2:\n",
        "      return True\n",
        "    return False\n",
        "\n",
        "  def is_won(self, state):\n",
        "    if self.player == 1 and state.info == StateInfo.WIN1:\n",
        "      return True\n",
        "    if self.player == 2 and state.info == StateInfo.WIN2:\n",
        "      return True\n",
        "    return False\n",
        "\n",
        "  def is_lost(self, state):\n",
        "    if self.player == 1 and state.info == StateInfo.WIN2:\n",
        "      return True\n",
        "    if self.player == 2 and state.info == StateInfo.WIN1:\n",
        "      return True\n",
        "    return False\n",
        "\n",
        "  def get_actions(self, state):\n",
        "    actions = [(x, y) for y in range(3) for x in range(3) if state.board[y][x] == 0]\n",
        "    return actions\n",
        "\n",
        "  def put(self, state, pos, player):\n",
        "    x, y = pos\n",
        "    board = deepcopy(state.board)\n",
        "    board[y][x] = player\n",
        "    return State(board)\n",
        "\n",
        "  def move(self, state, pos, opponent):\n",
        "    if not self.is_myturn(state): # Terminal state\n",
        "      return 0, state\n",
        "\n",
        "    next_state = self.put(state, pos, self.player)\n",
        "\n",
        "    if self.is_won(next_state):\n",
        "      return 1, next_state\n",
        "\n",
        "    if next_state.info == StateInfo.TIE:\n",
        "      return 0, next_state\n",
        "\n",
        "    pos = opponent.policy[next_state]\n",
        "    after_state = self.put(next_state, pos, opponent.player)\n",
        "    if self.is_lost(after_state):\n",
        "      return -1, after_state\n",
        "  \n",
        "    return 0, after_state"
      ],
      "execution_count": 0,
      "outputs": []
    },
    {
      "cell_type": "markdown",
      "metadata": {
        "id": "IOJeDu7dJKcf",
        "colab_type": "text"
      },
      "source": [
        "**[TTT-06]**\n",
        "\n",
        "Define a function to apply the policy evaluation algorithm until conversion."
      ]
    },
    {
      "cell_type": "code",
      "metadata": {
        "colab_type": "code",
        "id": "9-agNQbk9CSA",
        "colab": {}
      },
      "source": [
        "def policy_eval(agent, opponent, gamma=1.0, delta=0.01):\n",
        "  while True:\n",
        "    delta_max = 0\n",
        "    for state in agent.states:\n",
        "      r, s_new = agent.move(state, agent.policy[state], opponent)\n",
        "      v_new = r + gamma * agent.value[s_new]\n",
        "      delta_max = max(delta_max, abs(agent.value[state] - v_new))\n",
        "      agent.value[state] = v_new\n",
        "\n",
        "    if delta_max < delta:\n",
        "      break"
      ],
      "execution_count": 0,
      "outputs": []
    },
    {
      "cell_type": "markdown",
      "metadata": {
        "id": "K9LpOcIjJRoF",
        "colab_type": "text"
      },
      "source": [
        "**[TTT-07]**\n",
        "\n",
        "Define a function to apply the policy update algorithm."
      ]
    },
    {
      "cell_type": "code",
      "metadata": {
        "id": "222X2XCKUqCT",
        "colab_type": "code",
        "colab": {}
      },
      "source": [
        "def policy_update(agent, opponent, gamma=1.0):\n",
        "  update = False\n",
        "  for state in agent.states:\n",
        "    if not agent.is_myturn(state):\n",
        "      continue\n",
        "\n",
        "    q_max = -10**10\n",
        "    pos_best = None\n",
        "    for pos in agent.get_actions(state):\n",
        "      r, state_new = agent.move(state, pos, opponent)\n",
        "      q = r + gamma * agent.value[state_new]\n",
        "      if q > q_max:\n",
        "        q_max = q\n",
        "        pos_best = pos\n",
        "\n",
        "    if agent.policy[state] != pos_best:\n",
        "      update = True\n",
        "    agent.policy[state] = pos_best\n",
        "\n",
        "  return update"
      ],
      "execution_count": 0,
      "outputs": []
    },
    {
      "cell_type": "markdown",
      "metadata": {
        "id": "gSjMSLuEJZmu",
        "colab_type": "text"
      },
      "source": [
        "**[TTT-08]**\n",
        "\n",
        "Define a function to apply the policy iteration algorithm."
      ]
    },
    {
      "cell_type": "code",
      "metadata": {
        "id": "RdX17ELegNVo",
        "colab_type": "code",
        "colab": {}
      },
      "source": [
        "def policy_iteration(agent, opponent):\n",
        "  while True:\n",
        "    print('.', end='')\n",
        "    policy_eval(agent, opponent)\n",
        "    if not policy_update(agent, opponent):\n",
        "      break"
      ],
      "execution_count": 0,
      "outputs": []
    },
    {
      "cell_type": "markdown",
      "metadata": {
        "id": "TzwqHqBTJe_U",
        "colab_type": "text"
      },
      "source": [
        "**[TTT-09]**\n",
        "\n",
        "Define agents for player 1 and 2."
      ]
    },
    {
      "cell_type": "code",
      "metadata": {
        "id": "7LtqkQaF94bO",
        "colab_type": "code",
        "colab": {}
      },
      "source": [
        "agent1 = Agent(player=1)\n",
        "agent2 = Agent(player=2)"
      ],
      "execution_count": 0,
      "outputs": []
    },
    {
      "cell_type": "markdown",
      "metadata": {
        "id": "3rfAhy6yJpks",
        "colab_type": "text"
      },
      "source": [
        "**[TTT-10]**\n",
        "\n",
        "Apply the policy iteration for two agents alternately."
      ]
    },
    {
      "cell_type": "code",
      "metadata": {
        "id": "SNlzYhd-99bB",
        "colab_type": "code",
        "outputId": "ce7f3f50-837f-4179-f98f-10e555e943e5",
        "colab": {
          "base_uri": "https://localhost:8080/",
          "height": 119
        }
      },
      "source": [
        "for _ in range(6):\n",
        "  policy_iteration(agent1, agent2)\n",
        "  policy_iteration(agent2, agent1)\n",
        "  print('')"
      ],
      "execution_count": 0,
      "outputs": [
        {
          "output_type": "stream",
          "text": [
            ".......\n",
            "........\n",
            "......\n",
            ".....\n",
            "...\n",
            "..\n"
          ],
          "name": "stdout"
        }
      ]
    },
    {
      "cell_type": "markdown",
      "metadata": {
        "id": "lkwqC_ZVKPFL",
        "colab_type": "text"
      },
      "source": [
        "**[TTT-11]**\n",
        "\n",
        "Play a game using the trained agents."
      ]
    },
    {
      "cell_type": "code",
      "metadata": {
        "id": "czow-E6VXbyr",
        "colab_type": "code",
        "outputId": "6bb2414d-5a3f-4a07-9250-c6d5d5652027",
        "colab": {
          "base_uri": "https://localhost:8080/",
          "height": 646
        }
      },
      "source": [
        "state = agent1.states[0]\n",
        "initial = True\n",
        "while True:\n",
        "  if initial:\n",
        "    state = agent1.put(state, random.choice(agent1.get_actions(state)), 1)\n",
        "    initial = False\n",
        "  else:\n",
        "    state = agent1.put(state, agent1.policy[state], 1)\n",
        "  print(state)\n",
        "  if state.info != StateInfo.PLAYER2:\n",
        "    break\n",
        "\n",
        "  state = agent1.put(state, agent2.policy[state], 2)\n",
        "  print(state)\n",
        "  if state.info != StateInfo.PLAYER1:\n",
        "    break\n",
        "\n",
        "print(state.info)"
      ],
      "execution_count": 0,
      "outputs": [
        {
          "output_type": "stream",
          "text": [
            "・・・\n",
            "・・・\n",
            "・・○\n",
            "\n",
            "・・・\n",
            "・×・\n",
            "・・○\n",
            "\n",
            "○・・\n",
            "・×・\n",
            "・・○\n",
            "\n",
            "○×・\n",
            "・×・\n",
            "・・○\n",
            "\n",
            "○×・\n",
            "・×・\n",
            "・○○\n",
            "\n",
            "○×・\n",
            "・×・\n",
            "×○○\n",
            "\n",
            "○×○\n",
            "・×・\n",
            "×○○\n",
            "\n",
            "○×○\n",
            "・××\n",
            "×○○\n",
            "\n",
            "○×○\n",
            "○××\n",
            "×○○\n",
            "\n",
            "StateInfo.TIE\n"
          ],
          "name": "stdout"
        }
      ]
    },
    {
      "cell_type": "markdown",
      "metadata": {
        "id": "L29jE3oyKXNU",
        "colab_type": "text"
      },
      "source": [
        "**[TTT-12]**\n",
        "\n",
        "Play a game using the trained agents (with random acitons for the player 1.)"
      ]
    },
    {
      "cell_type": "code",
      "metadata": {
        "id": "bW7EBStN6FYI",
        "colab_type": "code",
        "outputId": "ff3490b1-8f7a-40e2-9a4f-e988856d6899",
        "colab": {
          "base_uri": "https://localhost:8080/",
          "height": 442
        }
      },
      "source": [
        "state = agent1.states[0]\n",
        "while True:\n",
        "  state = agent1.put(state, random.choice(agent1.get_actions(state)), 1)\n",
        "  print(state)\n",
        "  if state.info != StateInfo.PLAYER2:\n",
        "    break\n",
        "\n",
        "  state = agent1.put(state, agent2.policy[state], 2)\n",
        "  print(state)\n",
        "  if state.info != StateInfo.PLAYER1:\n",
        "    break\n",
        "\n",
        "print(state.info)"
      ],
      "execution_count": 0,
      "outputs": [
        {
          "output_type": "stream",
          "text": [
            "・・・\n",
            "・・・\n",
            "○・・\n",
            "\n",
            "・・・\n",
            "・×・\n",
            "○・・\n",
            "\n",
            "・・・\n",
            "・×・\n",
            "○○・\n",
            "\n",
            "・・・\n",
            "・×・\n",
            "○○×\n",
            "\n",
            "・・・\n",
            "○×・\n",
            "○○×\n",
            "\n",
            "×・・\n",
            "○×・\n",
            "○○×\n",
            "\n",
            "StateInfo.WIN2\n"
          ],
          "name": "stdout"
        }
      ]
    }
  ]
}
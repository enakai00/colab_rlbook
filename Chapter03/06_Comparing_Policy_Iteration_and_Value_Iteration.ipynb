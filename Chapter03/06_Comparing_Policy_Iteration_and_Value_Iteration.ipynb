{
  "nbformat": 4,
  "nbformat_minor": 0,
  "metadata": {
    "colab": {
      "name": "06 Comparing Policy Iteration and Value Iteration.ipynb",
      "provenance": []
    },
    "kernelspec": {
      "name": "python3",
      "display_name": "Python 3"
    }
  },
  "cells": [
    {
      "cell_type": "markdown",
      "metadata": {
        "id": "2d8PoTK1_zB6",
        "colab_type": "text"
      },
      "source": [
        "**[CPV-01]**\n",
        "\n",
        "Import modules."
      ]
    },
    {
      "cell_type": "code",
      "metadata": {
        "id": "OqtU91VDEBVN",
        "colab_type": "code",
        "colab": {}
      },
      "source": [
        "import numpy as np\n",
        "import matplotlib.pyplot as plt\n",
        "import seaborn as sns\n",
        "import matplotlib\n",
        "matplotlib.rcParams['font.size'] = 12"
      ],
      "execution_count": 0,
      "outputs": []
    },
    {
      "cell_type": "markdown",
      "metadata": {
        "id": "ffCEqNII_75A",
        "colab_type": "text"
      },
      "source": [
        "**[CPV-02]**\n",
        "\n",
        "Define the Gridworld class."
      ]
    },
    {
      "cell_type": "code",
      "metadata": {
        "id": "cx9f689KD8zV",
        "colab_type": "code",
        "colab": {}
      },
      "source": [
        "class Gridworld:\n",
        "  def __init__(self, size=6, traps=[], alpha=0):\n",
        "    self.size = size\n",
        "    self.traps = traps\n",
        "    self.alpha = alpha\n",
        "    self.start = (0, 0)\n",
        "    self.goal = (size-1, size-1)\n",
        "\n",
        "    self.states = [(x, y) for x in range(size) for y in range(size)]\n",
        "    self.actions = [(-1, 0), (0, -1), (1, 0), (0, 1)]\n",
        "    \n",
        "    self.policy = {}\n",
        "    for s in self.states:\n",
        "      self.policy[(s, (-1, 0))] = 0\n",
        "      self.policy[(s, (0, -1))] = 0\n",
        "      self.policy[(s, (1, 0))] = 1/2\n",
        "      self.policy[(s, (0, 1))] = 1/2\n",
        "\n",
        "    self.value = {}\n",
        "    for s in self.states:\n",
        "      self.value[s] = 0\n",
        "   \n",
        "  def move(self, s, a):\n",
        "    if s == self.goal:\n",
        "      return [(1, 0, s)]      # Probability, Reward, Next state\n",
        "\n",
        "    s_new = (s[0] + a[0], s[1] + a[1])\n",
        "\n",
        "    if s_new not in self.states:\n",
        "      # Give a penalty to a non-moving action.\n",
        "      return [(1, -1, s)]     # Probability, Reward, Next state\n",
        "\n",
        "    if s_new in self.traps:\n",
        "      # Probability, Reward, Next state\n",
        "      return [(self.alpha, -1, self.start), (1-self.alpha, -1, self.goal)]\n",
        "\n",
        "    return [(1, -1, s_new)]   # Probability, Reward, Next state"
      ],
      "execution_count": 0,
      "outputs": []
    },
    {
      "cell_type": "markdown",
      "metadata": {
        "id": "tW5bhVPEKyDj",
        "colab_type": "text"
      },
      "source": [
        "**[CPV-03]**\n",
        "\n",
        "Define a function to apply the policy evaluation algorithm until conversion."
      ]
    },
    {
      "cell_type": "code",
      "metadata": {
        "id": "vqcj4VEEyBbX",
        "colab_type": "code",
        "colab": {}
      },
      "source": [
        "def policy_eval(world, gamma=1, delta=0.01):\n",
        "  result = []\n",
        "  while True:\n",
        "    delta_max = 0\n",
        "    for s in world.states:\n",
        "      v_new = 0\n",
        "      for a in world.actions:\n",
        "        results = world.move(s, a)\n",
        "        for p, r, s_new in results:\n",
        "          v_new += world.policy[(s, a)] * p * (r + gamma * world.value[s_new])\n",
        "      delta_max = max(delta_max, abs(world.value[s] - v_new))\n",
        "      world.value[s] = v_new\n",
        "    result.append(world.value[(0, 0)])\n",
        "\n",
        "    if delta_max < delta:\n",
        "      break\n",
        "\n",
        "  return result"
      ],
      "execution_count": 0,
      "outputs": []
    },
    {
      "cell_type": "markdown",
      "metadata": {
        "id": "zJ0Sl3b2EIu9",
        "colab_type": "text"
      },
      "source": [
        "**[CPV-04]**\n",
        "\n",
        "Define a function to apply the policy update algorithm."
      ]
    },
    {
      "cell_type": "code",
      "metadata": {
        "id": "0Y0O13C7vlCP",
        "colab_type": "code",
        "colab": {}
      },
      "source": [
        "def policy_update_all(world, gamma=1):\n",
        "  update = False\n",
        "  for s in world.states:\n",
        "    q_max = -10**10\n",
        "    a_best = None\n",
        "    for a in world.actions:\n",
        "      results = world.move(s, a)\n",
        "      q = 0\n",
        "      for p, r, s_new in results:\n",
        "        q += p * (r + gamma * world.value[s_new])\n",
        "      if q > q_max:\n",
        "        q_max = q\n",
        "        a_best = a\n",
        "\n",
        "    if world.policy[(s, a_best)] != 1:\n",
        "      update = True\n",
        "    for a in world.actions:\n",
        "      world.policy[(s, a)] = 0\n",
        "    world.policy[(s, a_best)] = 1\n",
        "  \n",
        "  return update"
      ],
      "execution_count": 0,
      "outputs": []
    },
    {
      "cell_type": "markdown",
      "metadata": {
        "id": "nl7ZPaIhEQU2",
        "colab_type": "text"
      },
      "source": [
        "**[CPV-05]**\n",
        "\n",
        "Define a function to apply the policy iteration algorithm."
      ]
    },
    {
      "cell_type": "code",
      "metadata": {
        "id": "sTjGXdZnCQoG",
        "colab_type": "code",
        "colab": {}
      },
      "source": [
        "def policy_iteration(world):\n",
        "  result = [world.value[(0, 0)]]\n",
        "  while True:\n",
        "    print('.', end='')\n",
        "    result += policy_eval(world)\n",
        "    if not policy_update_all(world):\n",
        "      print('\\n')\n",
        "      break\n",
        "\n",
        "  return result"
      ],
      "execution_count": 0,
      "outputs": []
    },
    {
      "cell_type": "markdown",
      "metadata": {
        "id": "OE8s1h0DjkWK",
        "colab_type": "text"
      },
      "source": [
        "**[CPV-06]**\n",
        "\n",
        "Define a function to update the greedy policy for a spedific state."
      ]
    },
    {
      "cell_type": "code",
      "metadata": {
        "id": "8ujkXohWfz7H",
        "colab_type": "code",
        "colab": {}
      },
      "source": [
        "def policy_update_s(world, s, gamma=1):\n",
        "  q_max = -10**10\n",
        "  a_best = None\n",
        "  for a in world.actions:\n",
        "    results = world.move(s, a)\n",
        "    q = 0\n",
        "    for p, r, s_new in results:\n",
        "      q += p * (r + gamma * world.value[s_new])\n",
        "    if q > q_max:\n",
        "      q_max = q\n",
        "      a_best = a\n",
        "\n",
        "  for a in world.actions:\n",
        "    world.policy[(s, a)] = 0\n",
        "  world.policy[(s, a_best)] = 1\n",
        "  \n",
        "  return q_max"
      ],
      "execution_count": 0,
      "outputs": []
    },
    {
      "cell_type": "markdown",
      "metadata": {
        "id": "TZ4JHkwJjws2",
        "colab_type": "text"
      },
      "source": [
        "**[CPV-06]**\n",
        "\n",
        "Define a function to apply the value iteration algorithm."
      ]
    },
    {
      "cell_type": "code",
      "metadata": {
        "id": "Jy_UPNEAbvwi",
        "colab_type": "code",
        "colab": {}
      },
      "source": [
        "def value_iteration(world, delta=0.01):\n",
        "  result = [world.value[(0, 0)]]\n",
        "  while True:\n",
        "    delta_max = 0\n",
        "    print('.', end='')\n",
        "    for s in world.states:\n",
        "      v_new = policy_update_s(world, s)  # Policy update\n",
        "      delta_max = max(delta_max, abs(world.value[s] - v_new))\n",
        "      world.value[s] = v_new           # Value update\n",
        "    result.append(world.value[(0, 0)])\n",
        "\n",
        "    if delta_max < delta:\n",
        "      print('\\n')\n",
        "      break\n",
        "\n",
        "  return result"
      ],
      "execution_count": 0,
      "outputs": []
    },
    {
      "cell_type": "markdown",
      "metadata": {
        "colab_type": "text",
        "id": "Mks_kQypdppL"
      },
      "source": [
        "**[CPV-07]**\n",
        "\n",
        "Define a gridworld (α=0.5) and apply the policy iteration algorithm."
      ]
    },
    {
      "cell_type": "code",
      "metadata": {
        "id": "pQx6AdT7xFsp",
        "colab_type": "code",
        "outputId": "ec96d0ff-ccbd-4f0f-ff8e-9d16339806e8",
        "colab": {
          "base_uri": "https://localhost:8080/",
          "height": 319
        }
      },
      "source": [
        "world = Gridworld(size=6, traps=[(4, y) for y in range(4)], alpha=0.5)\n",
        "result = policy_iteration(world)\n",
        "plt.plot(range(len(result)), result)\n",
        "print('Final value of world.value[(0, 0)] = {}'.format(result[-1]))"
      ],
      "execution_count": 0,
      "outputs": [
        {
          "output_type": "stream",
          "text": [
            "....\n",
            "\n",
            "Final value of world.value[(0, 0)] = -8.013211626582287\n"
          ],
          "name": "stdout"
        },
        {
          "output_type": "display_data",
          "data": {
            "image/png": "[encoded data removed]",
            "text/plain": [
              "<Figure size 432x288 with 1 Axes>"
            ]
          },
          "metadata": {
            "tags": []
          }
        }
      ]
    },
    {
      "cell_type": "markdown",
      "metadata": {
        "id": "c_eRcX5Gj5Rw",
        "colab_type": "text"
      },
      "source": [
        "**[CPV-08]**\n",
        "\n",
        "Define a gridworld (α=0.5) and apply the value iteration algorithm."
      ]
    },
    {
      "cell_type": "code",
      "metadata": {
        "id": "ZOyhJXz1cRJ0",
        "colab_type": "code",
        "outputId": "beec74c4-990f-4995-ccac-f2042057ce6f",
        "colab": {
          "base_uri": "https://localhost:8080/",
          "height": 319
        }
      },
      "source": [
        "world = Gridworld(size=6, traps=[(4, y) for y in range(4)], alpha=0.5)\n",
        "result = value_iteration(world)\n",
        "plt.plot(range(len(result)), result)\n",
        "print('Final value of world.value[(0, 0)] = {}'.format(result[-1]))"
      ],
      "execution_count": 0,
      "outputs": [
        {
          "output_type": "stream",
          "text": [
            "........................\n",
            "\n",
            "Final value of world.value[(0, 0)] = -7.9609375\n"
          ],
          "name": "stdout"
        },
        {
          "output_type": "display_data",
          "data": {
            "image/png": "[encoded data removed]",
            "text/plain": [
              "<Figure size 432x288 with 1 Axes>"
            ]
          },
          "metadata": {
            "tags": []
          }
        }
      ]
    }
  ]
}
{
  "nbformat": 4,
  "nbformat_minor": 0,
  "metadata": {
    "colab": {
      "name": "01 Policy Iteration-1.ipynb",
      "provenance": [],
      "include_colab_link": true
    },
    "kernelspec": {
      "name": "python3",
      "display_name": "Python 3"
    }
  },
  "cells": [
    {
      "cell_type": "markdown",
      "metadata": {
        "id": "view-in-github",
        "colab_type": "text"
      },
      "source": [
        "<a href=\"https://colab.research.google.com/github/enakai00/colab_rlbook/blob/master/Chapter03/01_Policy_Iteration_1.ipynb\" target=\"_parent\"><img src=\"https://colab.research.google.com/assets/colab-badge.svg\" alt=\"Open In Colab\"/></a>"
      ]
    },
    {
      "cell_type": "markdown",
      "metadata": {
        "id": "2d8PoTK1_zB6",
        "colab_type": "text"
      },
      "source": [
        "**[PI1-01]**\n",
        "\n",
        "Import modules."
      ]
    },
    {
      "cell_type": "code",
      "metadata": {
        "id": "OqtU91VDEBVN",
        "colab_type": "code",
        "colab": {}
      },
      "source": [
        "import numpy as np\n",
        "import matplotlib.pyplot as plt\n",
        "import seaborn as sns\n",
        "import matplotlib\n",
        "matplotlib.rcParams['font.size'] = 12"
      ],
      "execution_count": 0,
      "outputs": []
    },
    {
      "cell_type": "markdown",
      "metadata": {
        "id": "ffCEqNII_75A",
        "colab_type": "text"
      },
      "source": [
        "**[PI1-02]**\n",
        "\n",
        "Define the Gridworld class."
      ]
    },
    {
      "cell_type": "code",
      "metadata": {
        "id": "cx9f689KD8zV",
        "colab_type": "code",
        "colab": {}
      },
      "source": [
        "class Gridworld:\n",
        "  def __init__(self, size=6, traps=[], alpha=0):\n",
        "    self.size = size\n",
        "    self.traps = traps\n",
        "    self.alpha = alpha\n",
        "    self.start = (0, 0)\n",
        "    self.goal = (size-1, size-1)\n",
        "\n",
        "    self.states = [(x, y) for x in range(size) for y in range(size)]\n",
        "    self.actions = [(-1, 0), (0, -1), (1, 0), (0, 1)]\n",
        "    \n",
        "    self.policy = {}\n",
        "    for s in self.states:\n",
        "      self.policy[(s, (-1, 0))] = 0\n",
        "      self.policy[(s, (0, -1))] = 0\n",
        "      self.policy[(s, (1, 0))] = 1/2\n",
        "      self.policy[(s, (0, 1))] = 1/2\n",
        "\n",
        "    self.value = {}\n",
        "    for s in self.states:\n",
        "      self.value[s] = 0\n",
        "   \n",
        "  def move(self, s, a):\n",
        "    if s == self.goal:\n",
        "      return [(1, 0, s)]  # Probability, Reward, Next state\n",
        "\n",
        "    s_new = (s[0] + a[0], s[1] + a[1])\n",
        "\n",
        "    if s_new not in self.states:\n",
        "      # Give a penalty to a non-moving action.\n",
        "      return [(1, -1, s)]  # Probability, Reward, Next state\n",
        "\n",
        "    if s_new in self.traps:\n",
        "      # Probability, Reward, Next state\n",
        "      return [(self.alpha, -1, self.start), (1-self.alpha, -1, self.goal)]\n",
        "\n",
        "    return [(1, -1, s_new)]   # Probability, Reward, Next state"
      ],
      "execution_count": 0,
      "outputs": []
    },
    {
      "cell_type": "markdown",
      "metadata": {
        "id": "D1Yo5MK-KrXN",
        "colab_type": "text"
      },
      "source": [
        "**[PI1-03]**\n",
        "\n",
        "Define a function to show state values."
      ]
    },
    {
      "cell_type": "code",
      "metadata": {
        "id": "GgXeij8O7Vds",
        "colab_type": "code",
        "colab": {}
      },
      "source": [
        "  def show_values(world, subplot=None, title=None):\n",
        "    if not subplot:\n",
        "      fig = plt.figure(figsize=(world.size*0.8, world.size*0.8))\n",
        "      subplot = fig.add_subplot(1, 1, 1)\n",
        "\n",
        "    result = np.zeros([world.size, world.size])\n",
        "    for (x, y) in world.states:\n",
        "      if (x, y) in world.traps:\n",
        "        result[y][x] = None\n",
        "      else:\n",
        "        result[y][x]  = world.value[(x, y)]\n",
        "    sns.heatmap(result, square=True, cbar=False,\n",
        "                annot=True, fmt='3.1f', cmap='coolwarm',\n",
        "                ax=subplot).set_title(title)"
      ],
      "execution_count": 0,
      "outputs": []
    },
    {
      "cell_type": "markdown",
      "metadata": {
        "id": "xWlZpoKSEDk3",
        "colab_type": "text"
      },
      "source": [
        "**[PI1-04]**\n",
        "\n",
        "Define a function to show a greedy policy."
      ]
    },
    {
      "cell_type": "code",
      "metadata": {
        "id": "xoaxfz4uzy8F",
        "colab_type": "code",
        "colab": {}
      },
      "source": [
        "def show_policy(world):\n",
        "  chars = {(-1, 0): u'←', (0, -1): u'↑', (1, 0): u'→', (0, 1): u'↓'}\n",
        "  result = ''\n",
        "  for y in range(world.size):\n",
        "    for x in range(world.size):\n",
        "      if (x, y) in world.traps or (x, y) == world.goal:\n",
        "        direction = u'　'\n",
        "      else:\n",
        "        for a in world.actions:\n",
        "          if world.policy[((x, y), a)] == 1:\n",
        "            direction = chars[a]\n",
        "      result += direction\n",
        "    result += '\\n'\n",
        "\n",
        "  print (result)"
      ],
      "execution_count": 0,
      "outputs": []
    },
    {
      "cell_type": "markdown",
      "metadata": {
        "id": "tW5bhVPEKyDj",
        "colab_type": "text"
      },
      "source": [
        "**[PI1-05]**\n",
        "\n",
        "Define a function to apply the policy evaluation algorithm until conversion."
      ]
    },
    {
      "cell_type": "code",
      "metadata": {
        "id": "vqcj4VEEyBbX",
        "colab_type": "code",
        "colab": {}
      },
      "source": [
        "def policy_eval(world, gamma=1, delta=0.01):\n",
        "  while(True):\n",
        "    delta_max = 0\n",
        "    for s in world.states:\n",
        "      v_new = 0\n",
        "      for a in world.actions:\n",
        "        results = world.move(s, a)\n",
        "        for p, r, s_new in results:\n",
        "          v_new += world.policy[(s, a)] * p * (r + gamma * world.value[s_new])\n",
        "      delta_max = max(delta_max, abs(world.value[s] - v_new))\n",
        "      world.value[s] = v_new\n",
        "\n",
        "    if delta_max < delta:\n",
        "      break"
      ],
      "execution_count": 0,
      "outputs": []
    },
    {
      "cell_type": "markdown",
      "metadata": {
        "id": "zJ0Sl3b2EIu9",
        "colab_type": "text"
      },
      "source": [
        "**[PI1-06]**\n",
        "\n",
        "Define a function to apply the policy update algorithm."
      ]
    },
    {
      "cell_type": "code",
      "metadata": {
        "id": "0Y0O13C7vlCP",
        "colab_type": "code",
        "colab": {}
      },
      "source": [
        "def policy_update(world, gamma=1):\n",
        "  update = False\n",
        "  for s in world.states:\n",
        "    q_max = -10**10\n",
        "    a_best = None\n",
        "    for a in world.actions:\n",
        "      results = world.move(s, a)\n",
        "      q = 0\n",
        "      for p, r, s_new in results:\n",
        "        q += p * (r + gamma * world.value[s_new])\n",
        "      if q > q_max:\n",
        "        q_max = q\n",
        "        a_best = a\n",
        "\n",
        "    if world.policy[(s, a_best)] != 1:\n",
        "      update = True\n",
        "    for a in world.actions:\n",
        "      world.policy[(s, a)] = 0\n",
        "    world.policy[(s, a_best)] = 1\n",
        "  \n",
        "  return update"
      ],
      "execution_count": 0,
      "outputs": []
    },
    {
      "cell_type": "markdown",
      "metadata": {
        "id": "nl7ZPaIhEQU2",
        "colab_type": "text"
      },
      "source": [
        "**[PI1-07]**\n",
        "\n",
        "Define a function to apply the policy iteration algorithm."
      ]
    },
    {
      "cell_type": "code",
      "metadata": {
        "id": "sTjGXdZnCQoG",
        "colab_type": "code",
        "colab": {}
      },
      "source": [
        "def policy_iteration(world):\n",
        "  while True:\n",
        "    print('.', end='')\n",
        "    policy_eval(world)\n",
        "    if not policy_update(world):\n",
        "      print('\\n')\n",
        "      break"
      ],
      "execution_count": 0,
      "outputs": []
    },
    {
      "cell_type": "markdown",
      "metadata": {
        "id": "nLclQXw_EVMz",
        "colab_type": "text"
      },
      "source": [
        "**[PI1-06]**\n",
        "\n",
        "Define a function to apply the policy update algorithm (α=0.5)."
      ]
    },
    {
      "cell_type": "code",
      "metadata": {
        "id": "pQx6AdT7xFsp",
        "colab_type": "code",
        "colab": {
          "base_uri": "https://localhost:8080/",
          "height": 482
        },
        "outputId": "6924ef00-2194-410a-ff00-7e65dc1f9b54"
      },
      "source": [
        "world = Gridworld(size=6, traps=[(4, y) for y in range(4)], alpha=0.5)\n",
        "policy_iteration(world)\n",
        "show_policy(world)\n",
        "show_values(world, title='Values')"
      ],
      "execution_count": 8,
      "outputs": [
        {
          "output_type": "stream",
          "text": [
            "....\n",
            "\n",
            "→→→→　↓\n",
            "→→→→　↓\n",
            "→→→↓　↓\n",
            "→→→↓　↓\n",
            "→→→→→↓\n",
            "→→→→→　\n",
            "\n"
          ],
          "name": "stdout"
        },
        {
          "output_type": "display_data",
          "data": {
            "image/png": "[encoded data removed]",
            "text/plain": [
              "<Figure size 345.6x345.6 with 1 Axes>"
            ]
          },
          "metadata": {
            "tags": []
          }
        }
      ]
    },
    {
      "cell_type": "markdown",
      "metadata": {
        "id": "qTTOjHMXEuBn",
        "colab_type": "text"
      },
      "source": [
        "**[PI1-07]**\n",
        "\n",
        "Define a function to apply the policy update algorithm (α=0.45)."
      ]
    },
    {
      "cell_type": "code",
      "metadata": {
        "id": "Cn93YJAYCLFp",
        "colab_type": "code",
        "colab": {
          "base_uri": "https://localhost:8080/",
          "height": 482
        },
        "outputId": "4949d6ab-edee-4c61-c05d-97f942f50964"
      },
      "source": [
        "world = Gridworld(size=6, traps=[(4, y) for y in range(4)], alpha=0.45)\n",
        "policy_iteration(world)\n",
        "show_policy(world)\n",
        "show_values(world, title='Values')"
      ],
      "execution_count": 9,
      "outputs": [
        {
          "output_type": "stream",
          "text": [
            "...\n",
            "\n",
            "→→→→　←\n",
            "→→→→　↓\n",
            "→→→→　↓\n",
            "→→→↓　↓\n",
            "→→→→→↓\n",
            "→→→→→　\n",
            "\n"
          ],
          "name": "stdout"
        },
        {
          "output_type": "display_data",
          "data": {
            "image/png": "[encoded data removed]",
            "text/plain": [
              "<Figure size 345.6x345.6 with 1 Axes>"
            ]
          },
          "metadata": {
            "tags": []
          }
        }
      ]
    },
    {
      "cell_type": "markdown",
      "metadata": {
        "id": "DEj1k6HtEyR_",
        "colab_type": "text"
      },
      "source": [
        "**[PI1-08]**\n",
        "\n",
        "Define a function to apply the policy update algorithm (α=1.0)."
      ]
    },
    {
      "cell_type": "code",
      "metadata": {
        "id": "mpaJgaah1msO",
        "colab_type": "code",
        "colab": {
          "base_uri": "https://localhost:8080/",
          "height": 482
        },
        "outputId": "a189da81-8f60-4447-9832-96136690e638"
      },
      "source": [
        "world = Gridworld(size=6, traps=[(4, y) for y in range(4)], alpha=1.0)\n",
        "policy_iteration(world)\n",
        "show_policy(world)\n",
        "show_values(world, title='Values')"
      ],
      "execution_count": 10,
      "outputs": [
        {
          "output_type": "stream",
          "text": [
            "....\n",
            "\n",
            "→→→↓　↓\n",
            "→→→↓　↓\n",
            "→→→↓　↓\n",
            "→→→↓　↓\n",
            "→→→→→↓\n",
            "→→→→→　\n",
            "\n"
          ],
          "name": "stdout"
        },
        {
          "output_type": "display_data",
          "data": {
            "image/png": "[encoded data removed]",
            "text/plain": [
              "<Figure size 345.6x345.6 with 1 Axes>"
            ]
          },
          "metadata": {
            "tags": []
          }
        }
      ]
    },
    {
      "cell_type": "markdown",
      "metadata": {
        "id": "BhnG9TowE14C",
        "colab_type": "text"
      },
      "source": [
        "**[PI1-09]**\n",
        "\n",
        "Define a function to apply the policy update algorithm (α=0.0)."
      ]
    },
    {
      "cell_type": "code",
      "metadata": {
        "id": "nHo-v0OJ-otE",
        "colab_type": "code",
        "colab": {
          "base_uri": "https://localhost:8080/",
          "height": 482
        },
        "outputId": "d24d1f4c-75dc-4517-8d29-61398e31b698"
      },
      "source": [
        "world = Gridworld(size=6, traps=[(4, y) for y in range(4)], alpha=0.0)\n",
        "policy_iteration(world)\n",
        "show_policy(world)\n",
        "show_values(world, title='Values')"
      ],
      "execution_count": 11,
      "outputs": [
        {
          "output_type": "stream",
          "text": [
            "...\n",
            "\n",
            "→→→→　←\n",
            "→→→→　←\n",
            "→→→→　←\n",
            "→→→→　←\n",
            "↑↑↑↑↑↓\n",
            "→→→→→　\n",
            "\n"
          ],
          "name": "stdout"
        },
        {
          "output_type": "display_data",
          "data": {
            "image/png": "[encoded data removed]",
            "text/plain": [
              "<Figure size 345.6x345.6 with 1 Axes>"
            ]
          },
          "metadata": {
            "tags": []
          }
        }
      ]
    }
  ]
}
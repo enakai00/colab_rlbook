{
  "nbformat": 4,
  "nbformat_minor": 0,
  "metadata": {
    "colab": {
      "name": "01 Policy Iteration-1.ipynb",
      "provenance": []
    },
    "kernelspec": {
      "name": "python3",
      "display_name": "Python 3"
    }
  },
  "cells": [
    {
      "cell_type": "markdown",
      "metadata": {
        "id": "2d8PoTK1_zB6",
        "colab_type": "text"
      },
      "source": [
        "**[PI1-01]**\n",
        "\n",
        "Import modules."
      ]
    },
    {
      "cell_type": "code",
      "metadata": {
        "id": "OqtU91VDEBVN",
        "colab_type": "code",
        "colab": {}
      },
      "source": [
        "import numpy as np\n",
        "import matplotlib.pyplot as plt\n",
        "import seaborn as sns\n",
        "import matplotlib\n",
        "matplotlib.rcParams['font.size'] = 12"
      ],
      "execution_count": 0,
      "outputs": []
    },
    {
      "cell_type": "markdown",
      "metadata": {
        "id": "ffCEqNII_75A",
        "colab_type": "text"
      },
      "source": [
        "**[PI1-02]**\n",
        "\n",
        "Define the Gridworld class."
      ]
    },
    {
      "cell_type": "code",
      "metadata": {
        "id": "cx9f689KD8zV",
        "colab_type": "code",
        "colab": {}
      },
      "source": [
        "class Gridworld:\n",
        "  def __init__(self, size=8):\n",
        "    self.size = size\n",
        "    self.states = range(size)\n",
        "    self.actions = [-1, 1]\n",
        "\n",
        "    self.policy = {}\n",
        "    for s in self.states:\n",
        "      self.policy[(s, 1)] = 1/2\n",
        "      self.policy[(s, -1)] = 1/2\n",
        "\n",
        "    self.value = {}\n",
        "    for s in self.states:\n",
        "      self.value[s] = 0\n",
        "\n",
        "  def move(self, s, a):\n",
        "    if s in (0, self.size-1): # Terminal state\n",
        "      return 0, s       # Reward, Next state\n",
        "    \n",
        "    s_new = s + a\n",
        "    \n",
        "    if s_new == 0:\n",
        "      return 1, s_new   # Reward, Next state\n",
        "\n",
        "    if s_new == self.size-1:\n",
        "      return -1, s_new  # Reward, Next state\n",
        "\n",
        "    return 0, s_new     # Reward, Next state"
      ],
      "execution_count": 0,
      "outputs": []
    },
    {
      "cell_type": "markdown",
      "metadata": {
        "id": "D1Yo5MK-KrXN",
        "colab_type": "text"
      },
      "source": [
        "**[PI1-03]**\n",
        "\n",
        "Define a function to show state values."
      ]
    },
    {
      "cell_type": "code",
      "metadata": {
        "id": "GgXeij8O7Vds",
        "colab_type": "code",
        "colab": {}
      },
      "source": [
        "  def show_values(world, title='Values'):\n",
        "    fig = plt.figure(figsize=(world.size*0.8, 1.7))\n",
        "    subplot = fig.add_subplot(1, 1, 1)\n",
        "    result = np.zeros([1, world.size])\n",
        "    for s in world.states:\n",
        "      result[0][s]  = world.value[s]\n",
        "    sns.heatmap(result, square=True, cbar=False, yticklabels=[],\n",
        "                annot=True, fmt='3.1f', cmap='coolwarm',\n",
        "                ax=subplot).set_title(title)"
      ],
      "execution_count": 0,
      "outputs": []
    },
    {
      "cell_type": "markdown",
      "metadata": {
        "id": "tW5bhVPEKyDj",
        "colab_type": "text"
      },
      "source": [
        "**[PI1-04]**\n",
        "\n",
        "Define a function to apply the policy evaluation algorithm until conversion."
      ]
    },
    {
      "cell_type": "code",
      "metadata": {
        "id": "vqcj4VEEyBbX",
        "colab_type": "code",
        "colab": {}
      },
      "source": [
        "def policy_eval(world, gamma=1, delta=0.01):\n",
        "  while True:\n",
        "    delta_max = 0\n",
        "    for s in world.states:\n",
        "      v_new = 0\n",
        "      for a in world.actions:\n",
        "        r, s_new = world.move(s, a)\n",
        "        v_new += world.policy[(s, a)] * (r + gamma * world.value[s_new])\n",
        "      delta_max = max(delta_max, abs(world.value[s] - v_new))\n",
        "      world.value[s] = v_new\n",
        "\n",
        "    if delta_max < delta:\n",
        "      break"
      ],
      "execution_count": 0,
      "outputs": []
    },
    {
      "cell_type": "markdown",
      "metadata": {
        "id": "ZH4kSkvYO8Oh",
        "colab_type": "text"
      },
      "source": [
        "**[PI1-05]**\n",
        "\n",
        "Define a function to apply the policy update algorithm."
      ]
    },
    {
      "cell_type": "code",
      "metadata": {
        "id": "QIiXb1CnAjn6",
        "colab_type": "code",
        "colab": {}
      },
      "source": [
        "def policy_update(world, gamma=1):\n",
        "  update = False\n",
        "  for s in world.states:\n",
        "    q_max = -10**10\n",
        "    a_best = None\n",
        "    for a in world.actions:\n",
        "      r, s_new = world.move(s, a)\n",
        "      q = r + gamma * world.value[s_new]\n",
        "      if q > q_max:\n",
        "        q_max = q\n",
        "        a_best = a\n",
        "\n",
        "    if world.policy[(s, a_best)] != 1:\n",
        "      update = True\n",
        "    for a in world.actions:\n",
        "      world.policy[(s, a)] = 0\n",
        "    world.policy[(s, a_best)] = 1\n",
        "  \n",
        "  return update"
      ],
      "execution_count": 0,
      "outputs": []
    },
    {
      "cell_type": "markdown",
      "metadata": {
        "id": "wnuDc0J4N3dX",
        "colab_type": "text"
      },
      "source": [
        "**[PI1-06]**\n",
        "\n",
        "Create a Gridworld instance. Then apply the policy evaluation algorithm and show the state values."
      ]
    },
    {
      "cell_type": "code",
      "metadata": {
        "id": "hyTX_m-dEgT9",
        "colab_type": "code",
        "outputId": "57df700e-ce2e-4605-aa56-8c71cca35a36",
        "colab": {
          "base_uri": "https://localhost:8080/",
          "height": 113
        }
      },
      "source": [
        "world = Gridworld(size=8)\n",
        "policy_eval(world)\n",
        "show_values(world)"
      ],
      "execution_count": 0,
      "outputs": [
        {
          "output_type": "display_data",
          "data": {
            "image/png": "[encoded data removed]",
            "text/plain": [
              "<Figure size 460.8x122.4 with 1 Axes>"
            ]
          },
          "metadata": {
            "tags": []
          }
        }
      ]
    },
    {
      "cell_type": "markdown",
      "metadata": {
        "id": "lSCXUaLLOMd_",
        "colab_type": "text"
      },
      "source": [
        "**[PI1-07]**\n",
        "\n",
        "Apply the policy update algorithm and show the resulting policy."
      ]
    },
    {
      "cell_type": "code",
      "metadata": {
        "id": "LScwTU-lBAgC",
        "colab_type": "code",
        "outputId": "f07fe4b1-5d3b-402a-eeb2-1e0507143610",
        "colab": {
          "base_uri": "https://localhost:8080/",
          "height": 221
        }
      },
      "source": [
        "policy_update(world)\n",
        "for (s, a), p in world.policy.items():\n",
        "  if s not in [0, 7]:\n",
        "    print('p({:d},{:2d}) = {}'.format(s, a, p))"
      ],
      "execution_count": 0,
      "outputs": [
        {
          "output_type": "stream",
          "text": [
            "p(1, 1) = 0\n",
            "p(1,-1) = 1\n",
            "p(2, 1) = 0\n",
            "p(2,-1) = 1\n",
            "p(3, 1) = 0\n",
            "p(3,-1) = 1\n",
            "p(4, 1) = 0\n",
            "p(4,-1) = 1\n",
            "p(5, 1) = 0\n",
            "p(5,-1) = 1\n",
            "p(6, 1) = 0\n",
            "p(6,-1) = 1\n"
          ],
          "name": "stdout"
        }
      ]
    },
    {
      "cell_type": "markdown",
      "metadata": {
        "id": "cky9C_4r11KI",
        "colab_type": "text"
      },
      "source": [
        "**[PI1-08]**\n",
        "\n",
        "Apply the policy evaluation algorithm and show the state values."
      ]
    },
    {
      "cell_type": "code",
      "metadata": {
        "id": "BbVNkYJ70aCB",
        "colab_type": "code",
        "outputId": "7294ff59-b792-475e-db4f-f24deada25f1",
        "colab": {
          "base_uri": "https://localhost:8080/",
          "height": 113
        }
      },
      "source": [
        "policy_eval(world)\n",
        "show_values(world)"
      ],
      "execution_count": 0,
      "outputs": [
        {
          "output_type": "display_data",
          "data": {
            "image/png": "[encoded data removed]",
            "text/plain": [
              "<Figure size 460.8x122.4 with 1 Axes>"
            ]
          },
          "metadata": {
            "tags": []
          }
        }
      ]
    },
    {
      "cell_type": "markdown",
      "metadata": {
        "id": "ESSj3ZjsWVrr",
        "colab_type": "text"
      },
      "source": [
        "**[PI1-09]**\n",
        "\n",
        "Apply the policy update algorithm to check if the policy still changes or not."
      ]
    },
    {
      "cell_type": "code",
      "metadata": {
        "id": "3pU_09dgNDdD",
        "colab_type": "code",
        "outputId": "3d6448f9-1824-4093-9e0a-7c4a151ec31b",
        "colab": {
          "base_uri": "https://localhost:8080/",
          "height": 34
        }
      },
      "source": [
        "policy_update(world)"
      ],
      "execution_count": 0,
      "outputs": [
        {
          "output_type": "execute_result",
          "data": {
            "text/plain": [
              "False"
            ]
          },
          "metadata": {
            "tags": []
          },
          "execution_count": 9
        }
      ]
    }
  ]
}
{
  "nbformat": 4,
  "nbformat_minor": 0,
  "metadata": {
    "colab": {
      "name": " Tic-tac-toe.ipynb",
      "provenance": [],
      "authorship_tag": "ABX9TyO4cDKekoWDlCB7pzsZEfBi",
      "include_colab_link": true
    },
    "kernelspec": {
      "name": "python3",
      "display_name": "Python 3"
    }
  },
  "cells": [
    {
      "cell_type": "markdown",
      "metadata": {
        "id": "view-in-github",
        "colab_type": "text"
      },
      "source": [
        "<a href=\"https://colab.research.google.com/github/enakai00/colab_rlbook/blob/master/Chapter03/Tic_tac_toe.ipynb\" target=\"_parent\"><img src=\"https://colab.research.google.com/assets/colab-badge.svg\" alt=\"Open In Colab\"/></a>"
      ]
    },
    {
      "cell_type": "code",
      "metadata": {
        "id": "lN3Hw7CvFYz5",
        "colab_type": "code",
        "colab": {}
      },
      "source": [
        "from enum import Enum\n",
        "from copy import deepcopy\n",
        "import random"
      ],
      "execution_count": 0,
      "outputs": []
    },
    {
      "cell_type": "code",
      "metadata": {
        "id": "qT4NrCePeEAt",
        "colab_type": "code",
        "colab": {}
      },
      "source": [
        "class StateInfo(Enum):\n",
        "  PLAYER1 = 1\n",
        "  PLAYER2 = 2\n",
        "  WIN1 = 3\n",
        "  WIN2 = 4\n",
        "  TIE = 5\n",
        "\n",
        "def flatten(lst):\n",
        "  return sum(lst, [])"
      ],
      "execution_count": 0,
      "outputs": []
    },
    {
      "cell_type": "code",
      "metadata": {
        "id": "7voJzw3nRrSh",
        "colab_type": "code",
        "colab": {}
      },
      "source": [
        "class State:\n",
        "  def __init__(self, board):\n",
        "    self.board = board\n",
        "    self.info = self.get_state_info(board)\n",
        "\n",
        "  def __hash__(self):\n",
        "    return hash(tuple(flatten(self.board)))\n",
        "\n",
        "  def __eq__(self, other):\n",
        "    return self.board == other.board\n",
        "\n",
        "  def __repr__(self):\n",
        "    result = ''\n",
        "    for row in self.board:\n",
        "      for c in row:\n",
        "        if c == 1:\n",
        "          result += 'o'\n",
        "        elif c == 2:\n",
        "          result += 'x'\n",
        "        else:\n",
        "          result += '.'\n",
        "      result += '\\n'\n",
        "    return result\n",
        "    \n",
        "\n",
        "  def get_state_info(self, board):\n",
        "    num1 = sum(map(lambda x: x == 1, flatten(board)))\n",
        "    num2 = sum(map(lambda x: x == 2, flatten(board)))\n",
        "    if num1 != num2 and num1 != num2 + 1:\n",
        "      return None\n",
        "\n",
        "    lines = [[(x, y) for x in range(3)] for y in range(3)]\n",
        "    lines += [[(x, y) for y in range(3)] for x in range(3)]\n",
        "    lines += [[(x, x) for x in range(3)], [(x, 2-x) for x in range(3)]]\n",
        "    win1, win2 = 0, 0  \n",
        "    for line in lines:\n",
        "      if all(map(lambda pos: board[pos[1]][pos[0]] == 1, line)):\n",
        "        win1 += 1\n",
        "      if all(map(lambda pos: board[pos[1]][pos[0]] == 2, line)):\n",
        "        win2 += 2\n",
        "\n",
        "    if win1 > 0 and win2 > 0:\n",
        "      return None\n",
        "\n",
        "    if win1 > 0:\n",
        "      return StateInfo.WIN1\n",
        "\n",
        "    if win2 > 0:\n",
        "      return StateInfo.WIN2\n",
        "\n",
        "    if sum(map(lambda x: x == 0,  flatten(board))) == 0:\n",
        "      return StateInfo.TIE\n",
        "\n",
        "    if num1 == num2:\n",
        "      return StateInfo.PLAYER1\n",
        "    else:\n",
        "      return StateInfo.PLAYER2"
      ],
      "execution_count": 0,
      "outputs": []
    },
    {
      "cell_type": "code",
      "metadata": {
        "id": "n-HrT2ZgFbHb",
        "colab_type": "code",
        "colab": {}
      },
      "source": [
        "class Agent:\n",
        "  def __init__(self, player=1):\n",
        "    self.player = player\n",
        "\n",
        "    self.states = []\n",
        "    rows = [[a, b, c] for a in range(3) for b in range(3) for c in range(3)]\n",
        "    boards = [[a.copy(), b.copy(), c.copy()] for a in rows for b in rows for c in rows]\n",
        "    for board in boards:\n",
        "      state = State(board)\n",
        "      if self.player == 1 and state.info not in (None, StateInfo.PLAYER2):\n",
        "          self.states.append(state)\n",
        "      if self.player == 2 and state.info not in (None, StateInfo.PLAYER1):\n",
        "          self.states.append(state)\n",
        "\n",
        "    self.value = {}\n",
        "    for state in self.states:\n",
        "      self.value[state] = 0\n",
        "\n",
        "    self.policy = {}\n",
        "    for state in self.states:\n",
        "      if self.is_myturn(state):\n",
        "        self.policy[state] = random.choice(self.get_actions(state))\n",
        "      else:\n",
        "        self.policy[state] = None\n",
        "\n",
        "\n",
        "  def is_myturn(self, state):\n",
        "    if self.player == 1 and state.info == StateInfo.PLAYER1:\n",
        "      return True\n",
        "    if self.player == 2 and state.info == StateInfo.PLAYER2:\n",
        "      return True\n",
        "    return False\n",
        "\n",
        "\n",
        "  def is_win(self, state):\n",
        "    if self.player == 1 and state.info == StateInfo.WIN1:\n",
        "      return True\n",
        "    if self.player == 2 and state.info == StateInfo.WIN2:\n",
        "      return True\n",
        "    return False\n",
        "\n",
        "\n",
        "  def is_lost(self, state):\n",
        "    if self.player == 1 and state.info == StateInfo.WIN2:\n",
        "      return True\n",
        "    if self.player == 2 and state.info == StateInfo.WIN1:\n",
        "      return True\n",
        "    return False\n",
        "\n",
        "\n",
        "  def get_actions(self, state):\n",
        "    actions = [(x, y) for y in range(3) for x in range(3) if state.board[y][x] == 0]\n",
        "    return actions\n",
        "\n",
        "\n",
        "  def put(self, state, pos, player):\n",
        "    x, y = pos\n",
        "    board = deepcopy(state.board)\n",
        "    board[y][x] = player\n",
        "    return State(board)\n",
        "\n",
        "\n",
        "  def move(self, state, pos, opponent):\n",
        "    if not self.is_myturn(state): # Terminal state\n",
        "      return 0, state\n",
        "\n",
        "    next_state = self.put(state, pos, self.player)\n",
        "\n",
        "    if self.is_win(next_state):\n",
        "      return 1, next_state\n",
        "\n",
        "    if next_state.info == StateInfo.TIE:\n",
        "      return 0, next_state\n",
        "\n",
        "    pos = opponent.policy[next_state]\n",
        "    after_state = self.put(next_state, pos, opponent.player)\n",
        "    if self.is_lost(after_state):\n",
        "      return -1, after_state\n",
        "  \n",
        "    return 0, after_state"
      ],
      "execution_count": 0,
      "outputs": []
    },
    {
      "cell_type": "code",
      "metadata": {
        "colab_type": "code",
        "id": "9-agNQbk9CSA",
        "colab": {}
      },
      "source": [
        "def policy_eval(agent, opponent, gamma=1.0, delta=0.01):\n",
        "  while(True):\n",
        "    delta_max = 0\n",
        "    for state in agent.states:\n",
        "      r, s_new = agent.move(state, agent.policy[state], opponent)\n",
        "      v_new = r + gamma * agent.value[s_new]\n",
        "      delta_max = max(delta_max, abs(agent.value[state] - v_new))\n",
        "      agent.value[state] = v_new\n",
        "\n",
        "    if delta_max < delta:\n",
        "      break"
      ],
      "execution_count": 0,
      "outputs": []
    },
    {
      "cell_type": "code",
      "metadata": {
        "id": "222X2XCKUqCT",
        "colab_type": "code",
        "colab": {}
      },
      "source": [
        "def policy_update(agent, opponent, gamma=1.0):\n",
        "  update = False\n",
        "\n",
        "  for state in agent.states:\n",
        "    if not agent.is_myturn(state):\n",
        "      continue\n",
        "\n",
        "    q_max = -99\n",
        "    pos_best = None\n",
        "    for pos in agent.get_actions(state):\n",
        "      r, state_new = agent.move(state, pos, opponent)\n",
        "      q = r + gamma * agent.value[state_new]\n",
        "      if q > q_max:\n",
        "        q_max = q\n",
        "        pos_best = pos\n",
        "\n",
        "    if agent.policy[state] != pos_best:\n",
        "      update = True\n",
        "    agent.policy[state] = pos_best\n",
        "\n",
        "  return update"
      ],
      "execution_count": 0,
      "outputs": []
    },
    {
      "cell_type": "code",
      "metadata": {
        "id": "7LtqkQaF94bO",
        "colab_type": "code",
        "colab": {}
      },
      "source": [
        "agent1 = Agent(player=1)\n",
        "agent2 = Agent(player=2)"
      ],
      "execution_count": 0,
      "outputs": []
    },
    {
      "cell_type": "code",
      "metadata": {
        "id": "SNlzYhd-99bB",
        "colab_type": "code",
        "outputId": "1dd02d7b-e0ce-4843-9a1e-cc28ee2d97fe",
        "colab": {
          "base_uri": "https://localhost:8080/",
          "height": 119
        }
      },
      "source": [
        "for _ in range(6):\n",
        "  while True:\n",
        "    print('.', end='')\n",
        "    policy_eval(agent1, agent2)\n",
        "    if not policy_update(agent1, agent2):\n",
        "      break\n",
        "\n",
        "  while True:\n",
        "    print('.', end='')\n",
        "    policy_eval(agent2, agent1)\n",
        "    if not policy_update(agent2, agent1):\n",
        "      break\n",
        "  \n",
        "  print('')"
      ],
      "execution_count": 8,
      "outputs": [
        {
          "output_type": "stream",
          "text": [
            "........\n",
            "........\n",
            "......\n",
            ".....\n",
            "...\n",
            "..\n"
          ],
          "name": "stdout"
        }
      ]
    },
    {
      "cell_type": "code",
      "metadata": {
        "id": "czow-E6VXbyr",
        "colab_type": "code",
        "outputId": "80e97b54-81f7-4bda-f81c-78fefcab09ef",
        "colab": {
          "base_uri": "https://localhost:8080/",
          "height": 646
        }
      },
      "source": [
        "state = agent1.states[0]\n",
        "initial = True\n",
        "while True:\n",
        "  if initial:\n",
        "    state = agent1.put(state, random.choice(agent1.get_actions(state)), 1)\n",
        "    initial = False\n",
        "  else:\n",
        "    state = agent1.put(state, agent1.policy[state], 1)\n",
        "  print(state)\n",
        "  if state.info != StateInfo.PLAYER2:\n",
        "    break\n",
        "  state = agent1.put(state, agent2.policy[state], 2)\n",
        "  print(state)\n",
        "  if state.info != StateInfo.PLAYER1:\n",
        "    break\n",
        "\n",
        "print(state.info)"
      ],
      "execution_count": 10,
      "outputs": [
        {
          "output_type": "stream",
          "text": [
            "...\n",
            ".o.\n",
            "...\n",
            "\n",
            "x..\n",
            ".o.\n",
            "...\n",
            "\n",
            "xo.\n",
            ".o.\n",
            "...\n",
            "\n",
            "xo.\n",
            ".o.\n",
            ".x.\n",
            "\n",
            "xo.\n",
            "oo.\n",
            ".x.\n",
            "\n",
            "xo.\n",
            "oox\n",
            ".x.\n",
            "\n",
            "xoo\n",
            "oox\n",
            ".x.\n",
            "\n",
            "xoo\n",
            "oox\n",
            "xx.\n",
            "\n",
            "xoo\n",
            "oox\n",
            "xxo\n",
            "\n",
            "StateInfo.TIE\n"
          ],
          "name": "stdout"
        }
      ]
    }
  ]
}
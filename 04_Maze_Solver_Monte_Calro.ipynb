{
  "nbformat": 4,
  "nbformat_minor": 0,
  "metadata": {
    "colab": {
      "name": "04 Maze Solver Monte Calro.ipynb",
      "provenance": [],
      "include_colab_link": true
    },
    "kernelspec": {
      "name": "python3",
      "display_name": "Python 3"
    }
  },
  "cells": [
    {
      "cell_type": "markdown",
      "metadata": {
        "id": "view-in-github",
        "colab_type": "text"
      },
      "source": [
        "<a href=\"https://colab.research.google.com/github/enakai00/colab_rlbook/blob/master/04_Maze_Solver_Monte_Calro.ipynb\" target=\"_parent\"><img src=\"https://colab.research.google.com/assets/colab-badge.svg\" alt=\"Open In Colab\"/></a>"
      ]
    },
    {
      "cell_type": "code",
      "metadata": {
        "id": "MWOOgNK0ygdC",
        "colab_type": "code",
        "colab": {}
      },
      "source": [
        "import numpy as np\n",
        "from numpy import random\n",
        "import copy\n",
        "from IPython.display import clear_output\n",
        "import matplotlib.pyplot as plt\n",
        "import matplotlib\n",
        "matplotlib.rcParams['font.size'] = 12"
      ],
      "execution_count": 0,
      "outputs": []
    },
    {
      "cell_type": "code",
      "metadata": {
        "id": "lg8JzPgGwhjW",
        "colab_type": "code",
        "colab": {}
      },
      "source": [
        "def get_maze():\n",
        "  maze_img = '''\n",
        "############\n",
        "#S         #\n",
        "#          #\n",
        "#######    #\n",
        "#          #\n",
        "#          #\n",
        "#    #######\n",
        "#          #\n",
        "#         G#\n",
        "############\n",
        "'''\n",
        "  maze = []\n",
        "  for line in maze_img.split('\\n'):\n",
        "    if line == '':\n",
        "      continue \n",
        "    maze.append(list(line))\n",
        "\n",
        "  return maze"
      ],
      "execution_count": 0,
      "outputs": []
    },
    {
      "cell_type": "code",
      "metadata": {
        "id": "CBHd9TZXzcEo",
        "colab_type": "code",
        "colab": {}
      },
      "source": [
        "class Agent:\n",
        "  def __init__(self, maze):\n",
        "    self.maze = maze\n",
        "    size_y, size_x = len(maze), len(maze[0])\n",
        "    self.states = [(x, y) for x in range(size_x) for y in range(size_y)]\n",
        "    self.actions = [(0,-1), (-1, 0), (1, 0), (0, 1)]\n",
        "\n",
        "    self.policy = {}\n",
        "    for s in self.states:\n",
        "      self.policy[s] = self.actions[np.random.randint(len(self.actions))]\n",
        "\n",
        "    self.q = {}\n",
        "    for s in self.states:\n",
        "      for a in self.actions:\n",
        "        self.q[(s, a)] = -99999\n",
        "\n",
        "  def move(self, s, a):\n",
        "    x, y = s\n",
        "    dx, dy = a\n",
        "    if self.maze[y][x] == 'G':\n",
        "      return 0, s\n",
        "\n",
        "    x += dx\n",
        "    y += dy\n",
        "    if self.maze[y][x] == 'G':\n",
        "      return 0, (x, y)\n",
        "\n",
        "    if self.maze[y][x] == '#':\n",
        "      x -= dx\n",
        "      y -= dy\n",
        " \n",
        "    return -1, (x, y)"
      ],
      "execution_count": 0,
      "outputs": []
    },
    {
      "cell_type": "code",
      "metadata": {
        "id": "2LnnsBQ72xSs",
        "colab_type": "code",
        "colab": {}
      },
      "source": [
        "def get_episode(agent, epsilon):\n",
        "  episode = []\n",
        "  s = (1, 1) # Start\n",
        "  while True:\n",
        "    if np.random.random() < epsilon:\n",
        "      a = agent.actions[np.random.randint(len(agent.actions))]\n",
        "    else:\n",
        "      a = agent.policy[s]\n",
        "\n",
        "    r, s_new = agent.move(s, a)\n",
        "    episode.append((s, a, r))\n",
        "    x, y = s_new\n",
        "    if agent.maze[y][x] == 'G':\n",
        "      break\n",
        "    s = s_new\n",
        "\n",
        "  return episode"
      ],
      "execution_count": 0,
      "outputs": []
    },
    {
      "cell_type": "code",
      "metadata": {
        "id": "xcm3oHfH4dHw",
        "colab_type": "code",
        "colab": {}
      },
      "source": [
        "def policy_update(agent, s):\n",
        "  q_max = -10**10\n",
        "  a_best = None\n",
        "  for a in agent.actions:\n",
        "    if agent.q[(s, a)] > q_max:\n",
        "      q_max = agent.q[(s, a)]\n",
        "      a_best = a\n",
        "\n",
        "  agent.policy[s] = a_best"
      ],
      "execution_count": 0,
      "outputs": []
    },
    {
      "cell_type": "code",
      "metadata": {
        "id": "6KL6VvpZ8ORG",
        "colab_type": "code",
        "colab": {}
      },
      "source": [
        "def train(agent, epsilon, min_epsilon):\n",
        "  c = 0\n",
        "  episode_lengths = []\n",
        "  while True:\n",
        "    episode = get_episode(agent, epsilon)\n",
        "    episode_lengths.append(len(episode))\n",
        "    episode.reverse()\n",
        "    total_r = 0\n",
        "    last = False\n",
        "    result = np.copy(agent.maze)\n",
        " \n",
        "    for (s, a, r) in episode:\n",
        "      x, y = s\n",
        "      result[y][x] = '+'\n",
        "\n",
        "      if a != agent.policy[s]:\n",
        "        last = True\n",
        "\n",
        "      total_r += r\n",
        "      agent.q[(s, a)] += 0.2 * (total_r - agent.q[(s, a)])\n",
        "      policy_update(agent, s)\n",
        "      if last:\n",
        "        break\n",
        "\n",
        "    epsilon *= 0.999\n",
        "    if epsilon < min_epsilon:\n",
        "      break\n",
        "\n",
        "    if c % 100 == 0:\n",
        "      clear_output(wait=True)\n",
        "      print('epsilon={}'.format(epsilon))\n",
        "      for line in result:\n",
        "        print (''.join(line))\n",
        "    \n",
        "  return episode_lengths"
      ],
      "execution_count": 0,
      "outputs": []
    },
    {
      "cell_type": "code",
      "metadata": {
        "id": "yTbBNQNF7Cv2",
        "colab_type": "code",
        "colab": {}
      },
      "source": [
        "maze = get_maze()\n",
        "agent = Agent(maze)"
      ],
      "execution_count": 0,
      "outputs": []
    },
    {
      "cell_type": "code",
      "metadata": {
        "id": "KLb8C_a_7JLP",
        "colab_type": "code",
        "colab": {
          "base_uri": "https://localhost:8080/",
          "height": 204
        },
        "outputId": "dd6ef97b-7cde-48a1-ab65-5baa97926d26"
      },
      "source": [
        "episode_lengths = train(agent, epsilon=0.5, min_epsilon=0.01)"
      ],
      "execution_count": 38,
      "outputs": [
        {
          "output_type": "stream",
          "text": [
            "epsilon=0.010000667033410971\n",
            "############\n",
            "#++++++    #\n",
            "#     ++   #\n",
            "#######+   #\n",
            "#      +   #\n",
            "#   ++++   #\n",
            "#   +#######\n",
            "#   ++     #\n",
            "#    +++++G#\n",
            "############\n"
          ],
          "name": "stdout"
        }
      ]
    },
    {
      "cell_type": "code",
      "metadata": {
        "id": "_MFPIrVT7Dmm",
        "colab_type": "code",
        "colab": {
          "base_uri": "https://localhost:8080/",
          "height": 285
        },
        "outputId": "c9ef6885-2936-44c0-db85-8026df5c7f78"
      },
      "source": [
        "linex = range(len(episode_lengths))\n",
        "plt.plot(range(200), episode_lengths[:200])"
      ],
      "execution_count": 42,
      "outputs": [
        {
          "output_type": "execute_result",
          "data": {
            "text/plain": [
              "[<matplotlib.lines.Line2D at 0x7f01553d9a20>]"
            ]
          },
          "metadata": {
            "tags": []
          },
          "execution_count": 42
        },
        {
          "output_type": "display_data",
          "data": {
            "image/png": "[encoded data removed]",
            "text/plain": [
              "<Figure size 432x288 with 1 Axes>"
            ]
          },
          "metadata": {
            "tags": []
          }
        }
      ]
    },
    {
      "cell_type": "code",
      "metadata": {
        "id": "oppNGPt_EUfq",
        "colab_type": "code",
        "colab": {
          "base_uri": "https://localhost:8080/",
          "height": 187
        },
        "outputId": "e6e0dade-96c4-4f20-9e73-7a7409612e28"
      },
      "source": [
        "episode = get_episode(agent, epsilon=0)\n",
        "\n",
        "result = np.copy(agent.maze)\n",
        "for (s, a, r) in episode:\n",
        "  x, y = s\n",
        "  result[y][x] = '+'\n",
        "\n",
        "for line in result:\n",
        "  print (''.join(line))"
      ],
      "execution_count": 43,
      "outputs": [
        {
          "output_type": "stream",
          "text": [
            "############\n",
            "#++++++    #\n",
            "#     ++   #\n",
            "#######+   #\n",
            "#      +   #\n",
            "#   ++++   #\n",
            "#   +#######\n",
            "#   ++     #\n",
            "#    +++++G#\n",
            "############\n"
          ],
          "name": "stdout"
        }
      ]
    }
  ]
}
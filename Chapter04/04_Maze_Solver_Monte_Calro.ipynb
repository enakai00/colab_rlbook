{
  "nbformat": 4,
  "nbformat_minor": 0,
  "metadata": {
    "colab": {
      "name": "04 Maze Solver Monte Calro.ipynb",
      "provenance": [],
      "include_colab_link": true
    },
    "kernelspec": {
      "name": "python3",
      "display_name": "Python 3"
    }
  },
  "cells": [
    {
      "cell_type": "markdown",
      "metadata": {
        "id": "view-in-github",
        "colab_type": "text"
      },
      "source": [
        "<a href=\"https://colab.research.google.com/github/enakai00/colab_rlbook/blob/master/Chapter04/04_Maze_Solver_Monte_Calro.ipynb\" target=\"_parent\"><img src=\"https://colab.research.google.com/assets/colab-badge.svg\" alt=\"Open In Colab\"/></a>"
      ]
    },
    {
      "cell_type": "code",
      "metadata": {
        "id": "MWOOgNK0ygdC",
        "colab_type": "code",
        "colab": {}
      },
      "source": [
        "import numpy as np\n",
        "import copy\n",
        "import matplotlib.pyplot as plt\n",
        "import matplotlib\n",
        "matplotlib.rcParams['font.size'] = 12"
      ],
      "execution_count": 0,
      "outputs": []
    },
    {
      "cell_type": "code",
      "metadata": {
        "id": "lg8JzPgGwhjW",
        "colab_type": "code",
        "colab": {}
      },
      "source": [
        "def get_maze():\n",
        "  maze_img = '''\n",
        "############\n",
        "#S         #\n",
        "#          #\n",
        "#######    #\n",
        "#          #\n",
        "#          #\n",
        "#    #######\n",
        "#          #\n",
        "#         G#\n",
        "############\n",
        "'''\n",
        "  maze = []\n",
        "  for line in maze_img.split('\\n'):\n",
        "    if line == '':\n",
        "      continue \n",
        "    maze.append(list(line))\n",
        "\n",
        "  return maze"
      ],
      "execution_count": 0,
      "outputs": []
    },
    {
      "cell_type": "code",
      "metadata": {
        "id": "CBHd9TZXzcEo",
        "colab_type": "code",
        "colab": {}
      },
      "source": [
        "class Agent:\n",
        "  def __init__(self, maze):\n",
        "    self.maze = maze\n",
        "    size_y, size_x = len(maze), len(maze[0])\n",
        "    self.states = [(x, y) for x in range(size_x) for y in range(size_y)]\n",
        "    self.actions = [(0, -1), (-1, 0), (1, 0), (0, 1)]\n",
        "\n",
        "    self.policy = {}\n",
        "    for s in self.states:\n",
        "      self.policy[s] = self.actions[np.random.randint(len(self.actions))]\n",
        "\n",
        "    self.q = {}\n",
        "    self.cnt = {}\n",
        "    for s in self.states:\n",
        "      for a in self.actions:\n",
        "        self.q[(s, a)] = -10**10\n",
        "        self.cnt[(s, a)] = 0\n",
        "\n",
        "  def move(self, s, a):\n",
        "    x, y = s\n",
        "    dx, dy = a\n",
        "    if self.maze[y][x] == 'G':\n",
        "      return 0, s\n",
        "\n",
        "    x += dx\n",
        "    y += dy\n",
        "    if self.maze[y][x] == 'G':\n",
        "      return 0, (x, y)\n",
        "\n",
        "    if self.maze[y][x] == '#':\n",
        "      x -= dx\n",
        "      y -= dy\n",
        " \n",
        "    return -1, (x, y)"
      ],
      "execution_count": 0,
      "outputs": []
    },
    {
      "cell_type": "code",
      "metadata": {
        "id": "2LnnsBQ72xSs",
        "colab_type": "code",
        "colab": {}
      },
      "source": [
        "def get_episode(agent, epsilon):\n",
        "  episode = []\n",
        "  s = (1, 1) # Start\n",
        "  while True:\n",
        "    if np.random.random() < epsilon:\n",
        "      a = agent.actions[np.random.randint(len(agent.actions))]\n",
        "    else:\n",
        "      a = agent.policy[s]\n",
        "\n",
        "    r, s_new = agent.move(s, a)\n",
        "    episode.append((s, a, r))\n",
        "    x, y = s_new\n",
        "    if agent.maze[y][x] == 'G':\n",
        "      break\n",
        "    s = s_new\n",
        "\n",
        "  return episode"
      ],
      "execution_count": 0,
      "outputs": []
    },
    {
      "cell_type": "code",
      "metadata": {
        "id": "xcm3oHfH4dHw",
        "colab_type": "code",
        "colab": {}
      },
      "source": [
        "def policy_update(agent, s):\n",
        "  q_max = -10**10\n",
        "  a_best = None\n",
        "  for a in agent.actions:\n",
        "    if agent.q[(s, a)] > q_max:\n",
        "      q_max = agent.q[(s, a)]\n",
        "      a_best = a\n",
        "\n",
        "  agent.policy[s] = a_best"
      ],
      "execution_count": 0,
      "outputs": []
    },
    {
      "cell_type": "code",
      "metadata": {
        "id": "6KL6VvpZ8ORG",
        "colab_type": "code",
        "colab": {}
      },
      "source": [
        "def train(agent, epsilon, min_epsilon):\n",
        "  episode_lengths = []\n",
        "  max_data_length = 0\n",
        "\n",
        "  while True:\n",
        "    episode = get_episode(agent, epsilon)\n",
        "    episode_lengths.append(len(episode))\n",
        "    episode.reverse()\n",
        "    total_r = 0\n",
        "    last = False\n",
        "    data_length = 0\n",
        "\n",
        "    for (s, a, r) in episode:\n",
        "      data_length += 1\n",
        "\n",
        "      if a != agent.policy[s]:\n",
        "        last = True\n",
        "\n",
        "      total_r += r\n",
        "      agent.cnt[(s, a)] += 1\n",
        "      agent.q[(s, a)] += (total_r - agent.q[(s, a)]) / agent.cnt[(s, a)]\n",
        "      policy_update(agent, s)\n",
        "\n",
        "      if last:\n",
        "        break\n",
        "\n",
        "    epsilon *= 0.999\n",
        "    if epsilon < min_epsilon:\n",
        "      break\n",
        "\n",
        "    if data_length > max_data_length:\n",
        "      max_data_length = data_length\n",
        "      result = np.copy(agent.maze)\n",
        "      for (s, a, r) in episode[:data_length]:\n",
        "        x, y = s\n",
        "        result[y][x] = '+'\n",
        "      print('epsilon={}'.format(epsilon))\n",
        "      for line in result:\n",
        "        print (''.join(line))\n",
        "      print ('')\n",
        "\n",
        "  return episode_lengths"
      ],
      "execution_count": 0,
      "outputs": []
    },
    {
      "cell_type": "code",
      "metadata": {
        "id": "yTbBNQNF7Cv2",
        "colab_type": "code",
        "colab": {}
      },
      "source": [
        "maze = get_maze()\n",
        "agent = Agent(maze)"
      ],
      "execution_count": 0,
      "outputs": []
    },
    {
      "cell_type": "code",
      "metadata": {
        "id": "KLb8C_a_7JLP",
        "colab_type": "code",
        "outputId": "1d6d4b0f-5d18-4b36-a950-476f2e55f480",
        "colab": {
          "base_uri": "https://localhost:8080/",
          "height": 1000
        }
      },
      "source": [
        "%%time\n",
        "episode_lengths = train(agent, epsilon=0.9, min_epsilon=0.01)"
      ],
      "execution_count": 8,
      "outputs": [
        {
          "output_type": "stream",
          "text": [
            "epsilon=0.8991\n",
            "############\n",
            "#S         #\n",
            "#          #\n",
            "#######    #\n",
            "#          #\n",
            "#          #\n",
            "#    #######\n",
            "#         +#\n",
            "#         G#\n",
            "############\n",
            "\n",
            "epsilon=0.8919323245132865\n",
            "############\n",
            "#S         #\n",
            "#          #\n",
            "#######    #\n",
            "#          #\n",
            "#          #\n",
            "#    #######\n",
            "#          #\n",
            "#     ++++G#\n",
            "############\n",
            "\n",
            "epsilon=0.8629646679760956\n",
            "############\n",
            "#S         #\n",
            "#          #\n",
            "#######    #\n",
            "#          #\n",
            "#          #\n",
            "#    #######\n",
            "#   +      #\n",
            "#   ++++++G#\n",
            "############\n",
            "\n",
            "epsilon=0.6924691414083393\n",
            "############\n",
            "#S         #\n",
            "#          #\n",
            "#######    #\n",
            "#          #\n",
            "#          #\n",
            "#    #######\n",
            "#   ++     #\n",
            "#   ++++++G#\n",
            "############\n",
            "\n",
            "epsilon=0.6780717911048761\n",
            "############\n",
            "#S         #\n",
            "#          #\n",
            "#######    #\n",
            "#          #\n",
            "#          #\n",
            "#    #######\n",
            "#  ++++++++#\n",
            "#         G#\n",
            "############\n",
            "\n",
            "epsilon=0.6679716041772392\n",
            "############\n",
            "#S         #\n",
            "#          #\n",
            "#######    #\n",
            "#          #\n",
            "#          #\n",
            "#  + #######\n",
            "#  ++++++++#\n",
            "#         G#\n",
            "############\n",
            "\n",
            "epsilon=0.6271678090739116\n",
            "############\n",
            "#S         #\n",
            "#          #\n",
            "#######    #\n",
            "#          #\n",
            "#  ++      #\n",
            "#  ++#######\n",
            "#  ++++++++#\n",
            "#         G#\n",
            "############\n",
            "\n",
            "epsilon=0.6196830507734573\n",
            "############\n",
            "#S         #\n",
            "#          #\n",
            "#######    #\n",
            "#  ++      #\n",
            "#  ++      #\n",
            "#  ++#######\n",
            "#  ++++++++#\n",
            "#         G#\n",
            "############\n",
            "\n",
            "epsilon=0.3776472178681156\n",
            "############\n",
            "#S         #\n",
            "#          #\n",
            "#######    #\n",
            "#     ++   #\n",
            "#   ++++   #\n",
            "#   +#######\n",
            "#   +++++++#\n",
            "#         G#\n",
            "############\n",
            "\n",
            "epsilon=0.33660257623012846\n",
            "############\n",
            "#S         #\n",
            "#          #\n",
            "#######  ++#\n",
            "#     ++++ #\n",
            "#   +++    #\n",
            "#   +#######\n",
            "#   +++++++#\n",
            "#         G#\n",
            "############\n",
            "\n",
            "epsilon=0.2994191395761665\n",
            "############\n",
            "#S         #\n",
            "#          #\n",
            "####### ++ #\n",
            "#     ++++ #\n",
            "#   +++    #\n",
            "#   +#######\n",
            "#   +++++++#\n",
            "#         G#\n",
            "############\n",
            "\n",
            "epsilon=0.2979250350769868\n",
            "############\n",
            "#S    ++++ #\n",
            "#        ++#\n",
            "#######  ++#\n",
            "#     ++++ #\n",
            "#   +++    #\n",
            "#   +#######\n",
            "#   +++++++#\n",
            "#         G#\n",
            "############\n",
            "\n",
            "epsilon=0.2595041899400372\n",
            "############\n",
            "#S    ++++ #\n",
            "#     ++ ++#\n",
            "#######  ++#\n",
            "#     ++++ #\n",
            "#   +++    #\n",
            "#   +#######\n",
            "#   +++++++#\n",
            "#         G#\n",
            "############\n",
            "\n",
            "epsilon=0.20147116396718\n",
            "############\n",
            "#S++++++++ #\n",
            "#        ++#\n",
            "#######  ++#\n",
            "#     ++++ #\n",
            "#   +++    #\n",
            "#   +#######\n",
            "#   +++++++#\n",
            "#         G#\n",
            "############\n",
            "\n",
            "epsilon=0.18541651680993076\n",
            "############\n",
            "#+++++++++ #\n",
            "#        ++#\n",
            "#######++++#\n",
            "#     ++   #\n",
            "#   +++    #\n",
            "#   +#######\n",
            "#   +++++++#\n",
            "#         G#\n",
            "############\n",
            "\n",
            "epsilon=0.1720125108343357\n",
            "############\n",
            "#+++++++++ #\n",
            "#        ++#\n",
            "#######++++#\n",
            "#     ++   #\n",
            "#   +++    #\n",
            "#   +#######\n",
            "#   +++++++#\n",
            "#         G#\n",
            "############\n",
            "\n",
            "CPU times: user 9.83 s, sys: 28.7 ms, total: 9.85 s\n",
            "Wall time: 9.91 s\n"
          ],
          "name": "stdout"
        }
      ]
    },
    {
      "cell_type": "code",
      "metadata": {
        "id": "oppNGPt_EUfq",
        "colab_type": "code",
        "outputId": "0b60f924-28a4-4c0f-95c2-543aef7cbb4d",
        "colab": {
          "base_uri": "https://localhost:8080/",
          "height": 187
        }
      },
      "source": [
        "episode = get_episode(agent, epsilon=0)\n",
        "\n",
        "result = np.copy(agent.maze)\n",
        "for (s, a, r) in episode:\n",
        "  x, y = s\n",
        "  result[y][x] = '+'\n",
        "\n",
        "for line in result:\n",
        "  print (''.join(line))"
      ],
      "execution_count": 9,
      "outputs": [
        {
          "output_type": "stream",
          "text": [
            "############\n",
            "#+++       #\n",
            "#  +++++   #\n",
            "#######+   #\n",
            "#     ++   #\n",
            "#   +++    #\n",
            "#   +#######\n",
            "#   +++++++#\n",
            "#         G#\n",
            "############\n"
          ],
          "name": "stdout"
        }
      ]
    },
    {
      "cell_type": "code",
      "metadata": {
        "id": "_MFPIrVT7Dmm",
        "colab_type": "code",
        "outputId": "5218c784-f1aa-4778-80df-c32ac6291784",
        "colab": {
          "base_uri": "https://localhost:8080/",
          "height": 302
        }
      },
      "source": [
        "fig = plt.figure(figsize=(10, 4))\n",
        "subplot = fig.add_subplot(1, 1, 1)\n",
        "subplot.set_title('Epsode length')\n",
        "subplot.plot(range(len(episode_lengths)), episode_lengths)"
      ],
      "execution_count": 10,
      "outputs": [
        {
          "output_type": "execute_result",
          "data": {
            "text/plain": [
              "[<matplotlib.lines.Line2D at 0x7fb394fdf160>]"
            ]
          },
          "metadata": {
            "tags": []
          },
          "execution_count": 10
        },
        {
          "output_type": "display_data",
          "data": {
            "image/png": "[encoded data removed]",
            "text/plain": [
              "<Figure size 720x288 with 1 Axes>"
            ]
          },
          "metadata": {
            "tags": []
          }
        }
      ]
    }
  ]
}
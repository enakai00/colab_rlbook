{
  "nbformat": 4,
  "nbformat_minor": 0,
  "metadata": {
    "colab": {
      "name": "06_Maze_Solver_SARSA.ipynb",
      "provenance": []
    },
    "kernelspec": {
      "name": "python3",
      "display_name": "Python 3"
    }
  },
  "cells": [
    {
      "cell_type": "markdown",
      "metadata": {
        "id": "4oMUjGCPJ5-l",
        "colab_type": "text"
      },
      "source": [
        "**[MSA-01]**\n",
        "\n",
        "Import modules."
      ]
    },
    {
      "cell_type": "code",
      "metadata": {
        "id": "MWOOgNK0ygdC",
        "colab_type": "code",
        "colab": {}
      },
      "source": [
        "import numpy as np\n",
        "import copy\n",
        "import matplotlib.pyplot as plt\n",
        "import matplotlib\n",
        "matplotlib.rcParams['font.size'] = 12"
      ],
      "execution_count": 1,
      "outputs": []
    },
    {
      "cell_type": "markdown",
      "metadata": {
        "id": "yIubDH6eJ-Tl",
        "colab_type": "text"
      },
      "source": [
        "**[MSA-02]**\n",
        "\n",
        "Define a function to get the maze data in a list."
      ]
    },
    {
      "cell_type": "code",
      "metadata": {
        "id": "lg8JzPgGwhjW",
        "colab_type": "code",
        "colab": {}
      },
      "source": [
        "def get_maze():\n",
        "  maze_img = '''\n",
        "############\n",
        "#S         #\n",
        "#          #\n",
        "#######    #\n",
        "#          #\n",
        "#          #\n",
        "#    #######\n",
        "#          #\n",
        "#         G#\n",
        "############\n",
        "'''\n",
        "  maze = []\n",
        "  for line in maze_img.split('\\n'):\n",
        "    if line == '':\n",
        "      continue \n",
        "    maze.append(list(line))\n",
        "\n",
        "  return maze"
      ],
      "execution_count": 2,
      "outputs": []
    },
    {
      "cell_type": "markdown",
      "metadata": {
        "id": "bVAjX9R5KDhG",
        "colab_type": "text"
      },
      "source": [
        "**[MSA-03]**\n",
        "\n",
        "Define the Agent class to walk through the maze."
      ]
    },
    {
      "cell_type": "code",
      "metadata": {
        "id": "CBHd9TZXzcEo",
        "colab_type": "code",
        "colab": {}
      },
      "source": [
        "class Agent:\n",
        "  def __init__(self, maze):\n",
        "    self.maze = maze\n",
        "    size_y, size_x = len(maze), len(maze[0])\n",
        "    self.states = [(x, y) for x in range(size_x) for y in range(size_y)]\n",
        "    self.actions = [(0, -1), (-1, 0), (1, 0), (0, 1)]\n",
        "\n",
        "    self.policy = {}\n",
        "    for s in self.states:\n",
        "      self.policy[s] = self.actions[np.random.randint(len(self.actions))]\n",
        "\n",
        "    self.q = {}\n",
        "    for s in self.states:\n",
        "      for a in self.actions:\n",
        "        self.q[(s, a)] = 0\n",
        "\n",
        "  def move(self, s, a):\n",
        "    x, y = s\n",
        "    dx, dy = a\n",
        "\n",
        "    if self.maze[y][x] == 'G':\n",
        "      return 0, s       # Reward, Next state\n",
        " \n",
        "    if self.maze[y+dy][x+dx] != '#':\n",
        "      x += dx\n",
        "      y += dy\n",
        "\n",
        "    return -1, (x, y)   # Reward, Next state"
      ],
      "execution_count": 3,
      "outputs": []
    },
    {
      "cell_type": "markdown",
      "metadata": {
        "id": "EyhREZlpKKE5",
        "colab_type": "text"
      },
      "source": [
        "**[MSA-04]**\n",
        "\n",
        "Define a function to update the action policy for a specific state."
      ]
    },
    {
      "cell_type": "code",
      "metadata": {
        "id": "xcm3oHfH4dHw",
        "colab_type": "code",
        "colab": {}
      },
      "source": [
        "def policy_update(agent, s):\n",
        "  q_max = -10**10\n",
        "  a_best = None\n",
        "  for a in agent.actions:\n",
        "    if agent.q[(s, a)] > q_max:\n",
        "      q_max = agent.q[(s, a)]\n",
        "      a_best = a\n",
        "\n",
        "  agent.policy[s] = a_best"
      ],
      "execution_count": 4,
      "outputs": []
    },
    {
      "cell_type": "markdown",
      "metadata": {
        "id": "Tq2nXH4YKNwk",
        "colab_type": "text"
      },
      "source": [
        "**[MSA-05]**\n",
        "\n",
        "Define a function to apply the SARSA algorithm for a single episode."
      ]
    },
    {
      "cell_type": "code",
      "metadata": {
        "id": "2LnnsBQ72xSs",
        "colab_type": "code",
        "colab": {}
      },
      "source": [
        "def get_episode(agent, epsilon, train):\n",
        "  episode = []\n",
        "  s = (1, 1)  # Start\n",
        "  if np.random.random() < epsilon:\n",
        "    a = agent.actions[np.random.randint(len(agent.actions))]\n",
        "  else:\n",
        "    a = agent.policy[s]\n",
        "\n",
        "  while True:\n",
        "    r, s_new = agent.move(s, a)\n",
        "    episode.append((s, a, r))\n",
        "\n",
        "    if np.random.random() < epsilon:\n",
        "      a_new = agent.actions[np.random.randint(len(agent.actions))]\n",
        "    else:\n",
        "      a_new = agent.policy[s_new]\n",
        "\n",
        "    if train:\n",
        "      agent.q[(s, a)] += 0.2 * (r + agent.q[(s_new, a_new)] - agent.q[(s, a)])\n",
        "      policy_update(agent, s)\n",
        "\n",
        "    x, y = s_new\n",
        "    if agent.maze[y][x] == 'G':\n",
        "      break\n",
        "    a = a_new\n",
        "    s = s_new\n",
        "\n",
        "  return episode"
      ],
      "execution_count": 5,
      "outputs": []
    },
    {
      "cell_type": "markdown",
      "metadata": {
        "id": "dhNOJaZ-KTE5",
        "colab_type": "text"
      },
      "source": [
        "**[MSA-06]**\n",
        "\n",
        "Define a function to train the agent with the SARSA algorithm."
      ]
    },
    {
      "cell_type": "code",
      "metadata": {
        "id": "TkslXNAQJ0Bo",
        "colab_type": "code",
        "colab": {}
      },
      "source": [
        "def train(agent, epsilon, num):\n",
        "  episode_lengths = []\n",
        "\n",
        "  for _ in range(num):\n",
        "    episode = get_episode(agent, epsilon, train=True)\n",
        "    episode_lengths.append(len(episode))\n",
        "\n",
        "  return episode_lengths"
      ],
      "execution_count": 6,
      "outputs": []
    },
    {
      "cell_type": "markdown",
      "metadata": {
        "id": "SMCdEzpDKZOh",
        "colab_type": "text"
      },
      "source": [
        "**[MSA-07]**\n",
        "\n",
        "Get the maze data and create an Agent instance."
      ]
    },
    {
      "cell_type": "code",
      "metadata": {
        "id": "yTbBNQNF7Cv2",
        "colab_type": "code",
        "colab": {}
      },
      "source": [
        "maze = get_maze()\n",
        "agent = Agent(maze)"
      ],
      "execution_count": 7,
      "outputs": []
    },
    {
      "cell_type": "markdown",
      "metadata": {
        "id": "OmfAFdThKdTy",
        "colab_type": "text"
      },
      "source": [
        "**[MSA-08]**\n",
        "\n",
        "Apply the SARSA algorithm to train the agent."
      ]
    },
    {
      "cell_type": "code",
      "metadata": {
        "id": "KLb8C_a_7JLP",
        "colab_type": "code",
        "colab": {
          "base_uri": "https://localhost:8080/",
          "height": 51
        },
        "outputId": "2c33e3d0-28fc-40f0-ef6f-4f9af1debe97"
      },
      "source": [
        "%%time\n",
        "episode_lengths = train(agent, epsilon=0.1, num=1000)"
      ],
      "execution_count": 8,
      "outputs": [
        {
          "output_type": "stream",
          "text": [
            "CPU times: user 147 ms, sys: 2.05 ms, total: 149 ms\n",
            "Wall time: 151 ms\n"
          ],
          "name": "stdout"
        }
      ]
    },
    {
      "cell_type": "markdown",
      "metadata": {
        "id": "IxL84SAkKkeY",
        "colab_type": "text"
      },
      "source": [
        "**[MSA-09]**\n",
        "\n",
        "Show the agent path with the trained action policy."
      ]
    },
    {
      "cell_type": "code",
      "metadata": {
        "id": "oppNGPt_EUfq",
        "colab_type": "code",
        "colab": {
          "base_uri": "https://localhost:8080/",
          "height": 187
        },
        "outputId": "ca00d23a-f886-4b82-a9f3-09fdabc80e22"
      },
      "source": [
        "episode = get_episode(agent, epsilon=0, train=False)\n",
        "\n",
        "result = np.copy(agent.maze)\n",
        "for (s, a, r) in episode:\n",
        "  x, y = s\n",
        "  result[y][x] = '+'\n",
        "for line in result:\n",
        "  print (''.join(line))"
      ],
      "execution_count": 9,
      "outputs": [
        {
          "output_type": "stream",
          "text": [
            "############\n",
            "#+++++++   #\n",
            "#      +   #\n",
            "#######+   #\n",
            "#    +++   #\n",
            "#   ++     #\n",
            "#   +#######\n",
            "#   ++     #\n",
            "#    +++++G#\n",
            "############\n"
          ],
          "name": "stdout"
        }
      ]
    },
    {
      "cell_type": "markdown",
      "metadata": {
        "id": "MOS83JmqKoJ6",
        "colab_type": "text"
      },
      "source": [
        "**[MSA-10]**\n",
        "\n",
        "Show the episode lengths during the training."
      ]
    },
    {
      "cell_type": "code",
      "metadata": {
        "id": "_MFPIrVT7Dmm",
        "colab_type": "code",
        "colab": {
          "base_uri": "https://localhost:8080/",
          "height": 298
        },
        "outputId": "8a4a8928-0816-4d6c-a788-e479271e1836"
      },
      "source": [
        "fig = plt.figure(figsize=(10, 4))\n",
        "subplot = fig.add_subplot(1, 1, 1)\n",
        "subplot.set_title('Episode length')\n",
        "subplot.plot(range(len(episode_lengths)), episode_lengths)"
      ],
      "execution_count": 10,
      "outputs": [
        {
          "output_type": "execute_result",
          "data": {
            "text/plain": [
              "[<matplotlib.lines.Line2D at 0x7faad979da90>]"
            ]
          },
          "metadata": {
            "tags": []
          },
          "execution_count": 10
        },
        {
          "output_type": "display_data",
          "data": {
            "image/png": "[encoded data removed]",
            "text/plain": [
              "<Figure size 720x288 with 1 Axes>"
            ]
          },
          "metadata": {
            "tags": [],
            "needs_background": "light"
          }
        }
      ]
    }
  ]
}
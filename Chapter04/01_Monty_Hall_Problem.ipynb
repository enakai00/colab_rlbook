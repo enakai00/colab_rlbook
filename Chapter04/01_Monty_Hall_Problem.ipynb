{
  "nbformat": 4,
  "nbformat_minor": 0,
  "metadata": {
    "colab": {
      "name": "01 Monty Hall Problem.ipynb",
      "provenance": [],
      "authorship_tag": "ABX9TyMVIXVUHpqCdCEZnF7SAPWu"
    },
    "kernelspec": {
      "name": "python3",
      "display_name": "Python 3"
    }
  },
  "cells": [
    {
      "cell_type": "markdown",
      "metadata": {
        "id": "uOM8c4_F46Qh",
        "colab_type": "text"
      },
      "source": [
        "**[MHP-01]**\n",
        "\n",
        "Import modules.\n"
      ]
    },
    {
      "cell_type": "code",
      "metadata": {
        "id": "SnShf8y4FOYk",
        "colab_type": "code",
        "colab": {}
      },
      "source": [
        "import numpy as np\n",
        "from pandas import DataFrame\n",
        "import matplotlib\n",
        "matplotlib.rcParams['font.size'] = 12"
      ],
      "execution_count": 0,
      "outputs": []
    },
    {
      "cell_type": "markdown",
      "metadata": {
        "id": "Rd6tU-NF5ixA",
        "colab_type": "text"
      },
      "source": [
        "**[MHP-02]**\n",
        "\n",
        "Define the MontyHall class to simulate the game."
      ]
    },
    {
      "cell_type": "code",
      "metadata": {
        "id": "XQor7flHFUY4",
        "colab_type": "code",
        "colab": {}
      },
      "source": [
        "class MontyHall:\n",
        "  def __init__(self, doors=3, hints=1):\n",
        "    self.doors = doors\n",
        "    self.hints = hints\n",
        "\n",
        "  def play(self, change):\n",
        "    choice = 0\n",
        "    prize = np.random.randint(self.doors)\n",
        "    selectable = [True] * self.doors\n",
        "    selectable[choice] = False\n",
        "    selectable[prize] = False\n",
        "\n",
        "    # Open some unselected doors\n",
        "    selectable_to_open = [n for n in range(self.doors) if selectable[n]]\n",
        "    for c in np.random.choice(selectable_to_open, self.hints, replace=False):\n",
        "      selectable[c] = False\n",
        "\n",
        "    if change:  # Change the choice\n",
        "      if choice != prize:\n",
        "        selectable[prize] = True\n",
        "      selectable_to_choose = [c for c in range(self.doors) if selectable[c]]\n",
        "      choice = np.random.choice(selectable_to_choose, 1, replace=False)[0]\n",
        "\n",
        "    if choice == prize:\n",
        "      return 1    # Win\n",
        "    else:\n",
        "      return 0    # Lose"
      ],
      "execution_count": 0,
      "outputs": []
    },
    {
      "cell_type": "markdown",
      "metadata": {
        "id": "_qDXzvjy5r7n",
        "colab_type": "text"
      },
      "source": [
        "**[MHP-03]**\n",
        "\n",
        "Define a function to play the game for multiple times."
      ]
    },
    {
      "cell_type": "code",
      "metadata": {
        "id": "alZiknktsO2c",
        "colab_type": "code",
        "colab": {}
      },
      "source": [
        "def trials(monty_hall, change, num=10000):\n",
        "  results = []\n",
        "  for _ in range(num):\n",
        "    results.append(monty_hall.play(change=change))\n",
        "  return sum(results) / num"
      ],
      "execution_count": 0,
      "outputs": []
    },
    {
      "cell_type": "markdown",
      "metadata": {
        "id": "Cmmr_uQH59ay",
        "colab_type": "text"
      },
      "source": [
        "**[MHP-04]**\n",
        "\n",
        "Create a MantyHall instance."
      ]
    },
    {
      "cell_type": "code",
      "metadata": {
        "id": "bTsO_MGMWXUl",
        "colab_type": "code",
        "colab": {}
      },
      "source": [
        "monty_hall = MontyHall()"
      ],
      "execution_count": 0,
      "outputs": []
    },
    {
      "cell_type": "markdown",
      "metadata": {
        "id": "Ae5JMOgA6OOV",
        "colab_type": "text"
      },
      "source": [
        "**[MHP-05]**\n",
        "\n",
        "Play games with a policy not to change the door."
      ]
    },
    {
      "cell_type": "code",
      "metadata": {
        "id": "HY2JIbmc33Ry",
        "colab_type": "code",
        "outputId": "82c4af9a-1792-47d5-fb0b-21c7d5a8d41f",
        "colab": {
          "base_uri": "https://localhost:8080/",
          "height": 34
        }
      },
      "source": [
        "trials(monty_hall, change=False)"
      ],
      "execution_count": 0,
      "outputs": [
        {
          "output_type": "execute_result",
          "data": {
            "text/plain": [
              "0.336"
            ]
          },
          "metadata": {
            "tags": []
          },
          "execution_count": 5
        }
      ]
    },
    {
      "cell_type": "markdown",
      "metadata": {
        "id": "k8G0Vfe36bFD",
        "colab_type": "text"
      },
      "source": [
        "**[MHP-06]**\n",
        "\n",
        "Play games with a policy to change the door."
      ]
    },
    {
      "cell_type": "code",
      "metadata": {
        "id": "pOPDvFYa5MPP",
        "colab_type": "code",
        "outputId": "9b744e58-d3ee-4b19-8d56-7db4bd17b8cc",
        "colab": {
          "base_uri": "https://localhost:8080/",
          "height": 34
        }
      },
      "source": [
        "trials(monty_hall, change=True)"
      ],
      "execution_count": 0,
      "outputs": [
        {
          "output_type": "execute_result",
          "data": {
            "text/plain": [
              "0.6683"
            ]
          },
          "metadata": {
            "tags": []
          },
          "execution_count": 6
        }
      ]
    },
    {
      "cell_type": "markdown",
      "metadata": {
        "id": "Kfw0w9iW6fYv",
        "colab_type": "text"
      },
      "source": [
        "**[MHP-07]**\n",
        "\n",
        "Play games for various numbers of doors."
      ]
    },
    {
      "cell_type": "code",
      "metadata": {
        "id": "bSGwcoNUdm7B",
        "colab_type": "code",
        "outputId": "ad333d1f-0ac6-4ded-c8b5-a7bc081de1dc",
        "colab": {
          "base_uri": "https://localhost:8080/",
          "height": 268
        }
      },
      "source": [
        "doors_range = range(3, 10)\n",
        "results1, results2 = [], []\n",
        "for doors in doors_range:\n",
        "  monty_hall = MontyHall(doors=doors, hints=doors-2)\n",
        "  results1.append(trials(monty_hall, change=False))\n",
        "  results2.append(trials(monty_hall, change=True))\n",
        "\n",
        "ax = DataFrame({'change=False': results1,\n",
        "                'change=True': results2}).plot()\n",
        "_ = ax.set_xticklabels(doors_range)"
      ],
      "execution_count": 0,
      "outputs": [
        {
          "output_type": "display_data",
          "data": {
            "image/png": "[encoded data removed]",
            "text/plain": [
              "<Figure size 432x288 with 1 Axes>"
            ]
          },
          "metadata": {
            "tags": []
          }
        }
      ]
    }
  ]
}
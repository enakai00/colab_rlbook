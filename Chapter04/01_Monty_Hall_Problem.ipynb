{
  "nbformat": 4,
  "nbformat_minor": 0,
  "metadata": {
    "colab": {
      "name": "01 Monty Hall Problem.ipynb",
      "provenance": [],
      "authorship_tag": "ABX9TyMMVdkjV4MyTI2bdnLkceS5",
      "include_colab_link": true
    },
    "kernelspec": {
      "name": "python3",
      "display_name": "Python 3"
    }
  },
  "cells": [
    {
      "cell_type": "markdown",
      "metadata": {
        "id": "view-in-github",
        "colab_type": "text"
      },
      "source": [
        "<a href=\"https://colab.research.google.com/github/enakai00/colab_rlbook/blob/master/Chapter04/01_Monty_Hall_Problem.ipynb\" target=\"_parent\"><img src=\"https://colab.research.google.com/assets/colab-badge.svg\" alt=\"Open In Colab\"/></a>"
      ]
    },
    {
      "cell_type": "code",
      "metadata": {
        "id": "SnShf8y4FOYk",
        "colab_type": "code",
        "colab": {}
      },
      "source": [
        "import numpy as np\n",
        "import matplotlib.pyplot as plt\n",
        "import matplotlib\n",
        "from pandas import DataFrame\n",
        "matplotlib.rcParams['font.size'] = 12"
      ],
      "execution_count": 0,
      "outputs": []
    },
    {
      "cell_type": "code",
      "metadata": {
        "id": "XQor7flHFUY4",
        "colab_type": "code",
        "colab": {}
      },
      "source": [
        "class MontyHall:\n",
        "  def __init__(self, doors=3, hints=1):\n",
        "    self.doors = doors\n",
        "    self.hints = hints\n",
        "\n",
        "  def play(self, change):\n",
        "    selectable = [True] * self.doors\n",
        "    prize = np.random.randint(self.doors)\n",
        "    choice = np.random.randint(self.doors)\n",
        "    selectable[choice] = False\n",
        "    selectable[prize] = False\n",
        "\n",
        "    # Open some unselected doors\n",
        "    selectable_to_open = [n for n in range(self.doors) if selectable[n]]\n",
        "    for c in np.random.choice(selectable_to_open, self.hints, replace=False):\n",
        "      selectable[c] = False\n",
        "\n",
        "    if change:  # Change the choice\n",
        "      if choice != prize:\n",
        "        selectable[prize] = True\n",
        "      selectable_to_choose = [c for c in range(self.doors) if selectable[c]]\n",
        "      choice = np.random.choice(selectable_to_choose, 1, replace=False)[0]\n",
        "\n",
        "    if choice == prize:\n",
        "      return 1    # Win\n",
        "    else:\n",
        "      return 0    # Lose"
      ],
      "execution_count": 0,
      "outputs": []
    },
    {
      "cell_type": "code",
      "metadata": {
        "id": "alZiknktsO2c",
        "colab_type": "code",
        "colab": {}
      },
      "source": [
        "def trials(monty_hall, change, num=10000):\n",
        "  results = []\n",
        "  for _ in range(num):\n",
        "    results.append(monty_hall.play(change=change))\n",
        "  return sum(results) / num"
      ],
      "execution_count": 0,
      "outputs": []
    },
    {
      "cell_type": "code",
      "metadata": {
        "id": "bTsO_MGMWXUl",
        "colab_type": "code",
        "colab": {}
      },
      "source": [
        "monty_hall = MontyHall(doors=3, hints=1)"
      ],
      "execution_count": 0,
      "outputs": []
    },
    {
      "cell_type": "code",
      "metadata": {
        "id": "HY2JIbmc33Ry",
        "colab_type": "code",
        "outputId": "32e1de02-1560-443d-f041-a20dad6a926d",
        "colab": {
          "base_uri": "https://localhost:8080/",
          "height": 34
        }
      },
      "source": [
        "trials(monty_hall, change=False)"
      ],
      "execution_count": 12,
      "outputs": [
        {
          "output_type": "execute_result",
          "data": {
            "text/plain": [
              "0.3352"
            ]
          },
          "metadata": {
            "tags": []
          },
          "execution_count": 12
        }
      ]
    },
    {
      "cell_type": "code",
      "metadata": {
        "id": "pOPDvFYa5MPP",
        "colab_type": "code",
        "outputId": "1264790a-09e7-49b9-d8b5-f0347deb55fc",
        "colab": {
          "base_uri": "https://localhost:8080/",
          "height": 34
        }
      },
      "source": [
        "trials(monty_hall, change=True)"
      ],
      "execution_count": 13,
      "outputs": [
        {
          "output_type": "execute_result",
          "data": {
            "text/plain": [
              "0.6674"
            ]
          },
          "metadata": {
            "tags": []
          },
          "execution_count": 13
        }
      ]
    },
    {
      "cell_type": "code",
      "metadata": {
        "id": "bSGwcoNUdm7B",
        "colab_type": "code",
        "colab": {
          "base_uri": "https://localhost:8080/",
          "height": 268
        },
        "outputId": "1704c649-5e89-4292-9a46-0f7c633219c1"
      },
      "source": [
        "doors_range = range(3, 10)\n",
        "results1, results2 = [], []\n",
        "for doors in doors_range:\n",
        "  monty_hall = MontyHall(doors=doors, hints=doors-2)\n",
        "  results1.append(trials(monty_hall, change=False))\n",
        "  results2.append(trials(monty_hall, change=True))\n",
        "\n",
        "ax = DataFrame({'change=False': results1,\n",
        "                'change=True': results2}).plot()\n",
        "_ = ax.set_xticklabels(doors_range)"
      ],
      "execution_count": 26,
      "outputs": [
        {
          "output_type": "display_data",
          "data": {
            "image/png": "[encoded data removed]",
            "text/plain": [
              "<Figure size 432x288 with 1 Axes>"
            ]
          },
          "metadata": {
            "tags": []
          }
        }
      ]
    }
  ]
}
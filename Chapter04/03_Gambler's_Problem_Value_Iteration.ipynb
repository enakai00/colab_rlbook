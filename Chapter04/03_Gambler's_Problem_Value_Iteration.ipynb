{
  "nbformat": 4,
  "nbformat_minor": 0,
  "metadata": {
    "colab": {
      "name": "03 Gambler's Problem Value Iteration.ipynb",
      "provenance": [],
      "authorship_tag": "ABX9TyP66O8QgAB3tgQruV4q7pj0",
      "include_colab_link": true
    },
    "kernelspec": {
      "name": "python3",
      "display_name": "Python 3"
    }
  },
  "cells": [
    {
      "cell_type": "markdown",
      "metadata": {
        "id": "view-in-github",
        "colab_type": "text"
      },
      "source": [
        "<a href=\"https://colab.research.google.com/github/enakai00/colab_rlbook/blob/master/Chapter04/03_Gambler's_Problem_Value_Iteration.ipynb\" target=\"_parent\"><img src=\"https://colab.research.google.com/assets/colab-badge.svg\" alt=\"Open In Colab\"/></a>"
      ]
    },
    {
      "cell_type": "code",
      "metadata": {
        "id": "SnShf8y4FOYk",
        "colab_type": "code",
        "colab": {}
      },
      "source": [
        "import numpy as np\n",
        "import matplotlib.pyplot as plt\n",
        "import matplotlib\n",
        "matplotlib.rcParams['font.size'] = 12"
      ],
      "execution_count": 0,
      "outputs": []
    },
    {
      "cell_type": "code",
      "metadata": {
        "id": "XQor7flHFUY4",
        "colab_type": "code",
        "colab": {}
      },
      "source": [
        "class Gambler:\n",
        "  def __init__(self, goal=100, win_rate=0.4):\n",
        "    self.goal = goal\n",
        "    self.win_rate = win_rate\n",
        "    self.states = range(goal+1)\n",
        "\n",
        "    self.policy = {}\n",
        "    for s in self.states:\n",
        "      if s == 0 or s == self.goal:\n",
        "        continue\n",
        "      self.policy[s] = np.random.randint(1, s+1)\n",
        "\n",
        "    self.q = {}\n",
        "    self.cnt = {}\n",
        "    for s in self.states:\n",
        "      for a in range(1, s+1):\n",
        "        self.q[(s, a)] = 0\n",
        "        self.cnt[(s, a)] = 0\n",
        "\n",
        "  def play(self, s, a):\n",
        "    if s == 0 or s == self.goal:\n",
        "      return 0, s       # Reward, Next state\n",
        "\n",
        "    if np.random.random() < self.win_rate:  # Win\n",
        "      s = min(self.goal, s + a)\n",
        "      if s == self.goal:\n",
        "        return 1, s    # Reward, Next state\n",
        "      return 0, s      # Reward, Next state\n",
        "    else:                                   # Lose\n",
        "      s -= a\n",
        "      if s == 0:\n",
        "        return -1, s  # Reward, Next state \n",
        "      return 0, s     # Reward, Next state"
      ],
      "execution_count": 0,
      "outputs": []
    },
    {
      "cell_type": "code",
      "metadata": {
        "id": "4vPm9xpUcTJk",
        "colab_type": "code",
        "colab": {}
      },
      "source": [
        "def show_result(gambler):\n",
        "  fig = plt.figure(figsize=(14, 4))\n",
        "  linex = range(1, gambler.goal)\n",
        "\n",
        "  subplot = fig.add_subplot(1, 2, 1)\n",
        "  liney = [gambler.policy[s] for s in linex]\n",
        "  subplot.plot(linex, liney)\n",
        "  subplot.set_ylim([0, 100])\n",
        "  subplot.set_title('Policy')\n",
        "\n",
        "  subplot = fig.add_subplot(1, 2, 2)\n",
        "  liney = [gambler.q[(s, gambler.policy[s])] for s in linex]\n",
        "  subplot.plot(linex, liney)\n",
        "  subplot.set_ylim([-1, 1])\n",
        "  subplot.set_title('Value')"
      ],
      "execution_count": 0,
      "outputs": []
    },
    {
      "cell_type": "code",
      "metadata": {
        "id": "HY2JIbmc33Ry",
        "colab_type": "code",
        "colab": {}
      },
      "source": [
        "def get_episode(gambler):\n",
        "  episode = []\n",
        "  s = np.random.randint(1, gambler.goal)\n",
        "  initial = True\n",
        "  while True:\n",
        "    if initial:\n",
        "      a = np.random.randint(1, s+1)\n",
        "      initial = False\n",
        "    else:\n",
        "      a = gambler.policy[s]\n",
        "    r, s_new = gambler.play(s, a)\n",
        "    episode.append((s, a, r))\n",
        "    if s_new == 0 or s_new == gambler.goal:\n",
        "      break\n",
        "    s = s_new\n",
        "\n",
        "  return episode"
      ],
      "execution_count": 0,
      "outputs": []
    },
    {
      "cell_type": "code",
      "metadata": {
        "id": "Udkmsnd57Yd3",
        "colab_type": "code",
        "colab": {}
      },
      "source": [
        "def policy_update(gambler, s):\n",
        "  q_max = -10**10\n",
        "  a_best = None\n",
        "  for a in range(1, s+1):\n",
        "    if gambler.q[(s, a)] > q_max:\n",
        "      q_max = gambler.q[(s, a)]\n",
        "      a_best = a\n",
        "\n",
        "  gambler.policy[s] = a_best"
      ],
      "execution_count": 0,
      "outputs": []
    },
    {
      "cell_type": "code",
      "metadata": {
        "id": "pOPDvFYa5MPP",
        "colab_type": "code",
        "colab": {}
      },
      "source": [
        "def train(gambler, num):\n",
        "  c = 0\n",
        "  while c < num:\n",
        "    episode = get_episode(gambler)\n",
        "    episode.reverse()\n",
        "    total_r = 0\n",
        "    for (s, a, r) in episode:\n",
        "      total_r += r\n",
        "      gambler.cnt[(s, a)] += 1\n",
        "      gambler.q[(s, a)] += (total_r - gambler.q[(s, a)]) / gambler.cnt[(s, a)]\n",
        "      policy_update(gambler, s)\n",
        "    c += len(episode)"
      ],
      "execution_count": 0,
      "outputs": []
    },
    {
      "cell_type": "code",
      "metadata": {
        "id": "9r9RJhE88qmh",
        "colab_type": "code",
        "colab": {}
      },
      "source": [
        "gambler = Gambler()"
      ],
      "execution_count": 0,
      "outputs": []
    },
    {
      "cell_type": "code",
      "metadata": {
        "id": "NHSP7bIh837E",
        "colab_type": "code",
        "outputId": "d849661b-faa8-4bf8-acd9-b8755599dbd1",
        "colab": {
          "base_uri": "https://localhost:8080/",
          "height": 51
        }
      },
      "source": [
        "%%time\n",
        "train(gambler, num=50000000)"
      ],
      "execution_count": 8,
      "outputs": [
        {
          "output_type": "stream",
          "text": [
            "CPU times: user 10min 36s, sys: 95.1 ms, total: 10min 36s\n",
            "Wall time: 10min 40s\n"
          ],
          "name": "stdout"
        }
      ]
    },
    {
      "cell_type": "code",
      "metadata": {
        "id": "VcNVOzzv9tVA",
        "colab_type": "code",
        "outputId": "1d18252f-273a-4dc5-b6d9-666a3b38ca4a",
        "colab": {
          "base_uri": "https://localhost:8080/",
          "height": 285
        }
      },
      "source": [
        "show_result(gambler)"
      ],
      "execution_count": 9,
      "outputs": [
        {
          "output_type": "display_data",
          "data": {
            "image/png": "[encoded data removed]",
            "text/plain": [
              "<Figure size 1008x288 with 2 Axes>"
            ]
          },
          "metadata": {
            "tags": []
          }
        }
      ]
    }
  ]
}
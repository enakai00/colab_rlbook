{
  "nbformat": 4,
  "nbformat_minor": 0,
  "metadata": {
    "colab": {
      "name": "04 Maze Solver Monte Carlo.ipynb",
      "provenance": []
    },
    "kernelspec": {
      "name": "python3",
      "display_name": "Python 3"
    }
  },
  "cells": [
    {
      "cell_type": "markdown",
      "metadata": {
        "id": "k38xx8WOBiXe",
        "colab_type": "text"
      },
      "source": [
        "**[MMC-01]**\n",
        "\n",
        "Import modules."
      ]
    },
    {
      "cell_type": "code",
      "metadata": {
        "id": "MWOOgNK0ygdC",
        "colab_type": "code",
        "colab": {}
      },
      "source": [
        "import numpy as np\n",
        "import copy\n",
        "import matplotlib.pyplot as plt\n",
        "import matplotlib\n",
        "matplotlib.rcParams['font.size'] = 12"
      ],
      "execution_count": 0,
      "outputs": []
    },
    {
      "cell_type": "markdown",
      "metadata": {
        "id": "6El9AykdBnji",
        "colab_type": "text"
      },
      "source": [
        "**[MMC-02]**\n",
        "\n",
        "Define a function to get the maze data in a list."
      ]
    },
    {
      "cell_type": "code",
      "metadata": {
        "id": "lg8JzPgGwhjW",
        "colab_type": "code",
        "colab": {}
      },
      "source": [
        "def get_maze():\n",
        "  maze_img = '''\n",
        "############\n",
        "#S         #\n",
        "#          #\n",
        "#######    #\n",
        "#          #\n",
        "#          #\n",
        "#    #######\n",
        "#          #\n",
        "#         G#\n",
        "############\n",
        "'''\n",
        "  maze = []\n",
        "  for line in maze_img.split('\\n'):\n",
        "    if line == '':\n",
        "      continue \n",
        "    maze.append(list(line))\n",
        "\n",
        "  return maze"
      ],
      "execution_count": 0,
      "outputs": []
    },
    {
      "cell_type": "markdown",
      "metadata": {
        "id": "XV_P-de0B9H7",
        "colab_type": "text"
      },
      "source": [
        "**[MMC-03]**\n",
        "\n",
        "Define the Agent class to walk through the maze."
      ]
    },
    {
      "cell_type": "code",
      "metadata": {
        "id": "CBHd9TZXzcEo",
        "colab_type": "code",
        "colab": {}
      },
      "source": [
        "class Agent:\n",
        "  def __init__(self, maze):\n",
        "    self.maze = maze\n",
        "    size_y, size_x = len(maze), len(maze[0])\n",
        "    self.states = [(x, y) for x in range(size_x) for y in range(size_y)]\n",
        "    self.actions = [(0, -1), (-1, 0), (1, 0), (0, 1)]\n",
        "\n",
        "    self.policy = {}\n",
        "    for s in self.states:\n",
        "      self.policy[s] = self.actions[np.random.randint(len(self.actions))]\n",
        "\n",
        "    self.q = {}\n",
        "    self.cnt = {}\n",
        "    for s in self.states:\n",
        "      for a in self.actions:\n",
        "        self.q[(s, a)] = -10**10\n",
        "        self.cnt[(s, a)] = 0\n",
        "\n",
        "  def move(self, s, a):\n",
        "    x, y = s\n",
        "    dx, dy = a\n",
        "\n",
        "    if self.maze[y][x] == 'G':\n",
        "      return 0, s       # Reward, Next state\n",
        " \n",
        "    if self.maze[y+dy][x+dx] != '#':\n",
        "      x += dx\n",
        "      y += dy\n",
        "\n",
        "    return -1, (x, y)   # Reward, Next state"
      ],
      "execution_count": 0,
      "outputs": []
    },
    {
      "cell_type": "markdown",
      "metadata": {
        "id": "Hfc7RCZ4CGD2",
        "colab_type": "text"
      },
      "source": [
        "**[MMC-04]**\n",
        "\n",
        "Define a function to get a single episode."
      ]
    },
    {
      "cell_type": "code",
      "metadata": {
        "id": "2LnnsBQ72xSs",
        "colab_type": "code",
        "colab": {}
      },
      "source": [
        "def get_episode(agent, epsilon):\n",
        "  episode = []\n",
        "  s = (1, 1)  # Start\n",
        "\n",
        "  while True:\n",
        "    if np.random.random() < epsilon:\n",
        "      a = agent.actions[np.random.randint(len(agent.actions))]\n",
        "    else:\n",
        "      a = agent.policy[s]\n",
        "\n",
        "    r, s_new = agent.move(s, a)\n",
        "    episode.append((s, a, r))\n",
        "    x, y = s_new\n",
        "    if agent.maze[y][x] == 'G':\n",
        "      break\n",
        "    s = s_new\n",
        "\n",
        "  return episode"
      ],
      "execution_count": 0,
      "outputs": []
    },
    {
      "cell_type": "markdown",
      "metadata": {
        "id": "99PAPBRwCpSe",
        "colab_type": "text"
      },
      "source": [
        "**[MMC-05]**\n",
        "\n",
        "Define a function to update the action policy for a specific state."
      ]
    },
    {
      "cell_type": "code",
      "metadata": {
        "id": "xcm3oHfH4dHw",
        "colab_type": "code",
        "colab": {}
      },
      "source": [
        "def policy_update(agent, s):\n",
        "  q_max = -10**10\n",
        "  a_best = None\n",
        "  for a in agent.actions:\n",
        "    if agent.q[(s, a)] > q_max:\n",
        "      q_max = agent.q[(s, a)]\n",
        "      a_best = a\n",
        "\n",
        "  agent.policy[s] = a_best"
      ],
      "execution_count": 0,
      "outputs": []
    },
    {
      "cell_type": "markdown",
      "metadata": {
        "id": "GXX5Wzb3CxUi",
        "colab_type": "text"
      },
      "source": [
        "**[MMC-06]**\n",
        "\n",
        "Define a function to apply the Monte Carlo method with the off-policy data."
      ]
    },
    {
      "cell_type": "code",
      "metadata": {
        "id": "6KL6VvpZ8ORG",
        "colab_type": "code",
        "colab": {}
      },
      "source": [
        "def train(agent, epsilon, min_epsilon):\n",
        "  episode_lengths = []\n",
        "  max_data_length = 0\n",
        "\n",
        "  while True:\n",
        "    episode = get_episode(agent, epsilon)\n",
        "    episode_lengths.append(len(episode))\n",
        "    episode.reverse()\n",
        "    total_r = 0\n",
        "    last = False\n",
        "    data_length = 0\n",
        "\n",
        "    for (s, a, r) in episode:\n",
        "      data_length += 1\n",
        "\n",
        "      if a != agent.policy[s]:\n",
        "        last = True\n",
        "\n",
        "      total_r += r\n",
        "      agent.cnt[(s, a)] += 1\n",
        "      agent.q[(s, a)] += (total_r - agent.q[(s, a)]) / agent.cnt[(s, a)]\n",
        "      policy_update(agent, s)\n",
        "\n",
        "      if last:\n",
        "        break\n",
        "\n",
        "    epsilon *= 0.999\n",
        "    if epsilon < min_epsilon:\n",
        "      break\n",
        "\n",
        "    if data_length > max_data_length:\n",
        "      max_data_length = data_length\n",
        "      result = np.copy(agent.maze)\n",
        "      for (s, a, r) in episode[:data_length]:\n",
        "        x, y = s\n",
        "        result[y][x] = '+'\n",
        "      print('epsilon={:1.3f}'.format(epsilon))\n",
        "      for line in result:\n",
        "        print (''.join(line))\n",
        "      print ('')\n",
        "\n",
        "  return episode_lengths"
      ],
      "execution_count": 0,
      "outputs": []
    },
    {
      "cell_type": "markdown",
      "metadata": {
        "id": "gTWO2iJgDTBh",
        "colab_type": "text"
      },
      "source": [
        "**[MMC-07]**\n",
        "\n",
        "Get the maze data and create an Agent instance."
      ]
    },
    {
      "cell_type": "code",
      "metadata": {
        "id": "yTbBNQNF7Cv2",
        "colab_type": "code",
        "colab": {}
      },
      "source": [
        "maze = get_maze()\n",
        "agent = Agent(maze)"
      ],
      "execution_count": 0,
      "outputs": []
    },
    {
      "cell_type": "markdown",
      "metadata": {
        "id": "jT-9exwXDb97",
        "colab_type": "text"
      },
      "source": [
        "**[MMC-08]**\n",
        "\n",
        "Apply the Monte Carlo method to train the agent."
      ]
    },
    {
      "cell_type": "code",
      "metadata": {
        "id": "KLb8C_a_7JLP",
        "colab_type": "code",
        "outputId": "e55a6e4e-3411-45df-cfe8-a42221ee841b",
        "colab": {
          "base_uri": "https://localhost:8080/",
          "height": 1000
        }
      },
      "source": [
        "%%time\n",
        "episode_lengths = train(agent, epsilon=0.9, min_epsilon=0.01)"
      ],
      "execution_count": 0,
      "outputs": [
        {
          "output_type": "stream",
          "text": [
            "epsilon=0.899\n",
            "############\n",
            "#S         #\n",
            "#          #\n",
            "#######    #\n",
            "#          #\n",
            "#          #\n",
            "#    #######\n",
            "#          #\n",
            "#        +G#\n",
            "############\n",
            "\n",
            "epsilon=0.897\n",
            "############\n",
            "#S         #\n",
            "#          #\n",
            "#######    #\n",
            "#          #\n",
            "#          #\n",
            "#    #######\n",
            "#          #\n",
            "#       ++G#\n",
            "############\n",
            "\n",
            "epsilon=0.896\n",
            "############\n",
            "#S         #\n",
            "#          #\n",
            "#######    #\n",
            "#          #\n",
            "#          #\n",
            "#    #######\n",
            "#          #\n",
            "#       ++G#\n",
            "############\n",
            "\n",
            "epsilon=0.890\n",
            "############\n",
            "#S         #\n",
            "#          #\n",
            "#######    #\n",
            "#          #\n",
            "#          #\n",
            "#    #######\n",
            "#          #\n",
            "#      +++G#\n",
            "############\n",
            "\n",
            "epsilon=0.885\n",
            "############\n",
            "#S         #\n",
            "#          #\n",
            "#######    #\n",
            "#          #\n",
            "#          #\n",
            "#    #######\n",
            "#     ++   #\n",
            "#      +++G#\n",
            "############\n",
            "\n",
            "epsilon=0.873\n",
            "############\n",
            "#S         #\n",
            "#          #\n",
            "#######    #\n",
            "#          #\n",
            "#          #\n",
            "#    #######\n",
            "#     ++   #\n",
            "#      +++G#\n",
            "############\n",
            "\n",
            "epsilon=0.806\n",
            "############\n",
            "#S         #\n",
            "#          #\n",
            "#######    #\n",
            "#          #\n",
            "#          #\n",
            "#    #######\n",
            "#          #\n",
            "#  +++++++G#\n",
            "############\n",
            "\n",
            "epsilon=0.670\n",
            "############\n",
            "#S         #\n",
            "#          #\n",
            "#######    #\n",
            "#          #\n",
            "#          #\n",
            "#    #######\n",
            "#   +      #\n",
            "#   ++++++G#\n",
            "############\n",
            "\n",
            "epsilon=0.623\n",
            "############\n",
            "#S         #\n",
            "#          #\n",
            "#######    #\n",
            "#          #\n",
            "# ++       #\n",
            "# +  #######\n",
            "# +        #\n",
            "# ++++++++G#\n",
            "############\n",
            "\n",
            "epsilon=0.456\n",
            "############\n",
            "#S         #\n",
            "#          #\n",
            "#######    #\n",
            "#          #\n",
            "#   ++++++ #\n",
            "#   +#######\n",
            "#   +++++++#\n",
            "#         G#\n",
            "############\n",
            "\n",
            "epsilon=0.401\n",
            "############\n",
            "#S         #\n",
            "#          #\n",
            "#######    #\n",
            "#         +#\n",
            "#   +++++++#\n",
            "#   +#######\n",
            "#   +++++++#\n",
            "#         G#\n",
            "############\n",
            "\n",
            "epsilon=0.351\n",
            "############\n",
            "#S         #\n",
            "#      +   #\n",
            "#######+++ #\n",
            "#        + #\n",
            "#   ++++++ #\n",
            "#   +#######\n",
            "#   +++++++#\n",
            "#         G#\n",
            "############\n",
            "\n",
            "epsilon=0.301\n",
            "############\n",
            "#S         #\n",
            "#      ++  #\n",
            "#######+++ #\n",
            "#        + #\n",
            "#   ++++++ #\n",
            "#   +#######\n",
            "#   +++++++#\n",
            "#         G#\n",
            "############\n",
            "\n",
            "epsilon=0.264\n",
            "############\n",
            "#S         #\n",
            "#    +++   #\n",
            "#######+++ #\n",
            "#        + #\n",
            "#   ++++++ #\n",
            "#   +#######\n",
            "#   +++++++#\n",
            "#         G#\n",
            "############\n",
            "\n",
            "epsilon=0.241\n",
            "############\n",
            "#S         #\n",
            "#  +++++   #\n",
            "#######+++ #\n",
            "#        + #\n",
            "#   ++++++ #\n",
            "#   +#######\n",
            "#   +++++++#\n",
            "#         G#\n",
            "############\n",
            "\n",
            "epsilon=0.226\n",
            "############\n",
            "#S++       #\n",
            "#  +++++   #\n",
            "#######+++ #\n",
            "#        + #\n",
            "#   ++++++ #\n",
            "#   +#######\n",
            "#   +++++++#\n",
            "#         G#\n",
            "############\n",
            "\n",
            "CPU times: user 12.1 s, sys: 24.9 ms, total: 12.1 s\n",
            "Wall time: 12.2 s\n"
          ],
          "name": "stdout"
        }
      ]
    },
    {
      "cell_type": "markdown",
      "metadata": {
        "id": "QtfWEWJRD5IX",
        "colab_type": "text"
      },
      "source": [
        "**[MMC-09]**\n",
        "\n",
        "Show the agent path with the trained action policy."
      ]
    },
    {
      "cell_type": "code",
      "metadata": {
        "id": "oppNGPt_EUfq",
        "colab_type": "code",
        "outputId": "fd161879-ae7a-4397-ed07-8d61b9f49925",
        "colab": {
          "base_uri": "https://localhost:8080/",
          "height": 187
        }
      },
      "source": [
        "episode = get_episode(agent, epsilon=0)\n",
        "\n",
        "result = np.copy(agent.maze)\n",
        "for (s, a, r) in episode:\n",
        "  x, y = s\n",
        "  result[y][x] = '+'\n",
        "for line in result:\n",
        "  print (''.join(line))"
      ],
      "execution_count": 0,
      "outputs": [
        {
          "output_type": "stream",
          "text": [
            "############\n",
            "#+         #\n",
            "#+++++++   #\n",
            "#######+   #\n",
            "#   ++++   #\n",
            "#   +      #\n",
            "#   +#######\n",
            "#   +++++++#\n",
            "#         G#\n",
            "############\n"
          ],
          "name": "stdout"
        }
      ]
    },
    {
      "cell_type": "markdown",
      "metadata": {
        "id": "f3cbkFPuEC0F",
        "colab_type": "text"
      },
      "source": [
        "**[MMC-10]**\n",
        "\n",
        "Show the episode lengths during the training."
      ]
    },
    {
      "cell_type": "code",
      "metadata": {
        "id": "_MFPIrVT7Dmm",
        "colab_type": "code",
        "outputId": "4eb38761-3f82-453d-d49d-ae41749a3394",
        "colab": {
          "base_uri": "https://localhost:8080/",
          "height": 302
        }
      },
      "source": [
        "fig = plt.figure(figsize=(10, 4))\n",
        "subplot = fig.add_subplot(1, 1, 1)\n",
        "subplot.set_title('Episode length')\n",
        "subplot.plot(range(len(episode_lengths)), episode_lengths)"
      ],
      "execution_count": 0,
      "outputs": [
        {
          "output_type": "execute_result",
          "data": {
            "text/plain": [
              "[<matplotlib.lines.Line2D at 0x7fe41751c0b8>]"
            ]
          },
          "metadata": {
            "tags": []
          },
          "execution_count": 11
        },
        {
          "output_type": "display_data",
          "data": {
            "image/png": "[encoded data removed]",
            "text/plain": [
              "<Figure size 720x288 with 1 Axes>"
            ]
          },
          "metadata": {
            "tags": []
          }
        }
      ]
    }
  ]
}
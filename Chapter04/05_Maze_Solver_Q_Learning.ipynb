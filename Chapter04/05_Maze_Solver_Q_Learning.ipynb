{
  "nbformat": 4,
  "nbformat_minor": 0,
  "metadata": {
    "colab": {
      "name": "05 Maze Solver Q-Learning.ipynb",
      "provenance": [],
      "include_colab_link": true
    },
    "kernelspec": {
      "name": "python3",
      "display_name": "Python 3"
    }
  },
  "cells": [
    {
      "cell_type": "markdown",
      "metadata": {
        "id": "view-in-github",
        "colab_type": "text"
      },
      "source": [
        "<a href=\"https://colab.research.google.com/github/enakai00/colab_rlbook/blob/master/Chapter04/05_Maze_Solver_Q_Learning.ipynb\" target=\"_parent\"><img src=\"https://colab.research.google.com/assets/colab-badge.svg\" alt=\"Open In Colab\"/></a>"
      ]
    },
    {
      "cell_type": "code",
      "metadata": {
        "id": "MWOOgNK0ygdC",
        "colab_type": "code",
        "colab": {}
      },
      "source": [
        "import numpy as np\n",
        "import copy\n",
        "import matplotlib.pyplot as plt\n",
        "import matplotlib\n",
        "matplotlib.rcParams['font.size'] = 12"
      ],
      "execution_count": 0,
      "outputs": []
    },
    {
      "cell_type": "code",
      "metadata": {
        "id": "lg8JzPgGwhjW",
        "colab_type": "code",
        "colab": {}
      },
      "source": [
        "def get_maze():\n",
        "  maze_img = '''\n",
        "############\n",
        "#S         #\n",
        "#          #\n",
        "#######    #\n",
        "#          #\n",
        "#          #\n",
        "#    #######\n",
        "#          #\n",
        "#         G#\n",
        "############\n",
        "'''\n",
        "  maze = []\n",
        "  for line in maze_img.split('\\n'):\n",
        "    if line == '':\n",
        "      continue \n",
        "    maze.append(list(line))\n",
        "\n",
        "  return maze"
      ],
      "execution_count": 0,
      "outputs": []
    },
    {
      "cell_type": "code",
      "metadata": {
        "id": "CBHd9TZXzcEo",
        "colab_type": "code",
        "colab": {}
      },
      "source": [
        "class Agent:\n",
        "  def __init__(self, maze):\n",
        "    self.maze = maze\n",
        "    size_y, size_x = len(maze), len(maze[0])\n",
        "    self.states = [(x, y) for x in range(size_x) for y in range(size_y)]\n",
        "    self.actions = [(0, -1), (-1, 0), (1, 0), (0, 1)]\n",
        "\n",
        "    self.policy = {}\n",
        "    for s in self.states:\n",
        "      self.policy[s] = self.actions[np.random.randint(len(self.actions))]\n",
        "\n",
        "    self.q = {}\n",
        "    for s in self.states:\n",
        "      for a in self.actions:\n",
        "        self.q[(s, a)] = 0\n",
        "\n",
        "  def move(self, s, a):\n",
        "    x, y = s\n",
        "    dx, dy = a\n",
        "\n",
        "    if self.maze[y][x] == 'G':\n",
        "      return 0, s       # Reward, Next state\n",
        " \n",
        "    if self.maze[y+dy][x+dx] != '#':\n",
        "      x += dx\n",
        "      y += dy\n",
        "\n",
        "    return -1, (x, y)   # Reward, Next state"
      ],
      "execution_count": 0,
      "outputs": []
    },
    {
      "cell_type": "code",
      "metadata": {
        "id": "xcm3oHfH4dHw",
        "colab_type": "code",
        "colab": {}
      },
      "source": [
        "def policy_update(agent, s):\n",
        "  q_max = -10**10\n",
        "  a_best = None\n",
        "  for a in agent.actions:\n",
        "    if agent.q[(s, a)] > q_max:\n",
        "      q_max = agent.q[(s, a)]\n",
        "      a_best = a\n",
        "\n",
        "  agent.policy[s] = a_best"
      ],
      "execution_count": 0,
      "outputs": []
    },
    {
      "cell_type": "code",
      "metadata": {
        "id": "2LnnsBQ72xSs",
        "colab_type": "code",
        "colab": {}
      },
      "source": [
        "def get_episode(agent, epsilon):\n",
        "  episode = []\n",
        "  s = (1, 1)  # Start\n",
        "  while True:\n",
        "    if np.random.random() < epsilon:\n",
        "      a = agent.actions[np.random.randint(len(agent.actions))]\n",
        "    else:\n",
        "      a = agent.policy[s]\n",
        "\n",
        "    r, s_new = agent.move(s, a)\n",
        "    episode.append((s, a, r))\n",
        "    agent.q[(s, a)] += 0.2 * (r + agent.q[(s_new, agent.policy[s_new])] - agent.q[(s, a)])\n",
        "    policy_update(agent, s)\n",
        "\n",
        "    x, y = s_new\n",
        "    if agent.maze[y][x] == 'G':\n",
        "      break\n",
        "\n",
        "    s = s_new\n",
        "\n",
        "  return episode"
      ],
      "execution_count": 0,
      "outputs": []
    },
    {
      "cell_type": "code",
      "metadata": {
        "id": "6KL6VvpZ8ORG",
        "colab_type": "code",
        "colab": {}
      },
      "source": [
        "def train(agent, epsilon, num):\n",
        "  episode_lengths = []\n",
        "\n",
        "  for _ in range(num):\n",
        "    episode = get_episode(agent, epsilon)\n",
        "    episode_lengths.append(len(episode))\n",
        "\n",
        "  return episode_lengths"
      ],
      "execution_count": 0,
      "outputs": []
    },
    {
      "cell_type": "code",
      "metadata": {
        "id": "yTbBNQNF7Cv2",
        "colab_type": "code",
        "colab": {}
      },
      "source": [
        "maze = get_maze()\n",
        "agent = Agent(maze)"
      ],
      "execution_count": 0,
      "outputs": []
    },
    {
      "cell_type": "code",
      "metadata": {
        "id": "KLb8C_a_7JLP",
        "colab_type": "code",
        "outputId": "78ed9b75-79cb-47d2-e713-3288be79c72d",
        "colab": {
          "base_uri": "https://localhost:8080/",
          "height": 51
        }
      },
      "source": [
        "%%time\n",
        "episode_lengths = train(agent, epsilon=0.1, num=1000)"
      ],
      "execution_count": 0,
      "outputs": [
        {
          "output_type": "stream",
          "text": [
            "CPU times: user 184 ms, sys: 1.78 ms, total: 185 ms\n",
            "Wall time: 189 ms\n"
          ],
          "name": "stdout"
        }
      ]
    },
    {
      "cell_type": "code",
      "metadata": {
        "id": "oppNGPt_EUfq",
        "colab_type": "code",
        "outputId": "70eaf033-6bae-43fa-d270-6a34b1c80268",
        "colab": {
          "base_uri": "https://localhost:8080/",
          "height": 187
        }
      },
      "source": [
        "episode = get_episode(agent, epsilon=0)\n",
        "\n",
        "result = np.copy(agent.maze)\n",
        "for (s, a, r) in episode:\n",
        "  x, y = s\n",
        "  result[y][x] = '+'\n",
        "\n",
        "for line in result:\n",
        "  print (''.join(line))"
      ],
      "execution_count": 0,
      "outputs": [
        {
          "output_type": "stream",
          "text": [
            "############\n",
            "#+++++     #\n",
            "#    +++   #\n",
            "#######+   #\n",
            "#      +   #\n",
            "#   ++++   #\n",
            "#   +#######\n",
            "#   ++++   #\n",
            "#      +++G#\n",
            "############\n"
          ],
          "name": "stdout"
        }
      ]
    },
    {
      "cell_type": "code",
      "metadata": {
        "id": "iZiJ5Ao9cAmp",
        "colab_type": "code",
        "outputId": "b28ca91e-f150-4892-dbad-16c1665e29fc",
        "colab": {
          "base_uri": "https://localhost:8080/",
          "height": 302
        }
      },
      "source": [
        "fig = plt.figure(figsize=(10, 4))\n",
        "subplot = fig.add_subplot(1, 1, 1)\n",
        "subplot.set_title('Episode length')\n",
        "subplot.plot(range(len(episode_lengths)), episode_lengths)"
      ],
      "execution_count": 0,
      "outputs": [
        {
          "output_type": "execute_result",
          "data": {
            "text/plain": [
              "[<matplotlib.lines.Line2D at 0x7f7035e4b080>]"
            ]
          },
          "metadata": {
            "tags": []
          },
          "execution_count": 11
        },
        {
          "output_type": "display_data",
          "data": {
            "image/png": "[encoded data removed]",
            "text/plain": [
              "<Figure size 720x288 with 1 Axes>"
            ]
          },
          "metadata": {
            "tags": []
          }
        }
      ]
    }
  ]
}
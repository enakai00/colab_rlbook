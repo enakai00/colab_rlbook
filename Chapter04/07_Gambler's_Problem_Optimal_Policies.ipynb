{
  "nbformat": 4,
  "nbformat_minor": 0,
  "metadata": {
    "colab": {
      "name": "07 Gambler's Problem Optimal Policies.ipynb",
      "provenance": [],
      "authorship_tag": "ABX9TyP/12TI73Bus3w4zPQS2yoH"
    },
    "kernelspec": {
      "name": "python3",
      "display_name": "Python 3"
    }
  },
  "cells": [
    {
      "cell_type": "markdown",
      "metadata": {
        "id": "896WeKEpK7sY",
        "colab_type": "text"
      },
      "source": [
        "**[GOP-01]**\n",
        "\n",
        "Import modules."
      ]
    },
    {
      "cell_type": "code",
      "metadata": {
        "id": "SnShf8y4FOYk",
        "colab_type": "code",
        "colab": {}
      },
      "source": [
        "import numpy as np\n",
        "import matplotlib.pyplot as plt\n",
        "import matplotlib\n",
        "matplotlib.rcParams['font.size'] = 12"
      ],
      "execution_count": 0,
      "outputs": []
    },
    {
      "cell_type": "markdown",
      "metadata": {
        "id": "zBzPIFZYLCvz",
        "colab_type": "text"
      },
      "source": [
        "**[GOP-02]**\n",
        "\n",
        "Define the Gambler class to simulate the game."
      ]
    },
    {
      "cell_type": "code",
      "metadata": {
        "id": "XQor7flHFUY4",
        "colab_type": "code",
        "colab": {}
      },
      "source": [
        "class Gambler:\n",
        "  def __init__(self, goal=100, win_rate=0.4):\n",
        "    self.goal = goal\n",
        "    self.win_rate = win_rate\n",
        "    self.states = range(goal+1)\n",
        "\n",
        "    self.policy = {}  # Define later\n",
        "\n",
        "    self.values = {}\n",
        "    self.cnt = {}\n",
        "    for s in self.states:\n",
        "      self.values[s] = 0\n",
        "      self.cnt[s] = 0\n",
        "\n",
        "  def play(self, s, a):\n",
        "    if s == 0 or s == self.goal:\n",
        "      return 0, s       # Reward, Next state\n",
        "\n",
        "    if np.random.random() < self.win_rate:  # Win\n",
        "      s = min(self.goal, s + a)\n",
        "      if s == self.goal:\n",
        "        return 1, s    # Reward, Next state\n",
        "      return 0, s      # Reward, Next state\n",
        "    else:                                   # Lose\n",
        "      s -= a\n",
        "      if s == 0:\n",
        "        return -1, s  # Reward, Next state \n",
        "      return 0, s     # Reward, Next state"
      ],
      "execution_count": 0,
      "outputs": []
    },
    {
      "cell_type": "markdown",
      "metadata": {
        "id": "565rL-gYLHAc",
        "colab_type": "text"
      },
      "source": [
        "**[GOP-03]**\n",
        "\n",
        "Define a function to show the action policy and the value function."
      ]
    },
    {
      "cell_type": "code",
      "metadata": {
        "id": "bTsO_MGMWXUl",
        "colab_type": "code",
        "colab": {}
      },
      "source": [
        "def show_result(gambler):\n",
        "  fig = plt.figure(figsize=(14, 4))\n",
        "  linex = range(1, gambler.goal)\n",
        "\n",
        "  subplot = fig.add_subplot(1, 2, 1)\n",
        "  liney = [gambler.policy[s] for s in linex]\n",
        "  subplot.plot(linex, liney)\n",
        "  subplot.set_ylim([0, 100])\n",
        "  subplot.set_title('Policy')\n",
        "\n",
        "  subplot = fig.add_subplot(1, 2, 2)\n",
        "  liney = [gambler.values[s] for s in linex]\n",
        "  subplot.plot(linex, liney)\n",
        "  subplot.set_ylim([-1, 1])\n",
        "  subplot.set_title('Value')"
      ],
      "execution_count": 0,
      "outputs": []
    },
    {
      "cell_type": "markdown",
      "metadata": {
        "id": "BihtTrUWLMr0",
        "colab_type": "text"
      },
      "source": [
        "**[GOP-04]**\n",
        "\n",
        "Define a function to play the game for a single episode."
      ]
    },
    {
      "cell_type": "code",
      "metadata": {
        "id": "HY2JIbmc33Ry",
        "colab_type": "code",
        "colab": {}
      },
      "source": [
        "def get_episode(gambler):\n",
        "  episode = []\n",
        "  s = np.random.randint(1, gambler.goal)\n",
        "  while True:\n",
        "    a = gambler.policy[s]\n",
        "    r, s_new = gambler.play(s, a)\n",
        "    episode.append((s, a, r))\n",
        "    if s_new == 0 or s_new == gambler.goal:\n",
        "      break\n",
        "    s = s_new\n",
        "  return episode"
      ],
      "execution_count": 0,
      "outputs": []
    },
    {
      "cell_type": "markdown",
      "metadata": {
        "id": "CELYw3UzMCOk",
        "colab_type": "text"
      },
      "source": [
        "**[GOP-05]**\n",
        "\n",
        "Define a function to estimate the value function."
      ]
    },
    {
      "cell_type": "code",
      "metadata": {
        "id": "pOPDvFYa5MPP",
        "colab_type": "code",
        "colab": {}
      },
      "source": [
        "def train(gambler, num):\n",
        "  c = 0\n",
        "  while c < num:\n",
        "    episode = get_episode(gambler)\n",
        "    episode.reverse()\n",
        "    total_r = 0\n",
        "    for (s, a, r) in episode:\n",
        "      total_r += r\n",
        "      gambler.cnt[s] += 1\n",
        "      gambler.values[s] += (total_r - gambler.values[s]) / gambler.cnt[s]\n",
        "    c += len(episode)"
      ],
      "execution_count": 0,
      "outputs": []
    },
    {
      "cell_type": "markdown",
      "metadata": {
        "id": "Q-wByhKJMHOo",
        "colab_type": "text"
      },
      "source": [
        "**[GOP-06]**\n",
        "\n",
        "Create a Gambler instance and initialize the modified action policy #1."
      ]
    },
    {
      "cell_type": "code",
      "metadata": {
        "id": "16s0X7F0ULsQ",
        "colab_type": "code",
        "colab": {}
      },
      "source": [
        "gambler = Gambler()\n",
        "for s in range(1, 50):\n",
        "  gambler.policy[s] = min(s, 50-s)\n",
        "for s in range(50, 100):\n",
        "  gambler.policy[s] = 100-s"
      ],
      "execution_count": 0,
      "outputs": []
    },
    {
      "cell_type": "markdown",
      "metadata": {
        "id": "OU0l-KV4MR6H",
        "colab_type": "text"
      },
      "source": [
        "**[GOP-07]**\n",
        "\n",
        "Play the game for 10,000,000 times to estimate the value function."
      ]
    },
    {
      "cell_type": "code",
      "metadata": {
        "id": "zD4DPC93UoMU",
        "colab_type": "code",
        "outputId": "d0f3e4e4-470e-4750-d70f-4a1b38908708",
        "colab": {
          "base_uri": "https://localhost:8080/",
          "height": 51
        }
      },
      "source": [
        "%%time\n",
        "train(gambler, num=10000000)"
      ],
      "execution_count": 0,
      "outputs": [
        {
          "output_type": "stream",
          "text": [
            "CPU times: user 52.3 s, sys: 7.94 ms, total: 52.3 s\n",
            "Wall time: 52.7 s\n"
          ],
          "name": "stdout"
        }
      ]
    },
    {
      "cell_type": "markdown",
      "metadata": {
        "id": "CeAxjXQSMVz4",
        "colab_type": "text"
      },
      "source": [
        "**[GOP-08]**\n",
        "\n",
        "Show the action policy and the estimated value function."
      ]
    },
    {
      "cell_type": "code",
      "metadata": {
        "id": "34_JFvN3Uo3m",
        "colab_type": "code",
        "outputId": "32f57b19-d512-46b8-c0da-9448e65e53a7",
        "colab": {
          "base_uri": "https://localhost:8080/",
          "height": 285
        }
      },
      "source": [
        "show_result(gambler)"
      ],
      "execution_count": 0,
      "outputs": [
        {
          "output_type": "display_data",
          "data": {
            "image/png": "[encoded data removed]",
            "text/plain": [
              "<Figure size 1008x288 with 2 Axes>"
            ]
          },
          "metadata": {
            "tags": []
          }
        }
      ]
    },
    {
      "cell_type": "markdown",
      "metadata": {
        "id": "LFVN97IbMZdJ",
        "colab_type": "text"
      },
      "source": [
        "**[GOP-09]**\n",
        "\n",
        "Create a Gambler instance and initialize the modified action policy #2."
      ]
    },
    {
      "cell_type": "code",
      "metadata": {
        "id": "w_Hdl4GQgLHO",
        "colab_type": "code",
        "colab": {}
      },
      "source": [
        "gambler = Gambler()\n",
        "for s in range(1, 50):\n",
        "  gambler.policy[s] = min(s, 50-s)\n",
        "  gambler.policy[s+50] = min(s, 50-s)\n",
        "gambler.policy[50] = 50"
      ],
      "execution_count": 0,
      "outputs": []
    },
    {
      "cell_type": "markdown",
      "metadata": {
        "id": "_RP3DFCJMeOl",
        "colab_type": "text"
      },
      "source": [
        "**[GOP-10]**\n",
        "\n",
        "Play the game for 10,000,000 times to estimate the value function."
      ]
    },
    {
      "cell_type": "code",
      "metadata": {
        "id": "V3_GasZOgkq-",
        "colab_type": "code",
        "outputId": "b3704556-9622-4758-913a-9ab49fcdbd1c",
        "colab": {
          "base_uri": "https://localhost:8080/",
          "height": 51
        }
      },
      "source": [
        "%%time\n",
        "train(gambler, num=10000000)"
      ],
      "execution_count": 0,
      "outputs": [
        {
          "output_type": "stream",
          "text": [
            "CPU times: user 51.1 s, sys: 10 ms, total: 51.1 s\n",
            "Wall time: 51.5 s\n"
          ],
          "name": "stdout"
        }
      ]
    },
    {
      "cell_type": "markdown",
      "metadata": {
        "id": "ZQwIeiPfMh9p",
        "colab_type": "text"
      },
      "source": [
        "**[GOP-11]**\n",
        "\n",
        "Show the action policy and the estimated value function."
      ]
    },
    {
      "cell_type": "code",
      "metadata": {
        "id": "YQ63jJPoglZM",
        "colab_type": "code",
        "outputId": "31e085f5-7183-4e7f-b097-d9d4dee7c2c6",
        "colab": {
          "base_uri": "https://localhost:8080/",
          "height": 285
        }
      },
      "source": [
        "show_result(gambler)"
      ],
      "execution_count": 0,
      "outputs": [
        {
          "output_type": "display_data",
          "data": {
            "image/png": "[encoded data removed]",
            "text/plain": [
              "<Figure size 1008x288 with 2 Axes>"
            ]
          },
          "metadata": {
            "tags": []
          }
        }
      ]
    },
    {
      "cell_type": "markdown",
      "metadata": {
        "id": "j8X1rzI1Mx6X",
        "colab_type": "text"
      },
      "source": [
        "**[GOP-12]**\n",
        "\n",
        "Create a Gambler instance and initialize the modified action policy #3."
      ]
    },
    {
      "cell_type": "code",
      "metadata": {
        "id": "Ru3RsuGs2kDt",
        "colab_type": "code",
        "colab": {}
      },
      "source": [
        "gambler = Gambler()\n",
        "for s in range(25):\n",
        "  gambler.policy[s] = min(s, 25-s)\n",
        "  gambler.policy[s+25] = min(s, 25-s)\n",
        "  gambler.policy[s+50] = min(s, 25-s)\n",
        "  gambler.policy[s+75] = min(s, 25-s)\n",
        "gambler.policy[25] = 25\n",
        "gambler.policy[50] = 50\n",
        "gambler.policy[75] = 25"
      ],
      "execution_count": 0,
      "outputs": []
    },
    {
      "cell_type": "markdown",
      "metadata": {
        "colab_type": "text",
        "id": "Xl5kLS1uMvIy"
      },
      "source": [
        "**[GOP-13]**\n",
        "\n",
        "Play the game for 10,000,000 times to estimate the value function."
      ]
    },
    {
      "cell_type": "code",
      "metadata": {
        "id": "F_e9SE072ksn",
        "colab_type": "code",
        "outputId": "87f5f8a5-acd1-4fac-b344-98166d5dfcc6",
        "colab": {
          "base_uri": "https://localhost:8080/",
          "height": 51
        }
      },
      "source": [
        "%%time\n",
        "train(gambler, num=10000000)"
      ],
      "execution_count": 0,
      "outputs": [
        {
          "output_type": "stream",
          "text": [
            "CPU times: user 45.7 s, sys: 10 ms, total: 45.7 s\n",
            "Wall time: 46 s\n"
          ],
          "name": "stdout"
        }
      ]
    },
    {
      "cell_type": "markdown",
      "metadata": {
        "colab_type": "text",
        "id": "tugPUo9bMrBS"
      },
      "source": [
        "**[GOP-14]**\n",
        "\n",
        "Show the action policy and the estimated value function."
      ]
    },
    {
      "cell_type": "code",
      "metadata": {
        "id": "9zFrLPtu2lw_",
        "colab_type": "code",
        "outputId": "28a730cb-2a87-4cb2-aa75-5f41441acf39",
        "colab": {
          "base_uri": "https://localhost:8080/",
          "height": 285
        }
      },
      "source": [
        "show_result(gambler)"
      ],
      "execution_count": 0,
      "outputs": [
        {
          "output_type": "display_data",
          "data": {
            "image/png": "[encoded data removed]",
            "text/plain": [
              "<Figure size 1008x288 with 2 Axes>"
            ]
          },
          "metadata": {
            "tags": []
          }
        }
      ]
    }
  ]
}
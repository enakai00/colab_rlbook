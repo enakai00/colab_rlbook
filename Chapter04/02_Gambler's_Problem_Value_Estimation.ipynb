{
  "nbformat": 4,
  "nbformat_minor": 0,
  "metadata": {
    "colab": {
      "name": "02 Gambler's Problem Value Estimation.ipynb",
      "provenance": [],
      "authorship_tag": "ABX9TyOYPJiG70KgrgS+H7B+nYAJ",
      "include_colab_link": true
    },
    "kernelspec": {
      "name": "python3",
      "display_name": "Python 3"
    }
  },
  "cells": [
    {
      "cell_type": "markdown",
      "metadata": {
        "id": "view-in-github",
        "colab_type": "text"
      },
      "source": [
        "<a href=\"https://colab.research.google.com/github/enakai00/colab_rlbook/blob/master/Chapter04/02_Gambler's_Problem_Value_Estimation.ipynb\" target=\"_parent\"><img src=\"https://colab.research.google.com/assets/colab-badge.svg\" alt=\"Open In Colab\"/></a>"
      ]
    },
    {
      "cell_type": "markdown",
      "metadata": {
        "id": "0LvkgMBB7kS3",
        "colab_type": "text"
      },
      "source": [
        "**[GVE-01]**\n",
        "\n",
        "Import modules."
      ]
    },
    {
      "cell_type": "code",
      "metadata": {
        "id": "SnShf8y4FOYk",
        "colab_type": "code",
        "colab": {}
      },
      "source": [
        "import numpy as np\n",
        "import matplotlib.pyplot as plt\n",
        "import matplotlib\n",
        "matplotlib.rcParams['font.size'] = 12"
      ],
      "execution_count": 0,
      "outputs": []
    },
    {
      "cell_type": "markdown",
      "metadata": {
        "id": "zdm0zOo87rMe",
        "colab_type": "text"
      },
      "source": [
        "**[GVE-02]**\n",
        "\n",
        "Define the Gambler class to simulate the game."
      ]
    },
    {
      "cell_type": "code",
      "metadata": {
        "id": "XQor7flHFUY4",
        "colab_type": "code",
        "colab": {}
      },
      "source": [
        "class Gambler:\n",
        "  def __init__(self, goal=100, win_rate=0.4):\n",
        "    self.goal = goal\n",
        "    self.win_rate = win_rate\n",
        "    self.states = range(goal+1)\n",
        "\n",
        "    self.policy = {}  # Define later\n",
        "\n",
        "    self.values = {}\n",
        "    self.cnt = {}\n",
        "    for s in self.states:\n",
        "      self.values[s] = 0\n",
        "      self.cnt[s] = 0\n",
        "\n",
        "  def play(self, s, a):\n",
        "    if s == 0 or s == self.goal:\n",
        "      return 0, s       # Reward, Next state\n",
        "\n",
        "    if np.random.random() < self.win_rate:  # Win\n",
        "      s = min(self.goal, s + a)\n",
        "      if s == self.goal:\n",
        "        return 1, s    # Reward, Next state\n",
        "      return 0, s      # Reward, Next state\n",
        "    else:                                   # Lose\n",
        "      s -= a\n",
        "      if s == 0:\n",
        "        return -1, s  # Reward, Next state \n",
        "      return 0, s     # Reward, Next state"
      ],
      "execution_count": 0,
      "outputs": []
    },
    {
      "cell_type": "markdown",
      "metadata": {
        "id": "eKSMSWSR70Eo",
        "colab_type": "text"
      },
      "source": [
        "**[GVE-03]**\n",
        "\n",
        "Define a function to show the action policy and the value function."
      ]
    },
    {
      "cell_type": "code",
      "metadata": {
        "id": "bTsO_MGMWXUl",
        "colab_type": "code",
        "colab": {}
      },
      "source": [
        "def show_result(gambler):\n",
        "  fig = plt.figure(figsize=(14, 4))\n",
        "  linex = range(1, gambler.goal)\n",
        "\n",
        "  subplot = fig.add_subplot(1, 2, 1)\n",
        "  liney = [gambler.policy[s] for s in linex]\n",
        "  subplot.plot(linex, liney)\n",
        "  subplot.set_ylim([0, 100])\n",
        "  subplot.set_title('Policy')\n",
        "\n",
        "  subplot = fig.add_subplot(1, 2, 2)\n",
        "  liney = [gambler.values[s] for s in linex]\n",
        "  subplot.plot(linex, liney)\n",
        "  subplot.set_ylim([-1, 1])\n",
        "  subplot.set_title('Value')"
      ],
      "execution_count": 0,
      "outputs": []
    },
    {
      "cell_type": "markdown",
      "metadata": {
        "id": "aRD5Y1gO8BsZ",
        "colab_type": "text"
      },
      "source": [
        "**[GVE-04]**\n",
        "\n",
        "Define a function to play the game for a single episode."
      ]
    },
    {
      "cell_type": "code",
      "metadata": {
        "id": "HY2JIbmc33Ry",
        "colab_type": "code",
        "colab": {}
      },
      "source": [
        "def get_episode(gambler):\n",
        "  episode = []\n",
        "  s = np.random.randint(1, gambler.goal)\n",
        "  while True:\n",
        "    a = gambler.policy[s]\n",
        "    r, s_new = gambler.play(s, a)\n",
        "    episode.append((s, a, r))\n",
        "    if s_new == 0 or s_new == gambler.goal:\n",
        "      break\n",
        "    s = s_new\n",
        "  return episode"
      ],
      "execution_count": 0,
      "outputs": []
    },
    {
      "cell_type": "markdown",
      "metadata": {
        "id": "3j4LDvWD8NrN",
        "colab_type": "text"
      },
      "source": [
        "**[GVE-05]**\n",
        "\n",
        "Define a function to estimate the value function."
      ]
    },
    {
      "cell_type": "code",
      "metadata": {
        "id": "pOPDvFYa5MPP",
        "colab_type": "code",
        "colab": {}
      },
      "source": [
        "def train(gambler, num):\n",
        "  c = 0\n",
        "  while c < num:\n",
        "    episode = get_episode(gambler)\n",
        "    episode.reverse()\n",
        "    total_r = 0\n",
        "    for (s, a, r) in episode:\n",
        "      total_r += r\n",
        "      gambler.cnt[s] += 1\n",
        "      gambler.values[s] += (total_r - gambler.values[s]) / gambler.cnt[s]\n",
        "    c += len(episode)"
      ],
      "execution_count": 0,
      "outputs": []
    },
    {
      "cell_type": "markdown",
      "metadata": {
        "id": "Fy3coc9e8YnV",
        "colab_type": "text"
      },
      "source": [
        "**[GVE-06]**\n",
        "\n",
        "Create a Gambler instance and initialize the action policy to alwasys bet 1."
      ]
    },
    {
      "cell_type": "code",
      "metadata": {
        "id": "9r9RJhE88qmh",
        "colab_type": "code",
        "colab": {}
      },
      "source": [
        "gambler = Gambler()\n",
        "for s in gambler.states:\n",
        "  gambler.policy[s] = 1"
      ],
      "execution_count": 0,
      "outputs": []
    },
    {
      "cell_type": "markdown",
      "metadata": {
        "id": "AQi-GP0m8sBX",
        "colab_type": "text"
      },
      "source": [
        "**[GVE-07]**\n",
        "\n",
        "Play the game for 10,000,000 times to estimate the value function."
      ]
    },
    {
      "cell_type": "code",
      "metadata": {
        "id": "NHSP7bIh837E",
        "colab_type": "code",
        "outputId": "fdd86a99-cad8-448c-c6fd-1029f8a8d412",
        "colab": {
          "base_uri": "https://localhost:8080/",
          "height": 51
        }
      },
      "source": [
        "%%time\n",
        "train(gambler, num=10000000)"
      ],
      "execution_count": 0,
      "outputs": [
        {
          "output_type": "stream",
          "text": [
            "CPU times: user 14.3 s, sys: 7 ms, total: 14.4 s\n",
            "Wall time: 14.5 s\n"
          ],
          "name": "stdout"
        }
      ]
    },
    {
      "cell_type": "markdown",
      "metadata": {
        "id": "jnShW4a484Va",
        "colab_type": "text"
      },
      "source": [
        "**[GVE-08]**\n",
        "\n",
        "Show the action policy and the estimated value function."
      ]
    },
    {
      "cell_type": "code",
      "metadata": {
        "id": "VcNVOzzv9tVA",
        "colab_type": "code",
        "outputId": "3b64a16e-e26f-44c6-86bf-e44a512bb908",
        "colab": {
          "base_uri": "https://localhost:8080/",
          "height": 285
        }
      },
      "source": [
        "show_result(gambler)"
      ],
      "execution_count": 0,
      "outputs": [
        {
          "output_type": "display_data",
          "data": {
            "image/png": "[encoded data removed]",
            "text/plain": [
              "<Figure size 1008x288 with 2 Axes>"
            ]
          },
          "metadata": {
            "tags": []
          }
        }
      ]
    },
    {
      "cell_type": "markdown",
      "metadata": {
        "id": "PdHrrpk29XNq",
        "colab_type": "text"
      },
      "source": [
        "**[GVE-09]**\n",
        "\n",
        "Create a Gambler instance and initialize the action policy to bet all points."
      ]
    },
    {
      "cell_type": "code",
      "metadata": {
        "id": "03svVsQhTFYh",
        "colab_type": "code",
        "colab": {}
      },
      "source": [
        "gambler = Gambler()\n",
        "for s in gambler.states:\n",
        "  gambler.policy[s] = s"
      ],
      "execution_count": 0,
      "outputs": []
    },
    {
      "cell_type": "markdown",
      "metadata": {
        "id": "jxkCzThq9ffQ",
        "colab_type": "text"
      },
      "source": [
        "**[GVE-10]**\n",
        "\n",
        "Play the game for 10,000,000 times to estimate the value function."
      ]
    },
    {
      "cell_type": "code",
      "metadata": {
        "id": "TV9OtB8jTIMj",
        "colab_type": "code",
        "outputId": "cf4736e0-1b79-4c82-81ec-195f2c6e5510",
        "colab": {
          "base_uri": "https://localhost:8080/",
          "height": 51
        }
      },
      "source": [
        "%%time\n",
        "train(gambler, num=10000000)"
      ],
      "execution_count": 0,
      "outputs": [
        {
          "output_type": "stream",
          "text": [
            "CPU times: user 1min 17s, sys: 8 ms, total: 1min 17s\n",
            "Wall time: 1min 17s\n"
          ],
          "name": "stdout"
        }
      ]
    },
    {
      "cell_type": "markdown",
      "metadata": {
        "id": "sGD5C3mJ9Iku",
        "colab_type": "text"
      },
      "source": [
        "**[GVE-11]**\n",
        "\n",
        "Show the action policy and the estimated value function."
      ]
    },
    {
      "cell_type": "code",
      "metadata": {
        "id": "EWZddaZ7TJys",
        "colab_type": "code",
        "outputId": "8f43f98c-6708-48ae-c3f1-0432fc2323b2",
        "colab": {
          "base_uri": "https://localhost:8080/",
          "height": 285
        }
      },
      "source": [
        "show_result(gambler)"
      ],
      "execution_count": 0,
      "outputs": [
        {
          "output_type": "display_data",
          "data": {
            "image/png": "[encoded data removed]",
            "text/plain": [
              "<Figure size 1008x288 with 2 Axes>"
            ]
          },
          "metadata": {
            "tags": []
          }
        }
      ]
    },
    {
      "cell_type": "markdown",
      "metadata": {
        "id": "Pmpe5Ltf9oc_",
        "colab_type": "text"
      },
      "source": [
        "**[GVE-12]**\n",
        "\n",
        "Create a Gambler instance and initialize the action policy to bet minimum points to reach 100."
      ]
    },
    {
      "cell_type": "code",
      "metadata": {
        "id": "16s0X7F0ULsQ",
        "colab_type": "code",
        "colab": {}
      },
      "source": [
        "gambler = Gambler()\n",
        "for s in gambler.states:\n",
        "  gambler.policy[s] = min(s, gambler.goal-s)"
      ],
      "execution_count": 0,
      "outputs": []
    },
    {
      "cell_type": "markdown",
      "metadata": {
        "id": "aFC60B7Q9hh7",
        "colab_type": "text"
      },
      "source": [
        "**[GVE-13]**\n",
        "\n",
        "Play the game for 10,000,000 times to estimate the value function."
      ]
    },
    {
      "cell_type": "code",
      "metadata": {
        "id": "zD4DPC93UoMU",
        "colab_type": "code",
        "outputId": "d5a5bd90-d98e-4500-8f85-c0ee71ae1465",
        "colab": {
          "base_uri": "https://localhost:8080/",
          "height": 51
        }
      },
      "source": [
        "%%time\n",
        "train(gambler, num=10000000)"
      ],
      "execution_count": 0,
      "outputs": [
        {
          "output_type": "stream",
          "text": [
            "CPU times: user 55.2 s, sys: 9.01 ms, total: 55.2 s\n",
            "Wall time: 55.6 s\n"
          ],
          "name": "stdout"
        }
      ]
    },
    {
      "cell_type": "markdown",
      "metadata": {
        "id": "v2ZCoX3l9Kz_",
        "colab_type": "text"
      },
      "source": [
        "**[GVE-14]**\n",
        "\n",
        "Show the action policy and the estimated value function."
      ]
    },
    {
      "cell_type": "code",
      "metadata": {
        "id": "34_JFvN3Uo3m",
        "colab_type": "code",
        "outputId": "4b1d9613-533d-46a2-efbe-399ce4ad121d",
        "colab": {
          "base_uri": "https://localhost:8080/",
          "height": 285
        }
      },
      "source": [
        "show_result(gambler)"
      ],
      "execution_count": 0,
      "outputs": [
        {
          "output_type": "display_data",
          "data": {
            "image/png": "[encoded data removed]",
            "text/plain": [
              "<Figure size 1008x288 with 2 Axes>"
            ]
          },
          "metadata": {
            "tags": []
          }
        }
      ]
    }
  ]
}
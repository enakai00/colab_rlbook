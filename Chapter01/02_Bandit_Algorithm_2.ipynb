{
  "nbformat": 4,
  "nbformat_minor": 0,
  "metadata": {
    "colab": {
      "name": "02 Bandit Algorithm-2.ipynb",
      "provenance": [],
      "collapsed_sections": [],
      "include_colab_link": true
    },
    "kernelspec": {
      "name": "python3",
      "display_name": "Python 3"
    }
  },
  "cells": [
    {
      "cell_type": "markdown",
      "metadata": {
        "id": "view-in-github",
        "colab_type": "text"
      },
      "source": [
        "<a href=\"https://colab.research.google.com/github/enakai00/colab_rlbook/blob/master/Chapter01/02_Bandit_Algorithm_2.ipynb\" target=\"_parent\"><img src=\"https://colab.research.google.com/assets/colab-badge.svg\" alt=\"Open In Colab\"/></a>"
      ]
    },
    {
      "cell_type": "markdown",
      "metadata": {
        "id": "Q7WfzCajCtqu",
        "colab_type": "text"
      },
      "source": [
        "**[BA2-01]**\n",
        "\n",
        "Import modules."
      ]
    },
    {
      "cell_type": "code",
      "metadata": {
        "id": "-8IWbaVwQ211",
        "colab_type": "code",
        "colab": {}
      },
      "source": [
        "import numpy as np\n",
        "from pandas import DataFrame\n",
        "import matplotlib\n",
        "matplotlib.rcParams['font.size'] = 12"
      ],
      "execution_count": 0,
      "outputs": []
    },
    {
      "cell_type": "markdown",
      "metadata": {
        "id": "EEN_i3DdDRU1",
        "colab_type": "text"
      },
      "source": [
        "**[BA2-02]**\n",
        "\n",
        "Define the Bandit class."
      ]
    },
    {
      "cell_type": "code",
      "metadata": {
        "id": "fQhRTF0kLS_B",
        "colab_type": "code",
        "colab": {}
      },
      "source": [
        "class Bandit:\n",
        "  def __init__(self, arms=10):\n",
        "    self.arms = arms\n",
        "    self.means = np.zeros(self.arms)\n",
        "\n",
        "  def select(self, arm):\n",
        "    reward = np.random.normal(loc=self.means[arm], scale=1.0)\n",
        "    # Add random values to the means.\n",
        "    self.means += np.random.normal(loc=0.0, scale=0.01, size=self.arms)\n",
        "    return reward"
      ],
      "execution_count": 0,
      "outputs": []
    },
    {
      "cell_type": "markdown",
      "metadata": {
        "id": "rWuXEgyhgJhd",
        "colab_type": "text"
      },
      "source": [
        "**[BA2-03]**\n",
        "\n",
        "Define a function to choose an action with the ε-greedy policy."
      ]
    },
    {
      "cell_type": "code",
      "metadata": {
        "id": "96gPBQXwmTd3",
        "colab_type": "code",
        "colab": {}
      },
      "source": [
        "def get_action(qs, epsilon):\n",
        "  if np.random.random() < epsilon:\n",
        "    # Explore: choose randomly.\n",
        "    return np.random.randint(len(qs))\n",
        "  else:\n",
        "    # Exploit: choose the arm with the max average.\n",
        "    return np.argmax(qs)"
      ],
      "execution_count": 0,
      "outputs": []
    },
    {
      "cell_type": "markdown",
      "metadata": {
        "id": "OaY0pRZeOIXE",
        "colab_type": "text"
      },
      "source": [
        "**[BA2-04]**\n",
        "\n",
        "Define a function to run an episode."
      ]
    },
    {
      "cell_type": "code",
      "metadata": {
        "id": "Yb9u5WXMK8Lp",
        "colab_type": "code",
        "colab": {}
      },
      "source": [
        "def episode(bandit, alpha, steps):\n",
        "  total_rewards = [0]\n",
        "  qs = [0] * bandit.arms\n",
        "  count = [0] * bandit.arms\n",
        "\n",
        "  for _ in range(steps):\n",
        "    arm = get_action(qs, epsilon=0.1)\n",
        "    reward = bandit.select(arm)\n",
        "    # Append total rewards\n",
        "    total_rewards.append(total_rewards[-1] + reward)\n",
        "\n",
        "    # Update an estimate of the mean.\n",
        "    if alpha == 0: # Use an average to estimate the mean.\n",
        "      count[arm] += 1\n",
        "      qs[arm] += (reward - qs[arm]) / count[arm]\n",
        "    else: # Update an estimate with a constant weight.\n",
        "      qs[arm] += alpha * (reward - qs[arm])\n",
        "\n",
        "  return total_rewards"
      ],
      "execution_count": 0,
      "outputs": []
    },
    {
      "cell_type": "markdown",
      "metadata": {
        "id": "skaKFwecQ7EX",
        "colab_type": "text"
      },
      "source": [
        "**[BA2-05]**\n",
        "\n",
        "Run episodes with various alphas."
      ]
    },
    {
      "cell_type": "code",
      "metadata": {
        "id": "K5wNAgN9vFks",
        "colab_type": "code",
        "outputId": "5035e3f8-ba96-4406-ec11-b971c4ec1f78",
        "colab": {
          "base_uri": "https://localhost:8080/",
          "height": 285
        }
      },
      "source": [
        "rewards = {}\n",
        "for alpha in [0, 0.1, 0.5, 0.9]:\n",
        "  bandit = Bandit()\n",
        "  rewards['α={}'.format(alpha)] = episode(bandit, alpha, steps=2000)\n",
        "\n",
        "ax = DataFrame(rewards).plot()\n",
        "_ = ax.set_xlabel('Step')\n",
        "_ = ax.set_ylabel('Total rewards')"
      ],
      "execution_count": 10,
      "outputs": [
        {
          "output_type": "display_data",
          "data": {
            "image/png": "[encoded data removed]",
            "text/plain": [
              "<Figure size 432x288 with 1 Axes>"
            ]
          },
          "metadata": {
            "tags": []
          }
        }
      ]
    },
    {
      "cell_type": "markdown",
      "metadata": {
        "id": "wRoUZGRxggEO",
        "colab_type": "text"
      },
      "source": [
        "**[BA2-06]**\n",
        "\n",
        "Define a function to apply the grid search for α."
      ]
    },
    {
      "cell_type": "code",
      "metadata": {
        "id": "QESvfq6eOUED",
        "colab_type": "code",
        "colab": {}
      },
      "source": [
        "def hypertune(values, num_samples):\n",
        "  rewards = {}\n",
        "  for alpha in values:\n",
        "    scores = []\n",
        "    for _ in range(num_samples):\n",
        "      bandit = Bandit() # Prepare a new environment.\n",
        "      result = episode(bandit, alpha, steps=2000)\n",
        "      scores.append(result[-1]) # Append the final (total) reward.\n",
        "    rewards['{:1.1f}'.format(alpha)] = scores\n",
        "\n",
        "  ax = DataFrame(rewards).plot(kind='box', figsize=(6, 8))\n",
        "  _ = ax.set_xlabel('α')\n",
        "  _ = ax.set_ylabel('Total rewards')"
      ],
      "execution_count": 0,
      "outputs": []
    },
    {
      "cell_type": "markdown",
      "metadata": {
        "id": "V6qvt2UzgnQT",
        "colab_type": "text"
      },
      "source": [
        "**[BA2-07]**\n",
        "\n",
        "Apply the grid search and show results with box plots."
      ]
    },
    {
      "cell_type": "code",
      "metadata": {
        "id": "ugZXYKFyOhN4",
        "colab_type": "code",
        "colab": {
          "base_uri": "https://localhost:8080/",
          "height": 503
        },
        "outputId": "cee5f43a-feeb-4466-ca79-29694fa0a66f"
      },
      "source": [
        "hypertune(np.linspace(0, 1.0, 11).tolist(), 100)"
      ],
      "execution_count": 11,
      "outputs": [
        {
          "output_type": "display_data",
          "data": {
            "image/png": "[encoded data removed]",
            "text/plain": [
              "<Figure size 432x576 with 1 Axes>"
            ]
          },
          "metadata": {
            "tags": []
          }
        }
      ]
    }
  ]
}
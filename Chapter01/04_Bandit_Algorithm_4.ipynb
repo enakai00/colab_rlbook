{
  "nbformat": 4,
  "nbformat_minor": 0,
  "metadata": {
    "colab": {
      "name": "04 Bandit Algorithm-4.ipynb",
      "provenance": [],
      "collapsed_sections": [],
      "include_colab_link": true
    },
    "kernelspec": {
      "name": "python3",
      "display_name": "Python 3"
    }
  },
  "cells": [
    {
      "cell_type": "markdown",
      "metadata": {
        "id": "view-in-github",
        "colab_type": "text"
      },
      "source": [
        "<a href=\"https://colab.research.google.com/github/enakai00/colab_rlbook/blob/master/Chapter01/04_Bandit_Algorithm_4.ipynb\" target=\"_parent\"><img src=\"https://colab.research.google.com/assets/colab-badge.svg\" alt=\"Open In Colab\"/></a>"
      ]
    },
    {
      "cell_type": "markdown",
      "metadata": {
        "id": "Q7WfzCajCtqu",
        "colab_type": "text"
      },
      "source": [
        "**[BA4-01]**\n",
        "\n",
        "Import modules."
      ]
    },
    {
      "cell_type": "code",
      "metadata": {
        "id": "-8IWbaVwQ211",
        "colab_type": "code",
        "colab": {}
      },
      "source": [
        "import numpy as np\n",
        "from pandas import DataFrame\n",
        "import matplotlib\n",
        "matplotlib.rcParams['font.size'] = 12"
      ],
      "execution_count": 0,
      "outputs": []
    },
    {
      "cell_type": "markdown",
      "metadata": {
        "id": "EEN_i3DdDRU1",
        "colab_type": "text"
      },
      "source": [
        "**[BA4-02]**\n",
        "\n",
        "Define the Bandit class."
      ]
    },
    {
      "cell_type": "code",
      "metadata": {
        "id": "fQhRTF0kLS_B",
        "colab_type": "code",
        "colab": {}
      },
      "source": [
        "class Bandit:\n",
        "  def __init__(self, arms=10):\n",
        "    self.arms = arms\n",
        "    self.means = np.linspace(-2, 1.5, arms)\n",
        "\n",
        "  def select(self, arm):\n",
        "    reward = np.random.normal(loc=self.means[arm], scale=1.0)\n",
        "    return reward"
      ],
      "execution_count": 0,
      "outputs": []
    },
    {
      "cell_type": "markdown",
      "metadata": {
        "id": "OaY0pRZeOIXE",
        "colab_type": "text"
      },
      "source": [
        "**[BA4-03]**\n",
        "\n",
        "Define a function to choose an action with the ε-greedy policy."
      ]
    },
    {
      "cell_type": "code",
      "metadata": {
        "id": "96gPBQXwmTd3",
        "colab_type": "code",
        "colab": {}
      },
      "source": [
        "def get_action(qs, epsilon):\n",
        "  if np.random.random() < epsilon:\n",
        "    # Explore: choose randomly.\n",
        "    return np.random.randint(len(qs))\n",
        "  else:\n",
        "    # Exploit: choose the arm with the max average.\n",
        "    return np.argmax(qs)"
      ],
      "execution_count": 0,
      "outputs": []
    },
    {
      "cell_type": "markdown",
      "metadata": {
        "id": "zVEIAPOsWjm9",
        "colab_type": "text"
      },
      "source": [
        "**[BA4-04]**\n",
        "\n",
        "Define a function to run an episode with recording estimates."
      ]
    },
    {
      "cell_type": "code",
      "metadata": {
        "id": "Yb9u5WXMK8Lp",
        "colab_type": "code",
        "colab": {}
      },
      "source": [
        "def episode(bandit, alpha, steps):\n",
        "  qs = [0] * bandit.arms\n",
        "  count = [0] * bandit.arms\n",
        "  qs_hist = {}\n",
        "  # Initialize qs_hist with empty lists.\n",
        "  for arm in range(bandit.arms):\n",
        "    qs_hist[arm] = []\n",
        " \n",
        "  for _ in range(steps):\n",
        "    arm = get_action(qs, epsilon=0.1)\n",
        "    reward = bandit.select(arm)\n",
        "\n",
        "    # Update an estimate of the mean.\n",
        "    count[arm] += 1\n",
        "    qs[arm] += (reward - qs[arm]) / count[arm]\n",
        "\n",
        "    # Record the estimates of means\n",
        "    for arm in range(bandit.arms):\n",
        "      qs_hist[arm].append(qs[arm])\n",
        "\n",
        "  return qs_hist"
      ],
      "execution_count": 0,
      "outputs": []
    },
    {
      "cell_type": "markdown",
      "metadata": {
        "id": "skaKFwecQ7EX",
        "colab_type": "text"
      },
      "source": [
        "**[BA4-05]**\n",
        "\n",
        "Run an epsisode."
      ]
    },
    {
      "cell_type": "code",
      "metadata": {
        "id": "K5wNAgN9vFks",
        "colab_type": "code",
        "outputId": "05f0199f-06fd-4429-8947-50c80d5a336a",
        "colab": {
          "base_uri": "https://localhost:8080/",
          "height": 411
        }
      },
      "source": [
        "bandit = Bandit()\n",
        "\n",
        "qs_hist = episode(bandit, alpha=0, steps=1000)\n",
        "ax = DataFrame(qs_hist).plot(title='Average estimation',\n",
        "                             figsize=(6, 6), legend=False)\n",
        "_ = ax.set_xlabel('Step')\n",
        "_ = ax.set_ylabel('Estimate of μ')"
      ],
      "execution_count": 35,
      "outputs": [
        {
          "output_type": "display_data",
          "data": {
            "image/png": "[encoded data removed]",
            "text/plain": [
              "<Figure size 432x432 with 1 Axes>"
            ]
          },
          "metadata": {
            "tags": []
          }
        }
      ]
    }
  ]
}
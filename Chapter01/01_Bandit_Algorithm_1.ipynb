{
  "nbformat": 4,
  "nbformat_minor": 0,
  "metadata": {
    "colab": {
      "name": "01 Bandit Algorithm-1.ipynb",
      "provenance": [],
      "collapsed_sections": [],
      "include_colab_link": true
    },
    "kernelspec": {
      "name": "python3",
      "display_name": "Python 3"
    }
  },
  "cells": [
    {
      "cell_type": "markdown",
      "metadata": {
        "id": "view-in-github",
        "colab_type": "text"
      },
      "source": [
        "<a href=\"https://colab.research.google.com/github/enakai00/colab_rlbook/blob/master/Chapter01/01_Bandit_Algorithm_1.ipynb\" target=\"_parent\"><img src=\"https://colab.research.google.com/assets/colab-badge.svg\" alt=\"Open In Colab\"/></a>"
      ]
    },
    {
      "cell_type": "markdown",
      "metadata": {
        "id": "Q7WfzCajCtqu",
        "colab_type": "text"
      },
      "source": [
        "**[BA-01]**\n",
        "\n",
        "Import modules."
      ]
    },
    {
      "cell_type": "code",
      "metadata": {
        "id": "-8IWbaVwQ211",
        "colab_type": "code",
        "colab": {}
      },
      "source": [
        "import numpy as np\n",
        "from pandas import DataFrame\n",
        "import matplotlib\n",
        "matplotlib.rcParams['font.size'] = 12"
      ],
      "execution_count": 0,
      "outputs": []
    },
    {
      "cell_type": "markdown",
      "metadata": {
        "id": "EEN_i3DdDRU1",
        "colab_type": "text"
      },
      "source": [
        "**[BA-02]**\n",
        "\n",
        "Define the Bandit class."
      ]
    },
    {
      "cell_type": "code",
      "metadata": {
        "id": "fQhRTF0kLS_B",
        "colab_type": "code",
        "colab": {}
      },
      "source": [
        "class Bandit:\n",
        "  def __init__(self, arms=10):\n",
        "    self.arms = arms\n",
        "    self.means = np.random.normal(loc=0.0, scale=1.0, size=self.arms)\n",
        "\n",
        "  def select(self, arm):\n",
        "    reward = np.random.normal(loc=self.means[arm], scale=1.0)\n",
        "    return reward\n",
        "  \n",
        "  def disturb(self):\n",
        "    self.means += np.random.normal(loc=0.0, scale=0.05, size=self.arms)"
      ],
      "execution_count": 0,
      "outputs": []
    },
    {
      "cell_type": "markdown",
      "metadata": {
        "id": "llLEk8alL4p1",
        "colab_type": "text"
      },
      "source": [
        "**[BA-03]**\n",
        "\n",
        "Define a funtion to collect samples to estimate the means."
      ]
    },
    {
      "cell_type": "code",
      "metadata": {
        "id": "ggcPCoPklp48",
        "colab_type": "code",
        "colab": {}
      },
      "source": [
        "def estimate_means(bandit, steps):\n",
        "  rewards = {}\n",
        "  for arm in range(bandit.arms):\n",
        "    rewards[arm] = []\n",
        "\n",
        "  for _ in range(steps):\n",
        "    arm = np.random.randint(bandit.arms)\n",
        "    reward = bandit.select(arm)\n",
        "    rewards[arm].append(reward)\n",
        "\n",
        "  averages = []\n",
        "  for arm in range(bandit.arms):\n",
        "    averages.append(sum(rewards[arm]) / len(rewards[arm]))\n",
        "\n",
        "  return averages"
      ],
      "execution_count": 0,
      "outputs": []
    },
    {
      "cell_type": "markdown",
      "metadata": {
        "id": "VcJeoAdtMKH2",
        "colab_type": "text"
      },
      "source": [
        "**[BA-04]**\n",
        "\n",
        "Execute estimation and show the result."
      ]
    },
    {
      "cell_type": "code",
      "metadata": {
        "id": "KHdpren7osW0",
        "colab_type": "code",
        "outputId": "959b2141-abf6-4bc8-e300-ed4b8ddb53a1",
        "colab": {
          "base_uri": "https://localhost:8080/",
          "height": 280
        }
      },
      "source": [
        "bandit = Bandit()\n",
        "estimates = estimate_means(bandit, steps=1000)\n",
        "\n",
        "ax = DataFrame({'Estimate': estimates, 'Mean': bandit.means}).plot(kind='bar')\n",
        "_ = ax.set_xlabel('arm')\n",
        "_ = ax.set_ylabel('Reward')"
      ],
      "execution_count": 17,
      "outputs": [
        {
          "output_type": "display_data",
          "data": {
            "image/png": "[encoded data removed]",
            "text/plain": [
              "<Figure size 432x288 with 1 Axes>"
            ]
          },
          "metadata": {
            "tags": []
          }
        }
      ]
    },
    {
      "cell_type": "markdown",
      "metadata": {
        "id": "OaY0pRZeOIXE",
        "colab_type": "text"
      },
      "source": [
        "**[BA-05]**\n",
        "\n",
        "Define a function to choose an action with the ε-greedy policy."
      ]
    },
    {
      "cell_type": "code",
      "metadata": {
        "id": "96gPBQXwmTd3",
        "colab_type": "code",
        "colab": {}
      },
      "source": [
        "def get_action(qs, epsilon):\n",
        "  if np.random.random() < epsilon:\n",
        "    # Explore: choose randomly.\n",
        "    return np.random.randint(len(qs))\n",
        "  else:\n",
        "    # Exploit: choose the arm with the max average.\n",
        "    return np.argmax(qs)"
      ],
      "execution_count": 0,
      "outputs": []
    },
    {
      "cell_type": "markdown",
      "metadata": {
        "id": "zVEIAPOsWjm9",
        "colab_type": "text"
      },
      "source": [
        "**[BA-06]**\n",
        "\n",
        "Define a function to run an episode."
      ]
    },
    {
      "cell_type": "code",
      "metadata": {
        "id": "Yb9u5WXMK8Lp",
        "colab_type": "code",
        "colab": {}
      },
      "source": [
        "def episode(bandit, epsilon, steps):\n",
        "  total_rewards = [0]\n",
        "  qs = [0] * bandit.arms\n",
        "  count = [0] * bandit.arms\n",
        " \n",
        "  for _ in range(steps):\n",
        "    arm = get_action(qs, epsilon)\n",
        "    reward = bandit.select(arm)\n",
        "    # Append total rewards\n",
        "    total_rewards.append(total_rewards[-1] + reward)\n",
        "\n",
        "    # Update an average of rewards.\n",
        "    count[arm] += 1\n",
        "    qs[arm] += (reward - qs[arm]) / count[arm]\n",
        "\n",
        "  return total_rewards"
      ],
      "execution_count": 0,
      "outputs": []
    },
    {
      "cell_type": "markdown",
      "metadata": {
        "id": "skaKFwecQ7EX",
        "colab_type": "text"
      },
      "source": [
        "**[BA-07]**\n",
        "\n",
        "Run episodes with various epsilons."
      ]
    },
    {
      "cell_type": "code",
      "metadata": {
        "id": "K5wNAgN9vFks",
        "colab_type": "code",
        "outputId": "c0066500-85c0-4bfa-9016-e361539b45ce",
        "colab": {
          "base_uri": "https://localhost:8080/",
          "height": 289
        }
      },
      "source": [
        "bandit = Bandit()\n",
        "rewards = {}\n",
        "for epsilon in [1.0, 0.5, 0.1]:\n",
        "  rewards['ε={}'.format(epsilon)] = episode(bandit, epsilon, steps=200)\n",
        "\n",
        "ax = DataFrame(rewards).plot()\n",
        "_ = ax.set_xlabel('Step')\n",
        "_ = ax.set_ylabel('Total rewards')"
      ],
      "execution_count": 18,
      "outputs": [
        {
          "output_type": "display_data",
          "data": {
            "image/png": "[encoded data removed]",
            "text/plain": [
              "<Figure size 432x288 with 1 Axes>"
            ]
          },
          "metadata": {
            "tags": []
          }
        }
      ]
    },
    {
      "cell_type": "markdown",
      "metadata": {
        "id": "WMs8wamdWxJQ",
        "colab_type": "text"
      },
      "source": [
        "**[BA-08]**\n",
        "\n",
        "Define a function to apply the grid search for ε."
      ]
    },
    {
      "cell_type": "code",
      "metadata": {
        "id": "OiEiMxcKRq0F",
        "colab_type": "code",
        "colab": {}
      },
      "source": [
        "def hypertune(values, num_samples):\n",
        "  rewards = {}\n",
        "  for epsilon in values:\n",
        "    scores = []\n",
        "    for _ in range(num_samples):\n",
        "      bandit = Bandit() # Prepare a new environment.\n",
        "      result = episode(bandit, epsilon, steps=200)\n",
        "      scores.append(result[-1]) # Append the final (total) reward.\n",
        "    rewards['{:1.2f}'.format(epsilon)] = scores\n",
        "\n",
        "  ax = DataFrame(rewards).plot(kind='box')\n",
        "  _ = ax.set_xlabel('ε')\n",
        "  _ = ax.set_ylabel('Total rewards')"
      ],
      "execution_count": 0,
      "outputs": []
    },
    {
      "cell_type": "markdown",
      "metadata": {
        "id": "afS8HEvZYpml",
        "colab_type": "text"
      },
      "source": [
        "**[BA-08]**\n",
        "\n",
        "Apply the grid search and show results with box plots."
      ]
    },
    {
      "cell_type": "code",
      "metadata": {
        "id": "T7yYcybVQltq",
        "colab_type": "code",
        "colab": {
          "base_uri": "https://localhost:8080/",
          "height": 288
        },
        "outputId": "2f0c8616-ffde-4d39-8f16-0509c6ec34de"
      },
      "source": [
        "hypertune(np.linspace(0, 1.0, 11), num_samples=1000)"
      ],
      "execution_count": 20,
      "outputs": [
        {
          "output_type": "display_data",
          "data": {
            "image/png": "[encoded data removed]",
            "text/plain": [
              "<Figure size 432x288 with 1 Axes>"
            ]
          },
          "metadata": {
            "tags": []
          }
        }
      ]
    }
  ]
}